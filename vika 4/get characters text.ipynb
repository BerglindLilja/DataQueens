{
 "cells": [
  {
   "cell_type": "code",
   "execution_count": 1,
   "metadata": {},
   "outputs": [],
   "source": [
    "import re\n",
    "import urllib.request\n",
    "import pandas as pd\n",
    "import json"
   ]
  },
  {
   "cell_type": "code",
   "execution_count": 2,
   "metadata": {},
   "outputs": [
    {
     "data": {
      "text/html": [
       "<div>\n",
       "<style scoped>\n",
       "    .dataframe tbody tr th:only-of-type {\n",
       "        vertical-align: middle;\n",
       "    }\n",
       "\n",
       "    .dataframe tbody tr th {\n",
       "        vertical-align: top;\n",
       "    }\n",
       "\n",
       "    .dataframe thead th {\n",
       "        text-align: right;\n",
       "    }\n",
       "</style>\n",
       "<table border=\"1\" class=\"dataframe\">\n",
       "  <thead>\n",
       "    <tr style=\"text-align: right;\">\n",
       "      <th></th>\n",
       "      <th>Unnamed: 0</th>\n",
       "      <th>Name</th>\n",
       "      <th>type</th>\n",
       "    </tr>\n",
       "  </thead>\n",
       "  <tbody>\n",
       "    <tr>\n",
       "      <th>0</th>\n",
       "      <td>0</td>\n",
       "      <td>Baddek</td>\n",
       "      <td>Ally</td>\n",
       "    </tr>\n",
       "    <tr>\n",
       "      <th>1</th>\n",
       "      <td>1</td>\n",
       "      <td>Bamboo</td>\n",
       "      <td>Ally</td>\n",
       "    </tr>\n",
       "    <tr>\n",
       "      <th>2</th>\n",
       "      <td>2</td>\n",
       "      <td>Banji</td>\n",
       "      <td>Ally</td>\n",
       "    </tr>\n",
       "    <tr>\n",
       "      <th>3</th>\n",
       "      <td>3</td>\n",
       "      <td>Baumar</td>\n",
       "      <td>Ally</td>\n",
       "    </tr>\n",
       "    <tr>\n",
       "      <th>4</th>\n",
       "      <td>4</td>\n",
       "      <td>Bayge</td>\n",
       "      <td>Ally</td>\n",
       "    </tr>\n",
       "  </tbody>\n",
       "</table>\n",
       "</div>"
      ],
      "text/plain": [
       "   Unnamed: 0    Name  type\n",
       "0           0  Baddek  Ally\n",
       "1           1  Bamboo  Ally\n",
       "2           2   Banji  Ally\n",
       "3           3  Baumar  Ally\n",
       "4           4   Bayge  Ally"
      ]
     },
     "execution_count": 2,
     "metadata": {},
     "output_type": "execute_result"
    }
   ],
   "source": [
    "charactersDf = pd.read_csv('charecters.csv')\n",
    "charactersDf.head()"
   ]
  },
  {
   "cell_type": "code",
   "execution_count": 3,
   "metadata": {},
   "outputs": [],
   "source": [
    "baseurl = 'https://zelda.fandom.com/api.php?'\n",
    "action = \"action=query\"\n",
    "title = \"titles=\"\n",
    "content = \"prop=revisions&rvprop=content&rvslots=*\"\n",
    "dataformat =\"format=json\"\n",
    "\n",
    "query1 = \"{}{}&{}&{}&{}\".format(baseurl, action, content, title + 'Baddek', dataformat)\n",
    "\n",
    "wikiresponse1 = urllib.request.urlopen(query1)\n",
    "wikidata1 = wikiresponse1.read()\n",
    "wikitext1 = wikidata1.decode('utf-8')\n",
    "response = json.loads(wikitext1)\n",
    "pageid =list(response['query']['pages'].keys())[0]\n",
    "responseContent = response['query']['pages'][pageid]['revisions'][0]['slots']['main']['*']\n",
    "#print('Great success')\n"
   ]
  },
  {
   "cell_type": "code",
   "execution_count": 25,
   "metadata": {},
   "outputs": [],
   "source": [
    "text_file = open(\"txt files/\" + \"Baddektest\" + \".txt\", \"wt\")\n",
    "n = text_file.write(responseContent)\n",
    "text_file.close()"
   ]
  },
  {
   "cell_type": "code",
   "execution_count": 4,
   "metadata": {},
   "outputs": [
    {
     "name": "stdout",
     "output_type": "stream",
     "text": [
      "['Baddek' 'Bamboo' 'Banji' 'Baumar' 'Bayge' 'Beedle' 'Bolson' 'Brigo'\n",
      " 'Cambo' 'Chabi' 'Chork' 'Chumin' 'Dabi' 'Daruk' 'Dauntless' 'Dinraal'\n",
      " 'Ena' 'Endai' 'Epona' 'Farosh' 'Fyson' 'Goflam' 'Greyson' 'Heehl' 'Hestu'\n",
      " 'Hudson' 'Hylia' 'Kabetta' 'Kanny' 'Kapson' 'Karson' 'Kass' 'Kenyo'\n",
      " 'Kilton' 'Leekah' 'Link' 'Meeshy' 'Meghyn' 'Mei' 'Mils' 'Mina' 'Mipha'\n",
      " 'Misko' 'Nat' 'Naydra' 'Nazbi' 'Pelison' 'Pikango' 'Regan' 'Revali'\n",
      " 'Rhondson' 'Rik' 'Ronn' 'Savelle' 'Sherfin' 'Sho' 'Sorelia' 'Spoone'\n",
      " 'Toren' 'Totsuna' 'Tye' 'Urbosa' 'Yammo' 'Princess Zelda' 'Zyle' 'Laroba'\n",
      " 'Naddon' 'Pitar' 'Dah Hesho' 'Dmitri' 'Gleema' 'Jana' 'Kah Mael' 'Kaifa'\n",
      " \"Ke'nai Shakah\" 'Lonni' 'Nell' 'Rex' 'Stamm' 'Tenne' 'Tutsuwa Nima'\n",
      " 'Ze Kasho' 'Granté' 'Hagie' 'Hunnie' 'Moggs' 'Monari' 'Ruli'\n",
      " 'Ritaag Zumo' \"Tu Ka'loh\" 'Aya' 'Cherry' 'Hoz' 'Jerrin' 'Katosa Aug'\n",
      " 'Khini' 'Nobo' 'Robbie' 'Rudi' 'Zuna Kai' 'Glendo' 'King Rhoam'\n",
      " 'Etsu Korima' 'Ja Baij' 'Keh Namut' 'Old Man' 'Oman Au' 'Owa Daim'\n",
      " 'Rohta Chigah' 'Ruvo Korbah' 'Yowaka Ita' 'Aliza' 'Benny' 'Bosh Kala'\n",
      " 'Botrick' 'Calamity Ganon' 'Canni' 'Dah Kaso' 'Dai' 'Gotter' 'Haite'\n",
      " \"Kaam Ya'tak\" 'Katah Chuki' 'Monya Toma' 'Myti' 'Namika Ozz' 'Noya Neha'\n",
      " 'Parcy' 'Rota Ooh' \"Saas Ko'sah\" 'Toffa' 'Trott' 'Wahgo Katta' 'Zalta Wa'\n",
      " 'Branli' 'Konba' \"Maag No'rah\" 'Mijah Rokee' 'Mogg Latan' 'Shira Gomar'\n",
      " 'Toh Yahsa' 'Yunobo' 'Ashe' 'Axyl' 'Bladon' 'Bohrin' 'Boldon' 'Breen'\n",
      " 'Daqa Koh' 'Dayto' 'Dorill' 'Douma' 'Drak' 'Dugby' 'Fin' 'Gaile'\n",
      " 'Gonguron' 'Gorae Torr' 'Grapp' 'Jengo' 'Kairo' 'Karsh' 'Kayra Mah'\n",
      " 'Kima' 'Kish' 'Mayro' 'Mirro Shaz' \"Mo'a Keet\" 'Molo' 'Offrak' 'Ozunda'\n",
      " 'Qua Raym' 'Russ' 'Sah Dahaj' 'Shamae' 'Shora Hah' 'Tah Muhl' 'Zorona'\n",
      " 'Aji' 'Bargoh' 'Bludo' 'Fugo' 'Krane' 'Pyle' 'Ramella' 'Rogaro' 'Rohan'\n",
      " \"Shae Mo'sah\" 'Slergo' 'Tanko' 'Tray' 'Volcon' 'Akrah' 'Daag Chokah'\n",
      " 'Garshon' 'Ketoh Wawai' 'Kuhn Sidajj' 'Maag Halan' 'Oaki' 'Onya' 'Sprinn'\n",
      " 'Tasho' 'Zooki' 'Zumi' 'Chio' 'Damia' 'Daz' 'Keo Ruug' 'Kula' 'Maca'\n",
      " 'Natie' 'Peeks' 'Pepp' 'The Great Deku Tree' 'Walton' 'Blynne' 'Jini'\n",
      " \"Ka'o Makagh\" 'Loone' 'Malanya' 'Padok' 'Perosa' 'Phanna' 'Pumaag Nitae'\n",
      " 'Roscoe' 'Shae Katha' 'Shoqa Tatone' 'Straia' 'Suzuna' 'Ya Naga' 'Barta'\n",
      " 'Calisa' 'Eighth Heroine' 'Gartan' 'Lukan' 'Seven Heroines' 'Anche'\n",
      " 'Benja' 'Dako Tah' 'Daqo Chisay' 'Dila Maag' 'Dillie' 'Hawa Koth'\n",
      " 'Jee Noh' 'Jora' 'Kay Noh' 'Keive Tala' 'Kema Zoos' 'Konora' \"Korsh O'hu\"\n",
      " 'Kyra' 'Misae Suma' 'Patricia' 'Pokki' 'Raqa Zunzo' 'Riju' 'Shabonne'\n",
      " 'Strade' 'Sudrey' 'Takama Shiri' 'Tali' 'Tera' 'Tho Kayu' 'Ardin' 'Ashai'\n",
      " 'Aurie Taamu' 'Babi' 'Bertri' 'Bozai' 'Buliara' 'Calyban' 'Cara' 'Dalia'\n",
      " 'Danda' 'Deltan' 'Dina' 'Dorrah' 'Essa' 'Estan' 'Fegran' 'Frelly' 'Frita'\n",
      " 'Furosa' 'Greta' 'Isha' 'Jules' 'Kalani' 'Katta' 'Kohm' 'Kotta' 'Laine'\n",
      " 'Lashley' 'Leena' 'Liana' 'Lorn' 'Lyndae' 'Makure' 'Malena' 'Marta'\n",
      " 'Merina' 'Muava' 'Nali' 'Nellie' 'Olu' 'Padda' 'Pasha' 'Pearle' 'Ploka'\n",
      " 'Pritana' 'Pyra' 'Reeza' 'Rima' 'Risa' 'Romah' 'Rotana' 'Saula' 'Smaude'\n",
      " 'Spera' 'Sumati' 'Tauma' 'Teake' 'Traysi' 'Yaido' 'Emri' 'Guy' 'Kachoo'\n",
      " 'Maike' 'Nobiro' 'Ripp' 'Robsten' 'Shaillu' 'Vilia' 'Canolo' 'Flaxel'\n",
      " 'Ishto Soh' 'Joloo Nah' 'Keeha Yoog' 'Kema Kosassa' 'Kihiro Moh'\n",
      " 'Kuh Takkar' 'Master Kohga' 'Maypin' 'Moza' 'Oliff' 'Palme' 'Piaffe'\n",
      " 'Pirou' 'Sasa Kai' 'Sesami' 'Sho Dantu' 'Suma Sahma' 'Falmark' 'Teba'\n",
      " 'Tulin' 'Goma Asaagh' 'Hia Miu' 'Kiah Toza' 'Maka Rah' 'Mozo Shenno'\n",
      " 'Noe Rajee' 'Qaza Tokki' 'Rok Uwog' 'Selmie' 'Sha Warvo' 'Shada Naw'\n",
      " 'To Quomo' 'Danton' 'Harlow' 'Harry (Breath of the Wild)' 'Juannelle'\n",
      " 'Mary (Breath of the Wild)' 'Monkton' 'Rin Oyaa' 'Sha Gehma' 'Varke'\n",
      " 'Ariane' 'Bareeda Naag' 'Cree' 'Dunba Taag' 'Galli' \"Gee Ha'rah\" 'Geggle'\n",
      " 'Genli' 'Gesane' 'Kah Okeo' 'Kaysa' 'Kheel' 'Kotts' 'Lanno Kooh' 'Lester'\n",
      " 'Modar' 'Molli' 'Notts' 'Pondo' 'Ponthos' 'Rona Kachta' 'Shae Loya'\n",
      " 'Sheem Dagoze' \"Tena Ko'sah\" 'Voo Lota' \"Akh Va'quot\" 'Amali' 'Bedoli'\n",
      " 'Cecili' 'Harth' 'Huck' 'Jogo' 'Juney' 'Kaneli' 'Laissa' 'Mazli' 'Misa'\n",
      " 'Nekk' 'Saki' 'Verla' 'Gruve' 'Ledo' 'Tona' 'Tottika' 'Tula' 'Eryck'\n",
      " 'Dagah Keek' 'Mezza Lo' 'Rucco Maag' 'Sidon' 'Soh Kofi' 'Torfeau' 'Bazz'\n",
      " 'Cleff' 'Dento' 'Dunma' 'Finley' 'Fronk' 'Gaddison' 'Jiahto' 'Kayden'\n",
      " 'Keye' 'King Dorephan' 'Kodah' 'Laflat' 'Laruta' 'Marot' 'Muzu'\n",
      " \"Ne'ez Yohma\" 'Reagah' 'Rivan' 'Seggin' 'Trello' 'Tumbo' 'Shai Yota'\n",
      " 'Ami' 'Daka Tuss' 'Izra' 'Kaya Wan' 'Lawdon' 'Quince' 'Satty' 'Sheh Rata'\n",
      " 'Yolero' \"Jitan Sa'mi\" \"Tahno O'ah\" 'Agus' 'Celessa' 'Garill' 'Joute'\n",
      " 'Letty' 'Spinch (Horse)' 'Spinch (Hylian)' 'Toma' 'Calip' \"Dow Na'eh\"\n",
      " 'Flavi' 'Garini' 'Kah Yah' 'Kam Urog' 'Mimos' 'Muwo Jeem' 'Perda'\n",
      " 'Tawa Jinn' 'Teli' 'Wabbin' 'Amira' 'Aster' 'Azu' 'Clavia' 'Dantz'\n",
      " 'Horned Statue' 'Ivee' 'Karin' 'Koyin' 'Leop'\n",
      " 'Manny (Breath of the Wild)' 'Medda' 'Myahm Agana' 'Nack' 'Narah' 'Nebb'\n",
      " 'Nikki' 'Prima' 'Pruce' 'Purah' 'Ralera' 'Reede' 'Rhodes' 'Sayge'\n",
      " 'Sefaro' 'Seldon' 'Senna' 'Sophie' 'Symin' 'Tamana' 'Teebo' 'Thadd'\n",
      " 'Tokk' 'Uma' 'Worten' 'Armes' 'Chessica' 'Cloyne' 'Kiana' 'Kinov' 'Mubs'\n",
      " 'Numar' 'Rozel' 'Sebasto' 'Yah Rin' 'Zuta' 'Chaas Qeta' 'Korgu Chideh'\n",
      " 'Mimo' 'Anly' 'Brokka' 'Bugut' 'Cima' 'Cotera' 'Darton' 'Domidak' 'Giro'\n",
      " 'Ha Dahamar' 'Hila Rao' 'Hino' 'Kampo' 'Magda' 'Prissen' 'Qukah Nata'\n",
      " 'Ree Dahee' 'Rensa' 'Sagessa' 'Shai Utoh' 'Shay' 'Shee Vaneer'\n",
      " 'Shee Venath' 'Shibo' 'Shoda Sah' 'Tasseren' 'Toto Sah' 'Cado' 'Claree'\n",
      " 'Cottla' 'Dorian' 'Impa' 'Koko' 'Lakna Rokee' 'Lasli' 'Mellie' 'Nanna'\n",
      " 'Olkin' 'Ollie' 'Paya' 'Rola' 'Steen' \"Ta'loh Naeg\" 'Trissa'\n",
      " 'Black Bokoblin' 'Black Lizalfos' 'Black Moblin' 'Blizzrobe'\n",
      " 'Blue Bokoblin' 'Blue Lizalfos' 'Blue Moblin' 'Bokoblin' 'Chuchu'\n",
      " 'Cursed Bokoblin' 'Cursed Lizalfos' 'Cursed Moblin' 'Decayed Guardian'\n",
      " 'Electric Chuchu' 'Electric Keese' 'Electric Lizalfos'\n",
      " 'Electric Wizzrobe' 'Fire Chuchu' 'Fire Keese' 'Fire Wizzrobe'\n",
      " 'Forest Octorok' 'Frost Pebblit' 'Golden Bokoblin' 'Golden Lizalfos'\n",
      " 'Golden Lynel' 'Golden Moblin' 'Guardian Stalker' 'Guardian Skywatcher'\n",
      " 'Guardian Turret' 'Ice Chuchu' 'Ice Keese' 'Ice Wizzrobe' 'Igneo Pebblit'\n",
      " 'Keese' 'Lizalfos' 'Lynel' 'Meteo Wizzrobe' 'Moblin' 'Rock Octorok'\n",
      " 'Sentry' 'Silver Bokoblin' 'Silver Lizalfos' 'Silver Lynel'\n",
      " 'Silver Moblin' 'Sky Octorok' 'Snow Octorok' 'Stalizalfos' 'Stalkoblin'\n",
      " 'Stalmoblin' 'Stone Pebblit' 'Thunder Wizzrobe' 'Treasure Octorok'\n",
      " 'Water Octorok' 'Yiga Blademaster' 'Yiga Footsoldier' 'Beamos' 'Boulder'\n",
      " 'Floor Spikes' 'Iron Ball' 'Magma Bomb' 'Malice' 'Metal Boulder'\n",
      " 'Snowball' 'Spiked Boulder' 'Stone Talus' 'Igneo Talus' 'Frost Talus'\n",
      " 'Hinox' 'Mount Taran' 'Blue Hinox' 'Black Hinox' 'Stalnox' 'Molduga'\n",
      " 'Lake Darman' 'Molduking' 'Gerudo Desert' 'Windblight Ganon'\n",
      " 'Illusory Realm' 'Fireblight Ganon' 'Thunderblight Ganon'\n",
      " 'Waterblight Ganon' 'Master Kohga' 'Final Trial' 'Calamity Ganon'\n",
      " 'Central Hyrule']\n"
     ]
    }
   ],
   "source": [
    "names = charactersDf.Name.values\n",
    "print(names)"
   ]
  },
  {
   "cell_type": "code",
   "execution_count": 9,
   "metadata": {},
   "outputs": [
    {
     "name": "stdout",
     "output_type": "stream",
     "text": [
      "oops Granté\n",
      "oops Magma Bomb\n",
      "oops Metal Boulder\n"
     ]
    }
   ],
   "source": [
    "for name in names:\n",
    "    try:\n",
    "        tmp= name.replace(' ','_')\n",
    "        query1 = \"{}{}&{}&{}&{}\".format(baseurl, action, content, title + tmp , dataformat)\n",
    "        wikiresponse1 = urllib.request.urlopen(query1)\n",
    "        wikidata1 = wikiresponse1.read()\n",
    "        wikitext1 = wikidata1.decode('utf-8')\n",
    "        response = json.loads(wikitext1)\n",
    "        pageid =list(response['query']['pages'].keys())[0]\n",
    "        responseContent = response['query']['pages'][pageid]['revisions'][0]['slots']['main']['*']\n",
    "        text_file = open(\"utf8txtfiles/\" + name + \".txt\", \"wt\", encoding=\"utf-8\")\n",
    "        n = text_file.write(responseContent)\n",
    "        text_file.close()\n",
    "    except:\n",
    "        print('oops', name)"
   ]
  },
  {
   "cell_type": "markdown",
   "metadata": {},
   "source": [
    "## Höndla failuð retrieve\n"
   ]
  },
  {
   "cell_type": "code",
   "execution_count": 8,
   "metadata": {},
   "outputs": [],
   "source": [
    "with open('oops.txt') as f:\n",
    "    lines = f.read().splitlines()"
   ]
  },
  {
   "cell_type": "code",
   "execution_count": 16,
   "metadata": {},
   "outputs": [
    {
     "name": "stdout",
     "output_type": "stream",
     "text": [
      "GrantÃ©\n",
      "Metal_Boulder\n",
      "Spiked_Boulder\n",
      "Central_Hy\n"
     ]
    }
   ],
   "source": [
    "for name in lines:\n",
    "    try:\n",
    "        query1 = \"{}{}&{}&{}&{}\".format(baseurl, action, content, title + name , dataformat)\n",
    "        wikiresponse1 = urllib.request.urlopen(query1)\n",
    "        wikidata1 = wikiresponse1.read()\n",
    "        wikitext1 = wikidata1.decode('utf-8')\n",
    "        response = json.loads(wikitext1)\n",
    "        pageid =list(response['query']['pages'].keys())[0]\n",
    "        responseContent = response['query']['pages'][pageid]['revisions'][0]['slots']['main']['*']\n",
    "        text_file = open(\"txt files/\" + name + \".txt\", \"wt\", encoding=\"utf-8\")\n",
    "        n = text_file.write(responseContent)\n",
    "        text_file.close()\n",
    "    except:\n",
    "        print(name)\n",
    "        with open('readme.txt', 'a') as f:\n",
    "            f.write(name + '\\n')"
   ]
  },
  {
   "cell_type": "code",
   "execution_count": 15,
   "metadata": {},
   "outputs": [],
   "source": [
    "for name in ['Princess_Zelda','Link']:\n",
    "    query1 = \"{}{}&{}&{}&{}\".format(baseurl, action, content, title + name , dataformat)\n",
    "    wikiresponse1 = urllib.request.urlopen(query1)\n",
    "    wikidata1 = wikiresponse1.read()\n",
    "    wikitext1 = wikidata1.decode('utf-8')\n",
    "    response = json.loads(wikitext1)\n",
    "    pageid =list(response['query']['pages'].keys())[0]\n",
    "    responseContent = response['query']['pages'][pageid]['revisions'][0]['slots']['main']['*']\n",
    "    # print(responseContent)\n",
    "    text_file = open(\"txt files/\" + name + \".txt\", \"wt\", encoding=\"utf-8\")\n",
    "    n = text_file.write(responseContent)\n",
    "    text_file.close()\n",
    "  "
   ]
  }
 ],
 "metadata": {
  "interpreter": {
   "hash": "abeb1b6365932ba6ff4ac4533716daba8e111ed525e182e5e5d09b65a3f8fa33"
  },
  "kernelspec": {
   "display_name": "Python 3.8.5 64-bit ('base': conda)",
   "name": "python3"
  },
  "language_info": {
   "codemirror_mode": {
    "name": "ipython",
    "version": 3
   },
   "file_extension": ".py",
   "mimetype": "text/x-python",
   "name": "python",
   "nbconvert_exporter": "python",
   "pygments_lexer": "ipython3",
   "version": "3.8.5"
  },
  "orig_nbformat": 4
 },
 "nbformat": 4,
 "nbformat_minor": 2
}
