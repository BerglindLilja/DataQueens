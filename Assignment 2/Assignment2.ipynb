{
 "cells": [
  {
   "cell_type": "markdown",
   "id": "dc52c3a8",
   "metadata": {},
   "source": [
    "<font color='darkblue'>\n",
    "    \n",
    "</font>"
   ]
  },
  {
   "cell_type": "markdown",
   "id": "079c2971",
   "metadata": {},
   "source": [
    "# Assignment 2"
   ]
  },
  {
   "cell_type": "markdown",
   "id": "b4bf6599",
   "metadata": {},
   "source": [
    "## Part 0: Building the network"
   ]
  },
  {
   "cell_type": "markdown",
   "id": "4c50d9f0",
   "metadata": {},
   "source": [
    "<font color='darkblue'>\n",
    "    To create our network, we downloaded the Zelda Wiki pages for all characters in BotW (during Week 4) and linked them via the hyperlinks connecting pages to each other. To achieve this goal we have used regular expressions!\n",
    "</font>"
   ]
  },
  {
   "cell_type": "markdown",
   "id": "01b51886",
   "metadata": {},
   "source": [
    "* <font color='darkblue'>\n",
    "    Explain the strategy you have used to extract the hyperlinks from the Wiki-pages, assuming that you have already collected the pages with the Zelda API.\n",
    "</font>"
   ]
  },
  {
   "cell_type": "markdown",
   "id": "7a6565ba",
   "metadata": {},
   "source": []
  },
  {
   "cell_type": "markdown",
   "id": "460114c1",
   "metadata": {},
   "source": [
    "* <font color='darkblue'>\n",
    "    Show the regular expression(s) you have built and explain in details how it works.\n",
    "</font>"
   ]
  },
  {
   "cell_type": "markdown",
   "id": "437c38d7",
   "metadata": {},
   "source": []
  },
  {
   "cell_type": "markdown",
   "id": "c681a0b3",
   "metadata": {},
   "source": [
    "## Part 1: Network visualization and basic stats"
   ]
  },
  {
   "cell_type": "markdown",
   "id": "c63a53a5",
   "metadata": {},
   "source": [
    "### Exercise 1a: Stats"
   ]
  },
  {
   "cell_type": "markdown",
   "id": "b24dbe47",
   "metadata": {},
   "source": [
    "* <font color='darkblue'>\n",
    "    What is the number of nodes in the network?\n",
    "</font>"
   ]
  },
  {
   "cell_type": "markdown",
   "id": "28130c43",
   "metadata": {},
   "source": [
    "* <font color='darkblue'>\n",
    "    What is the number of links?\n",
    "</font>"
   ]
  },
  {
   "cell_type": "markdown",
   "id": "ed13d555",
   "metadata": {},
   "source": [
    "* <font color='darkblue'>\n",
    "    Who is the top connected character in BotW? (Report results for the in-degrees and out-degrees). Comment on your findings. Is this what you would have expected?\n",
    "</font>"
   ]
  },
  {
   "cell_type": "markdown",
   "id": "c0d1bdce",
   "metadata": {},
   "source": [
    "* <font color='darkblue'>\n",
    "    Who are the top 5 most connected allies (again in terms of in/out-degree)?\n",
    "</font>"
   ]
  },
  {
   "cell_type": "markdown",
   "id": "0105b43c",
   "metadata": {},
   "source": [
    "* <font color='darkblue'>\n",
    "    Who are the top 5 most connected enemies -- bosses included -- (again in terms of in/out-degree)?\n",
    "</font>"
   ]
  },
  {
   "cell_type": "markdown",
   "id": "603c2218",
   "metadata": {},
   "source": [
    "* <font color='darkblue'>\n",
    "    Plot the in- and out-degree distributions.\n",
    "</font>\n",
    "* <font color='darkblue'>\n",
    "    What do you observe?\n",
    "</font>\n",
    "* <font color='darkblue'>\n",
    "    Can you explain why the in-degree distribution is different from the out-degree distribution?\n",
    "</font>"
   ]
  },
  {
   "cell_type": "markdown",
   "id": "fa4b1040",
   "metadata": {},
   "source": [
    "* <font color='darkblue'>\n",
    "    Find the exponent of the degree distribution (by using the powerlaw package) for the in- and out-degree distribution. What does it say about our network?\n",
    "</font>"
   ]
  },
  {
   "cell_type": "markdown",
   "id": "06e84e99",
   "metadata": {},
   "source": [
    "* <font color='darkblue'>\n",
    "    Compare the degree distribution of the undirected graph to a random network with the same number of nodes and probability of connection p. Comment your results.\n",
    "</font>"
   ]
  },
  {
   "cell_type": "markdown",
   "id": "cdf73cca",
   "metadata": {},
   "source": [
    "### Exercise 1b: Visualization"
   ]
  },
  {
   "cell_type": "markdown",
   "id": "9217d93a",
   "metadata": {},
   "source": [
    "* <font color='darkblue'>\n",
    "    Create a nice visualization of the total (undirected) network:\n",
    "</font>\n",
    "* <font color='darkblue'>\n",
    "    Color nodes according to the role;\n",
    "</font>\n",
    "* <font color='darkblue'>\n",
    "    Scale node-size according to degree;\n",
    "</font>\n",
    "* <font color='darkblue'>\n",
    "    Get node positions based on the Force Atlas 2 algorithm;\n",
    "</font>\n",
    "* <font color='darkblue'>\n",
    "    Whatever else you feel like that would make the visualization nicer.\n",
    "</font>"
   ]
  },
  {
   "cell_type": "markdown",
   "id": "4b7c66cb",
   "metadata": {},
   "source": []
  },
  {
   "cell_type": "markdown",
   "id": "295c5150",
   "metadata": {},
   "source": [
    "* <font color='darkblue'>\n",
    "    Describe the structure you observe. Can you identify nodes with a privileged position in the network? Do you observe chains of connected nodes? Do you see any interesting group of nodes (can you guess who's involved)?\n",
    "</font>"
   ]
  },
  {
   "cell_type": "markdown",
   "id": "f7a70b19",
   "metadata": {},
   "source": []
  },
  {
   "cell_type": "markdown",
   "id": "6ebcb0cc",
   "metadata": {},
   "source": [
    "## Part 2: Word-clouds"
   ]
  },
  {
   "cell_type": "markdown",
   "id": "881a93ad",
   "metadata": {},
   "source": [
    "* <font color='darkblue'>\n",
    "    Create a word-cloud for each race of the five champions of Hyrule (i.e. Hylian, Zora, Goron, Gerudo, and Rito) according to either TC-IDF. Feel free to make it as fancy as you like. Explain your process and comment on your results.\n",
    "</font>"
   ]
  },
  {
   "cell_type": "markdown",
   "id": "2577efe1",
   "metadata": {},
   "source": []
  },
  {
   "cell_type": "markdown",
   "id": "49b44e45",
   "metadata": {},
   "source": []
  },
  {
   "cell_type": "markdown",
   "id": "55d2b37d",
   "metadata": {},
   "source": [
    "## Part 3: Communities and TF-IDF"
   ]
  },
  {
   "cell_type": "markdown",
   "id": "84a3c15c",
   "metadata": {},
   "source": [
    "<font color='darkblue'>\n",
    "    Find communities and compute their associated TF-IDF\n",
    "</font>"
   ]
  },
  {
   "cell_type": "markdown",
   "id": "62f775df",
   "metadata": {},
   "source": [
    "* <font color='darkblue'>\n",
    "    Explain the Louvain algorithm and how it finds communities in a newtork.\n",
    "</font>"
   ]
  },
  {
   "cell_type": "markdown",
   "id": "0748dccf",
   "metadata": {},
   "source": [
    "* <font color='darkblue'>\n",
    "    Explain how you chose to identify the communities: Which algorithm did you use? (if you did not use the Louvain method, explain how the method you have used works)\n",
    "</font>"
   ]
  },
  {
   "cell_type": "markdown",
   "id": "67ea337a",
   "metadata": {},
   "source": [
    "* <font color='darkblue'>\n",
    "    Comment your results:\n",
    "</font>\n",
    "* <font color='darkblue'>\n",
    "    How many communities did you find in total?\n",
    "</font>\n",
    "* <font color='darkblue'>\n",
    "    Compute the value of modularity with the partition created by the algorithm.\n",
    "</font>\n",
    "* <font color='darkblue'>\n",
    "    Plot the distribution of community sizes.\n",
    "</font>"
   ]
  },
  {
   "cell_type": "markdown",
   "id": "372bc67d",
   "metadata": {},
   "source": [
    "* <font color='darkblue'>\n",
    "    For the 5 largest communities, create TF-IDF based rankings of words in each community.\n",
    "</font>\n",
    "* <font color='darkblue'>\n",
    "    There are many ways to calculate TF-IDF, explain how you've done it and motivate your choices.\n",
    "</font>\n",
    "* <font color='darkblue'>\n",
    "    List the 5 top words for each community according to TF.\n",
    "</font>\n",
    "* <font color='darkblue'>\n",
    "    List the 5 top words for each community accourding to TF-IDF. Are these words more descriptive of the community than just the TF? Justify your answer.\n",
    "</font>"
   ]
  },
  {
   "cell_type": "markdown",
   "id": "013dbb38",
   "metadata": {},
   "source": [
    "## Part 4: Sentiment of communities"
   ]
  },
  {
   "cell_type": "markdown",
   "id": "6363094b",
   "metadata": {},
   "source": [
    "<font color='darkblue'>\n",
    "    Analyze the sentiment of the communities (lecture 8). Here, we assume that you've successfully identified communities.\n",
    "</font>\n",
    "<font color='darkblue'>\n",
    "    A couple of additional instructions you will need below:\n",
    "</font>\n",
    "* <font color='darkblue'>\n",
    "    We name each community by its three most connected characters.\n",
    "</font>\n",
    "* <font color='darkblue'>\n",
    "    Average the average sentiment of the nodes in each community to find a community level sentiment.\n",
    "</font>"
   ]
  },
  {
   "cell_type": "markdown",
   "id": "976d9211",
   "metadata": {},
   "source": [
    "<font color='darkblue'>\n",
    "    Here's what you need to do (repeat these steps and report your results for both LabMT and VADER):\n",
    "</font>"
   ]
  },
  {
   "cell_type": "markdown",
   "id": "e04c2732",
   "metadata": {},
   "source": [
    "* <font color='darkblue'>\n",
    "    Calculate and store sentiment for every character\n",
    "</font>"
   ]
  },
  {
   "cell_type": "markdown",
   "id": "f5494ed8",
   "metadata": {},
   "source": [
    "* <font color='darkblue'>\n",
    "    Create a histogram of all character's associated sentiments.\n",
    "</font>"
   ]
  },
  {
   "cell_type": "markdown",
   "id": "914e3464",
   "metadata": {},
   "source": [
    "* <font color='darkblue'>\n",
    "    What are the 10 characters with happiest and saddest pages?\n",
    "</font>"
   ]
  },
  {
   "cell_type": "markdown",
   "id": "29022074",
   "metadata": {},
   "source": [
    "<font color='darkblue'>\n",
    "    Now, compute the sentiment of communities:\n",
    "</font>"
   ]
  },
  {
   "cell_type": "markdown",
   "id": "e0aa49b7",
   "metadata": {},
   "source": [
    "* <font color='darkblue'>\n",
    "    What are the three happiest communities according to the LabMT wordlist approach? What about VADER?\n",
    "</font>"
   ]
  },
  {
   "cell_type": "markdown",
   "id": "b27cefd5",
   "metadata": {},
   "source": [
    "* <font color='darkblue'>\n",
    "    What are the three saddest communities according to the LabMT wordlist approach? What about VADER?\n",
    "</font>"
   ]
  },
  {
   "cell_type": "markdown",
   "id": "59908428",
   "metadata": {},
   "source": [
    "* <font color='darkblue'>\n",
    "    Create a bar plot showing the average sentiment of each community and add error-bars using the standard deviation for both methods.\n",
    "</font>"
   ]
  },
  {
   "cell_type": "markdown",
   "id": "d5f0431d",
   "metadata": {},
   "source": [
    "* <font color='darkblue'>\n",
    "    Explain the difference between the two methods and compare the results you have obtained above.\n",
    "</font>"
   ]
  },
  {
   "cell_type": "markdown",
   "id": "3b0c691b",
   "metadata": {},
   "source": [
    "* <font color='darkblue'>\n",
    "    What is the advantage of using a rule-based method over the dictionary-based approach?\n",
    "</font>"
   ]
  }
 ],
 "metadata": {
  "kernelspec": {
   "display_name": "Python 3",
   "language": "python",
   "name": "python3"
  },
  "language_info": {
   "codemirror_mode": {
    "name": "ipython",
    "version": 3
   },
   "file_extension": ".py",
   "mimetype": "text/x-python",
   "name": "python",
   "nbconvert_exporter": "python",
   "pygments_lexer": "ipython3",
   "version": "3.8.8"
  }
 },
 "nbformat": 4,
 "nbformat_minor": 5
}
