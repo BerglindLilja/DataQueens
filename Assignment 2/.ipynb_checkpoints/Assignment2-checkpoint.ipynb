{
 "cells": [
  {
   "cell_type": "markdown",
   "id": "cfcd0ba5",
   "metadata": {},
   "source": [
    "<font color='darkblue'>\n",
    "    \n",
    "</font>"
   ]
  },
  {
   "cell_type": "code",
   "execution_count": 27,
   "id": "247f148d",
   "metadata": {},
   "outputs": [],
   "source": [
    "# Imports\n",
    "import networkx as nx\n",
    "import pandas as pd\n",
    "import json\n",
    "import re\n",
    "import numpy as np\n",
    "import matplotlib.pyplot as plt"
   ]
  },
  {
   "cell_type": "markdown",
   "id": "99ca715d",
   "metadata": {},
   "source": [
    "# Assignment 2"
   ]
  },
  {
   "cell_type": "markdown",
   "id": "444da797",
   "metadata": {},
   "source": [
    "## Part 0: Building the network"
   ]
  },
  {
   "cell_type": "markdown",
   "id": "16edfe8b",
   "metadata": {},
   "source": [
    "<font color='darkblue'>\n",
    "    To create our network, we downloaded the Zelda Wiki pages for all characters in BotW (during Week 4) and linked them via the hyperlinks connecting pages to each other. To achieve this goal we have used regular expressions!\n",
    "</font>"
   ]
  },
  {
   "cell_type": "markdown",
   "id": "14dcfffd",
   "metadata": {},
   "source": [
    "* <font color='darkblue'>\n",
    "    Explain the strategy you have used to extract the hyperlinks from the Wiki-pages, assuming that you have already collected the pages with the Zelda API.\n",
    "</font>"
   ]
  },
  {
   "cell_type": "markdown",
   "id": "fff7b0d8",
   "metadata": {},
   "source": []
  },
  {
   "cell_type": "markdown",
   "id": "46c2e494",
   "metadata": {},
   "source": [
    "* <font color='darkblue'>\n",
    "    Show the regular expression(s) you have built and explain in details how it works.\n",
    "</font>"
   ]
  },
  {
   "cell_type": "markdown",
   "id": "83b05998",
   "metadata": {},
   "source": []
  },
  {
   "cell_type": "markdown",
   "id": "185677b1",
   "metadata": {},
   "source": [
    "## Part 1: Network visualization and basic stats"
   ]
  },
  {
   "cell_type": "markdown",
   "id": "50fee2f4",
   "metadata": {},
   "source": [
    "### Exercise 1a: Stats"
   ]
  },
  {
   "cell_type": "markdown",
   "id": "e6a348ee",
   "metadata": {},
   "source": [
    "* <font color='darkblue'>\n",
    "    What is the number of nodes in the network?\n",
    "</font>"
   ]
  },
  {
   "cell_type": "markdown",
   "id": "364dd529",
   "metadata": {},
   "source": [
    "* <font color='darkblue'>\n",
    "    What is the number of links?\n",
    "</font>"
   ]
  },
  {
   "cell_type": "markdown",
   "id": "3dabcb3a",
   "metadata": {},
   "source": [
    "* <font color='darkblue'>\n",
    "    Who is the top connected character in BotW? (Report results for the in-degrees and out-degrees). Comment on your findings. Is this what you would have expected?\n",
    "</font>"
   ]
  },
  {
   "cell_type": "markdown",
   "id": "047a8400",
   "metadata": {},
   "source": [
    "* <font color='darkblue'>\n",
    "    Who are the top 5 most connected allies (again in terms of in/out-degree)?\n",
    "</font>"
   ]
  },
  {
   "cell_type": "markdown",
   "id": "8532476f",
   "metadata": {},
   "source": [
    "* <font color='darkblue'>\n",
    "    Who are the top 5 most connected enemies -- bosses included -- (again in terms of in/out-degree)?\n",
    "</font>"
   ]
  },
  {
   "cell_type": "markdown",
   "id": "972978cf",
   "metadata": {},
   "source": [
    "* <font color='darkblue'>\n",
    "    Plot the in- and out-degree distributions.\n",
    "</font>\n",
    "* <font color='darkblue'>\n",
    "    What do you observe?\n",
    "</font>\n",
    "* <font color='darkblue'>\n",
    "    Can you explain why the in-degree distribution is different from the out-degree distribution?\n",
    "</font>"
   ]
  },
  {
   "cell_type": "markdown",
   "id": "76ca1d6e",
   "metadata": {},
   "source": [
    "* <font color='darkblue'>\n",
    "    Find the exponent of the degree distribution (by using the powerlaw package) for the in- and out-degree distribution. What does it say about our network?\n",
    "</font>"
   ]
  },
  {
   "cell_type": "markdown",
   "id": "55f2b23b",
   "metadata": {},
   "source": [
    "* <font color='darkblue'>\n",
    "    Compare the degree distribution of the undirected graph to a random network with the same number of nodes and probability of connection p. Comment your results.\n",
    "</font>"
   ]
  },
  {
   "cell_type": "markdown",
   "id": "0bea50bc",
   "metadata": {},
   "source": [
    "### Exercise 1b: Visualization"
   ]
  },
  {
   "cell_type": "markdown",
   "id": "4dc88ea4",
   "metadata": {},
   "source": [
    "* <font color='darkblue'>\n",
    "    Create a nice visualization of the total (undirected) network:\n",
    "</font>\n",
    "* <font color='darkblue'>\n",
    "    Color nodes according to the role;\n",
    "</font>\n",
    "* <font color='darkblue'>\n",
    "    Scale node-size according to degree;\n",
    "</font>\n",
    "* <font color='darkblue'>\n",
    "    Get node positions based on the Force Atlas 2 algorithm;\n",
    "</font>\n",
    "* <font color='darkblue'>\n",
    "    Whatever else you feel like that would make the visualization nicer.\n",
    "</font>"
   ]
  },
  {
   "cell_type": "markdown",
   "id": "f51363d9",
   "metadata": {},
   "source": []
  },
  {
   "cell_type": "markdown",
   "id": "8de37a56",
   "metadata": {},
   "source": [
    "* <font color='darkblue'>\n",
    "    Describe the structure you observe. Can you identify nodes with a privileged position in the network? Do you observe chains of connected nodes? Do you see any interesting group of nodes (can you guess who's involved)?\n",
    "</font>"
   ]
  },
  {
   "cell_type": "markdown",
   "id": "1613771c",
   "metadata": {},
   "source": []
  },
  {
   "cell_type": "markdown",
   "id": "182c3575",
   "metadata": {},
   "source": [
    "## Part 2: Word-clouds"
   ]
  },
  {
   "cell_type": "markdown",
   "id": "cf22cd88",
   "metadata": {},
   "source": [
    "* <font color='darkblue'>\n",
    "    Create a word-cloud for each race of the five champions of Hyrule (i.e. Hylian, Zora, Goron, Gerudo, and Rito) according to either TC-IDF. Feel free to make it as fancy as you like. Explain your process and comment on your results.\n",
    "</font>"
   ]
  },
  {
   "cell_type": "markdown",
   "id": "31cfef9d",
   "metadata": {},
   "source": [
    "Extract the 5 races from the list. \n",
    "\n"
   ]
  },
  {
   "cell_type": "code",
   "execution_count": null,
   "id": "37e488cb",
   "metadata": {},
   "outputs": [],
   "source": []
  },
  {
   "cell_type": "code",
   "execution_count": null,
   "id": "4853f040",
   "metadata": {},
   "outputs": [],
   "source": []
  },
  {
   "cell_type": "code",
   "execution_count": 51,
   "id": "619ebd44",
   "metadata": {},
   "outputs": [
    {
     "data": {
      "text/plain": [
       "<bound method DataFrame.info of                   Name  Role     Race   Gender\n",
       "0               Baddek  Ally   Hylian     Male\n",
       "1               Bamboo  Ally    Horse  Unknown\n",
       "2                Banji  Ally   Hylian   Female\n",
       "3               Baumar  Ally   Hylian     Male\n",
       "4                Bayge  Ally    Goron     Male\n",
       "..                 ...   ...      ...      ...\n",
       "651  Waterblight Ganon  Boss  Unknown  Unknown\n",
       "652       Master Kohga  Boss  Sheikah     Male\n",
       "653    Monk Maz Koshia  Boss  Sheikah     Male\n",
       "654     Calamity Ganon  Boss   Gerudo     Male\n",
       "655   Dark Beast Ganon  Boss   Gerudo     Male\n",
       "\n",
       "[656 rows x 4 columns]>"
      ]
     },
     "execution_count": 51,
     "metadata": {},
     "output_type": "execute_result"
    }
   ],
   "source": [
    "df = pd.read_csv('Zelda.csv', encoding = 'unicode_escape')\n",
    "df.info"
   ]
  },
  {
   "cell_type": "code",
   "execution_count": 48,
   "id": "386c84e1",
   "metadata": {},
   "outputs": [
    {
     "name": "stdout",
     "output_type": "stream",
     "text": [
      "Baddek\n"
     ]
    }
   ],
   "source": [
    "print(df.Name[0])"
   ]
  },
  {
   "cell_type": "code",
   "execution_count": 49,
   "id": "82472cdd",
   "metadata": {
    "scrolled": true
   },
   "outputs": [
    {
     "ename": "UnicodeDecodeError",
     "evalue": "'utf-8' codec can't decode byte 0x97 in position 4739: invalid start byte",
     "output_type": "error",
     "traceback": [
      "\u001b[0;31m---------------------------------------------------------------------------\u001b[0m",
      "\u001b[0;31mUnicodeDecodeError\u001b[0m                        Traceback (most recent call last)",
      "\u001b[0;32m<ipython-input-49-1d4fd30326d1>\u001b[0m in \u001b[0;36m<module>\u001b[0;34m\u001b[0m\n\u001b[1;32m      1\u001b[0m \u001b[0;32mwith\u001b[0m \u001b[0mopen\u001b[0m\u001b[0;34m(\u001b[0m\u001b[0;34m\"txtFiles/\"\u001b[0m \u001b[0;34m+\u001b[0m \u001b[0mdf\u001b[0m\u001b[0;34m.\u001b[0m\u001b[0mName\u001b[0m\u001b[0;34m[\u001b[0m\u001b[0;36m0\u001b[0m\u001b[0;34m]\u001b[0m \u001b[0;34m+\u001b[0m \u001b[0;34m'.txt'\u001b[0m\u001b[0;34m)\u001b[0m \u001b[0;32mas\u001b[0m \u001b[0mf\u001b[0m\u001b[0;34m:\u001b[0m\u001b[0;34m\u001b[0m\u001b[0;34m\u001b[0m\u001b[0m\n\u001b[0;32m----> 2\u001b[0;31m     \u001b[0mtext\u001b[0m \u001b[0;34m=\u001b[0m \u001b[0mf\u001b[0m\u001b[0;34m.\u001b[0m\u001b[0mread\u001b[0m\u001b[0;34m(\u001b[0m\u001b[0;34m)\u001b[0m\u001b[0;34m\u001b[0m\u001b[0;34m\u001b[0m\u001b[0m\n\u001b[0m",
      "\u001b[0;32m~/opt/anaconda3/lib/python3.8/codecs.py\u001b[0m in \u001b[0;36mdecode\u001b[0;34m(self, input, final)\u001b[0m\n\u001b[1;32m    320\u001b[0m         \u001b[0;31m# decode input (taking the buffer into account)\u001b[0m\u001b[0;34m\u001b[0m\u001b[0;34m\u001b[0m\u001b[0;34m\u001b[0m\u001b[0m\n\u001b[1;32m    321\u001b[0m         \u001b[0mdata\u001b[0m \u001b[0;34m=\u001b[0m \u001b[0mself\u001b[0m\u001b[0;34m.\u001b[0m\u001b[0mbuffer\u001b[0m \u001b[0;34m+\u001b[0m \u001b[0minput\u001b[0m\u001b[0;34m\u001b[0m\u001b[0;34m\u001b[0m\u001b[0m\n\u001b[0;32m--> 322\u001b[0;31m         \u001b[0;34m(\u001b[0m\u001b[0mresult\u001b[0m\u001b[0;34m,\u001b[0m \u001b[0mconsumed\u001b[0m\u001b[0;34m)\u001b[0m \u001b[0;34m=\u001b[0m \u001b[0mself\u001b[0m\u001b[0;34m.\u001b[0m\u001b[0m_buffer_decode\u001b[0m\u001b[0;34m(\u001b[0m\u001b[0mdata\u001b[0m\u001b[0;34m,\u001b[0m \u001b[0mself\u001b[0m\u001b[0;34m.\u001b[0m\u001b[0merrors\u001b[0m\u001b[0;34m,\u001b[0m \u001b[0mfinal\u001b[0m\u001b[0;34m)\u001b[0m\u001b[0;34m\u001b[0m\u001b[0;34m\u001b[0m\u001b[0m\n\u001b[0m\u001b[1;32m    323\u001b[0m         \u001b[0;31m# keep undecoded input until the next call\u001b[0m\u001b[0;34m\u001b[0m\u001b[0;34m\u001b[0m\u001b[0;34m\u001b[0m\u001b[0m\n\u001b[1;32m    324\u001b[0m         \u001b[0mself\u001b[0m\u001b[0;34m.\u001b[0m\u001b[0mbuffer\u001b[0m \u001b[0;34m=\u001b[0m \u001b[0mdata\u001b[0m\u001b[0;34m[\u001b[0m\u001b[0mconsumed\u001b[0m\u001b[0;34m:\u001b[0m\u001b[0;34m]\u001b[0m\u001b[0;34m\u001b[0m\u001b[0;34m\u001b[0m\u001b[0m\n",
      "\u001b[0;31mUnicodeDecodeError\u001b[0m: 'utf-8' codec can't decode byte 0x97 in position 4739: invalid start byte"
     ]
    }
   ],
   "source": [
    "with open(\"txtFiles/\" + df.Name[0] + '.txt') as f:\n",
    "    text = f.read()"
   ]
  },
  {
   "cell_type": "code",
   "execution_count": 43,
   "id": "5ba2ca28",
   "metadata": {},
   "outputs": [
    {
     "ename": "UnicodeDecodeError",
     "evalue": "'utf-8' codec can't decode byte 0x97 in position 4739: invalid start byte",
     "output_type": "error",
     "traceback": [
      "\u001b[0;31m---------------------------------------------------------------------------\u001b[0m",
      "\u001b[0;31mUnicodeDecodeError\u001b[0m                        Traceback (most recent call last)",
      "\u001b[0;32m<ipython-input-43-7daead9f9a4d>\u001b[0m in \u001b[0;36m<module>\u001b[0;34m\u001b[0m\n\u001b[1;32m      2\u001b[0m \u001b[0;31m#     lines = f.readlines()\u001b[0m\u001b[0;34m\u001b[0m\u001b[0;34m\u001b[0m\u001b[0;34m\u001b[0m\u001b[0m\n\u001b[1;32m      3\u001b[0m \u001b[0mf\u001b[0m \u001b[0;34m=\u001b[0m \u001b[0mopen\u001b[0m\u001b[0;34m(\u001b[0m\u001b[0;34m'txtFiles/Baddek.txt'\u001b[0m\u001b[0;34m,\u001b[0m \u001b[0;34m'r'\u001b[0m\u001b[0;34m)\u001b[0m\u001b[0;34m\u001b[0m\u001b[0;34m\u001b[0m\u001b[0m\n\u001b[0;32m----> 4\u001b[0;31m \u001b[0;32mfor\u001b[0m \u001b[0mline\u001b[0m \u001b[0;32min\u001b[0m \u001b[0mf\u001b[0m\u001b[0;34m:\u001b[0m\u001b[0;34m\u001b[0m\u001b[0;34m\u001b[0m\u001b[0m\n\u001b[0m\u001b[1;32m      5\u001b[0m     \u001b[0mprint\u001b[0m\u001b[0;34m(\u001b[0m\u001b[0mline\u001b[0m\u001b[0;34m.\u001b[0m\u001b[0mstrip\u001b[0m\u001b[0;34m(\u001b[0m\u001b[0;34m)\u001b[0m\u001b[0;34m)\u001b[0m\u001b[0;34m\u001b[0m\u001b[0;34m\u001b[0m\u001b[0m\n",
      "\u001b[0;32m~/opt/anaconda3/lib/python3.8/codecs.py\u001b[0m in \u001b[0;36mdecode\u001b[0;34m(self, input, final)\u001b[0m\n\u001b[1;32m    320\u001b[0m         \u001b[0;31m# decode input (taking the buffer into account)\u001b[0m\u001b[0;34m\u001b[0m\u001b[0;34m\u001b[0m\u001b[0;34m\u001b[0m\u001b[0m\n\u001b[1;32m    321\u001b[0m         \u001b[0mdata\u001b[0m \u001b[0;34m=\u001b[0m \u001b[0mself\u001b[0m\u001b[0;34m.\u001b[0m\u001b[0mbuffer\u001b[0m \u001b[0;34m+\u001b[0m \u001b[0minput\u001b[0m\u001b[0;34m\u001b[0m\u001b[0;34m\u001b[0m\u001b[0m\n\u001b[0;32m--> 322\u001b[0;31m         \u001b[0;34m(\u001b[0m\u001b[0mresult\u001b[0m\u001b[0;34m,\u001b[0m \u001b[0mconsumed\u001b[0m\u001b[0;34m)\u001b[0m \u001b[0;34m=\u001b[0m \u001b[0mself\u001b[0m\u001b[0;34m.\u001b[0m\u001b[0m_buffer_decode\u001b[0m\u001b[0;34m(\u001b[0m\u001b[0mdata\u001b[0m\u001b[0;34m,\u001b[0m \u001b[0mself\u001b[0m\u001b[0;34m.\u001b[0m\u001b[0merrors\u001b[0m\u001b[0;34m,\u001b[0m \u001b[0mfinal\u001b[0m\u001b[0;34m)\u001b[0m\u001b[0;34m\u001b[0m\u001b[0;34m\u001b[0m\u001b[0m\n\u001b[0m\u001b[1;32m    323\u001b[0m         \u001b[0;31m# keep undecoded input until the next call\u001b[0m\u001b[0;34m\u001b[0m\u001b[0;34m\u001b[0m\u001b[0;34m\u001b[0m\u001b[0m\n\u001b[1;32m    324\u001b[0m         \u001b[0mself\u001b[0m\u001b[0;34m.\u001b[0m\u001b[0mbuffer\u001b[0m \u001b[0;34m=\u001b[0m \u001b[0mdata\u001b[0m\u001b[0;34m[\u001b[0m\u001b[0mconsumed\u001b[0m\u001b[0;34m:\u001b[0m\u001b[0;34m]\u001b[0m\u001b[0;34m\u001b[0m\u001b[0;34m\u001b[0m\u001b[0m\n",
      "\u001b[0;31mUnicodeDecodeError\u001b[0m: 'utf-8' codec can't decode byte 0x97 in position 4739: invalid start byte"
     ]
    }
   ],
   "source": [
    "# with open('txtFiles/Baddek.txt', \"r\") as f:\n",
    "#     lines = f.readlines()\n",
    "f = open('txtFiles/Baddek.txt', 'r')\n",
    "for line in f:\n",
    "    print(line.strip())"
   ]
  },
  {
   "cell_type": "code",
   "execution_count": 36,
   "id": "402dbc5d",
   "metadata": {},
   "outputs": [
    {
     "ename": "UnicodeDecodeError",
     "evalue": "'utf-8' codec can't decode byte 0x97 in position 4739: invalid start byte",
     "output_type": "error",
     "traceback": [
      "\u001b[0;31m---------------------------------------------------------------------------\u001b[0m",
      "\u001b[0;31mUnicodeDecodeError\u001b[0m                        Traceback (most recent call last)",
      "\u001b[0;32m<ipython-input-36-fee06ad1c8e6>\u001b[0m in \u001b[0;36m<module>\u001b[0;34m\u001b[0m\n\u001b[0;32m----> 1\u001b[0;31m \u001b[0mraw\u001b[0m \u001b[0;34m=\u001b[0m \u001b[0mopen\u001b[0m\u001b[0;34m(\u001b[0m\u001b[0;34m'txtFiles/Baddek.txt'\u001b[0m\u001b[0;34m)\u001b[0m\u001b[0;34m.\u001b[0m\u001b[0mread\u001b[0m\u001b[0;34m(\u001b[0m\u001b[0;34m)\u001b[0m\u001b[0;34m\u001b[0m\u001b[0;34m\u001b[0m\u001b[0m\n\u001b[0m\u001b[1;32m      2\u001b[0m \u001b[0mtype\u001b[0m\u001b[0;34m(\u001b[0m\u001b[0mraw\u001b[0m\u001b[0;34m)\u001b[0m\u001b[0;34m\u001b[0m\u001b[0;34m\u001b[0m\u001b[0m\n",
      "\u001b[0;32m~/opt/anaconda3/lib/python3.8/codecs.py\u001b[0m in \u001b[0;36mdecode\u001b[0;34m(self, input, final)\u001b[0m\n\u001b[1;32m    320\u001b[0m         \u001b[0;31m# decode input (taking the buffer into account)\u001b[0m\u001b[0;34m\u001b[0m\u001b[0;34m\u001b[0m\u001b[0;34m\u001b[0m\u001b[0m\n\u001b[1;32m    321\u001b[0m         \u001b[0mdata\u001b[0m \u001b[0;34m=\u001b[0m \u001b[0mself\u001b[0m\u001b[0;34m.\u001b[0m\u001b[0mbuffer\u001b[0m \u001b[0;34m+\u001b[0m \u001b[0minput\u001b[0m\u001b[0;34m\u001b[0m\u001b[0;34m\u001b[0m\u001b[0m\n\u001b[0;32m--> 322\u001b[0;31m         \u001b[0;34m(\u001b[0m\u001b[0mresult\u001b[0m\u001b[0;34m,\u001b[0m \u001b[0mconsumed\u001b[0m\u001b[0;34m)\u001b[0m \u001b[0;34m=\u001b[0m \u001b[0mself\u001b[0m\u001b[0;34m.\u001b[0m\u001b[0m_buffer_decode\u001b[0m\u001b[0;34m(\u001b[0m\u001b[0mdata\u001b[0m\u001b[0;34m,\u001b[0m \u001b[0mself\u001b[0m\u001b[0;34m.\u001b[0m\u001b[0merrors\u001b[0m\u001b[0;34m,\u001b[0m \u001b[0mfinal\u001b[0m\u001b[0;34m)\u001b[0m\u001b[0;34m\u001b[0m\u001b[0;34m\u001b[0m\u001b[0m\n\u001b[0m\u001b[1;32m    323\u001b[0m         \u001b[0;31m# keep undecoded input until the next call\u001b[0m\u001b[0;34m\u001b[0m\u001b[0;34m\u001b[0m\u001b[0;34m\u001b[0m\u001b[0m\n\u001b[1;32m    324\u001b[0m         \u001b[0mself\u001b[0m\u001b[0;34m.\u001b[0m\u001b[0mbuffer\u001b[0m \u001b[0;34m=\u001b[0m \u001b[0mdata\u001b[0m\u001b[0;34m[\u001b[0m\u001b[0mconsumed\u001b[0m\u001b[0;34m:\u001b[0m\u001b[0;34m]\u001b[0m\u001b[0;34m\u001b[0m\u001b[0;34m\u001b[0m\u001b[0m\n",
      "\u001b[0;31mUnicodeDecodeError\u001b[0m: 'utf-8' codec can't decode byte 0x97 in position 4739: invalid start byte"
     ]
    }
   ],
   "source": [
    "raw = open('txtFiles/Baddek.txt').read()\n",
    "type(raw)"
   ]
  },
  {
   "cell_type": "code",
   "execution_count": 50,
   "id": "7438edcf",
   "metadata": {},
   "outputs": [
    {
     "name": "stdout",
     "output_type": "stream",
     "text": [
      "Baddek\n"
     ]
    },
    {
     "ename": "UnicodeDecodeError",
     "evalue": "'utf-8' codec can't decode byte 0x97 in position 4739: invalid start byte",
     "output_type": "error",
     "traceback": [
      "\u001b[0;31m---------------------------------------------------------------------------\u001b[0m",
      "\u001b[0;31mUnicodeDecodeError\u001b[0m                        Traceback (most recent call last)",
      "\u001b[0;32m<ipython-input-50-effb9b729d1e>\u001b[0m in \u001b[0;36m<module>\u001b[0;34m\u001b[0m\n\u001b[1;32m      1\u001b[0m \u001b[0mprint\u001b[0m\u001b[0;34m(\u001b[0m\u001b[0mdf\u001b[0m\u001b[0;34m.\u001b[0m\u001b[0mName\u001b[0m\u001b[0;34m[\u001b[0m\u001b[0;36m0\u001b[0m\u001b[0;34m]\u001b[0m\u001b[0;34m)\u001b[0m\u001b[0;34m\u001b[0m\u001b[0;34m\u001b[0m\u001b[0m\n\u001b[1;32m      2\u001b[0m \u001b[0;32mwith\u001b[0m \u001b[0mopen\u001b[0m\u001b[0;34m(\u001b[0m\u001b[0;34m\"txtFiles/\"\u001b[0m \u001b[0;34m+\u001b[0m \u001b[0mdf\u001b[0m\u001b[0;34m.\u001b[0m\u001b[0mName\u001b[0m\u001b[0;34m[\u001b[0m\u001b[0;36m0\u001b[0m\u001b[0;34m]\u001b[0m \u001b[0;34m+\u001b[0m \u001b[0;34m'.txt'\u001b[0m\u001b[0;34m)\u001b[0m \u001b[0;32mas\u001b[0m \u001b[0mf\u001b[0m\u001b[0;34m:\u001b[0m\u001b[0;34m\u001b[0m\u001b[0;34m\u001b[0m\u001b[0m\n\u001b[0;32m----> 3\u001b[0;31m     \u001b[0mtext\u001b[0m \u001b[0;34m=\u001b[0m \u001b[0mf\u001b[0m\u001b[0;34m.\u001b[0m\u001b[0mread\u001b[0m\u001b[0;34m(\u001b[0m\u001b[0;34m)\u001b[0m\u001b[0;34m\u001b[0m\u001b[0;34m\u001b[0m\u001b[0m\n\u001b[0m\u001b[1;32m      4\u001b[0m \u001b[0;34m\u001b[0m\u001b[0m\n\u001b[1;32m      5\u001b[0m \u001b[0mprint\u001b[0m\u001b[0;34m(\u001b[0m\u001b[0mtext\u001b[0m\u001b[0;34m)\u001b[0m\u001b[0;34m\u001b[0m\u001b[0;34m\u001b[0m\u001b[0m\n",
      "\u001b[0;32m~/opt/anaconda3/lib/python3.8/codecs.py\u001b[0m in \u001b[0;36mdecode\u001b[0;34m(self, input, final)\u001b[0m\n\u001b[1;32m    320\u001b[0m         \u001b[0;31m# decode input (taking the buffer into account)\u001b[0m\u001b[0;34m\u001b[0m\u001b[0;34m\u001b[0m\u001b[0;34m\u001b[0m\u001b[0m\n\u001b[1;32m    321\u001b[0m         \u001b[0mdata\u001b[0m \u001b[0;34m=\u001b[0m \u001b[0mself\u001b[0m\u001b[0;34m.\u001b[0m\u001b[0mbuffer\u001b[0m \u001b[0;34m+\u001b[0m \u001b[0minput\u001b[0m\u001b[0;34m\u001b[0m\u001b[0;34m\u001b[0m\u001b[0m\n\u001b[0;32m--> 322\u001b[0;31m         \u001b[0;34m(\u001b[0m\u001b[0mresult\u001b[0m\u001b[0;34m,\u001b[0m \u001b[0mconsumed\u001b[0m\u001b[0;34m)\u001b[0m \u001b[0;34m=\u001b[0m \u001b[0mself\u001b[0m\u001b[0;34m.\u001b[0m\u001b[0m_buffer_decode\u001b[0m\u001b[0;34m(\u001b[0m\u001b[0mdata\u001b[0m\u001b[0;34m,\u001b[0m \u001b[0mself\u001b[0m\u001b[0;34m.\u001b[0m\u001b[0merrors\u001b[0m\u001b[0;34m,\u001b[0m \u001b[0mfinal\u001b[0m\u001b[0;34m)\u001b[0m\u001b[0;34m\u001b[0m\u001b[0;34m\u001b[0m\u001b[0m\n\u001b[0m\u001b[1;32m    323\u001b[0m         \u001b[0;31m# keep undecoded input until the next call\u001b[0m\u001b[0;34m\u001b[0m\u001b[0;34m\u001b[0m\u001b[0;34m\u001b[0m\u001b[0m\n\u001b[1;32m    324\u001b[0m         \u001b[0mself\u001b[0m\u001b[0;34m.\u001b[0m\u001b[0mbuffer\u001b[0m \u001b[0;34m=\u001b[0m \u001b[0mdata\u001b[0m\u001b[0;34m[\u001b[0m\u001b[0mconsumed\u001b[0m\u001b[0;34m:\u001b[0m\u001b[0;34m]\u001b[0m\u001b[0;34m\u001b[0m\u001b[0;34m\u001b[0m\u001b[0m\n",
      "\u001b[0;31mUnicodeDecodeError\u001b[0m: 'utf-8' codec can't decode byte 0x97 in position 4739: invalid start byte"
     ]
    }
   ],
   "source": [
    "print(df.Name[0])\n",
    "with open(\"txtFiles/\" + df.Name[0] + '.txt') as f:\n",
    "    text = f.read()\n",
    "\n",
    "print(text)"
   ]
  },
  {
   "cell_type": "markdown",
   "id": "954e928b",
   "metadata": {},
   "source": [
    "## Part 3: Communities and TF-IDF"
   ]
  },
  {
   "cell_type": "markdown",
   "id": "cb4e4674",
   "metadata": {},
   "source": [
    "<font color='darkblue'>\n",
    "    Find communities and compute their associated TF-IDF\n",
    "</font>"
   ]
  },
  {
   "cell_type": "markdown",
   "id": "b43f21b3",
   "metadata": {},
   "source": [
    "* <font color='darkblue'>\n",
    "    Explain the Louvain algorithm and how it finds communities in a newtork.\n",
    "</font>"
   ]
  },
  {
   "cell_type": "markdown",
   "id": "10708c9d",
   "metadata": {},
   "source": [
    "* <font color='darkblue'>\n",
    "    Explain how you chose to identify the communities: Which algorithm did you use? (if you did not use the Louvain method, explain how the method you have used works)\n",
    "</font>"
   ]
  },
  {
   "cell_type": "markdown",
   "id": "6ec5834b",
   "metadata": {},
   "source": [
    "* <font color='darkblue'>\n",
    "    Comment your results:\n",
    "</font>\n",
    "* <font color='darkblue'>\n",
    "    How many communities did you find in total?\n",
    "</font>\n",
    "* <font color='darkblue'>\n",
    "    Compute the value of modularity with the partition created by the algorithm.\n",
    "</font>\n",
    "* <font color='darkblue'>\n",
    "    Plot the distribution of community sizes.\n",
    "</font>"
   ]
  },
  {
   "cell_type": "markdown",
   "id": "fffebcb9",
   "metadata": {},
   "source": [
    "* <font color='darkblue'>\n",
    "    For the 5 largest communities, create TF-IDF based rankings of words in each community.\n",
    "</font>\n",
    "* <font color='darkblue'>\n",
    "    There are many ways to calculate TF-IDF, explain how you've done it and motivate your choices.\n",
    "</font>\n",
    "* <font color='darkblue'>\n",
    "    List the 5 top words for each community according to TF.\n",
    "</font>\n",
    "* <font color='darkblue'>\n",
    "    List the 5 top words for each community accourding to TF-IDF. Are these words more descriptive of the community than just the TF? Justify your answer.\n",
    "</font>"
   ]
  },
  {
   "cell_type": "markdown",
   "id": "a6502248",
   "metadata": {},
   "source": [
    "## Part 4: Sentiment of communities"
   ]
  },
  {
   "cell_type": "markdown",
   "id": "5d886c21",
   "metadata": {},
   "source": [
    "<font color='darkblue'>\n",
    "    Analyze the sentiment of the communities (lecture 8). Here, we assume that you've successfully identified communities.\n",
    "</font>\n",
    "<font color='darkblue'>\n",
    "    A couple of additional instructions you will need below:\n",
    "</font>\n",
    "* <font color='darkblue'>\n",
    "    We name each community by its three most connected characters.\n",
    "</font>\n",
    "* <font color='darkblue'>\n",
    "    Average the average sentiment of the nodes in each community to find a community level sentiment.\n",
    "</font>"
   ]
  },
  {
   "cell_type": "markdown",
   "id": "1cd3a80b",
   "metadata": {},
   "source": [
    "<font color='darkblue'>\n",
    "    Here's what you need to do (repeat these steps and report your results for both LabMT and VADER):\n",
    "</font>"
   ]
  },
  {
   "cell_type": "markdown",
   "id": "7a08c9cd",
   "metadata": {},
   "source": [
    "* <font color='darkblue'>\n",
    "    Calculate and store sentiment for every character\n",
    "</font>"
   ]
  },
  {
   "cell_type": "markdown",
   "id": "cbb648f9",
   "metadata": {},
   "source": [
    "* <font color='darkblue'>\n",
    "    Create a histogram of all character's associated sentiments.\n",
    "</font>"
   ]
  },
  {
   "cell_type": "markdown",
   "id": "b25ec6e7",
   "metadata": {},
   "source": [
    "* <font color='darkblue'>\n",
    "    What are the 10 characters with happiest and saddest pages?\n",
    "</font>"
   ]
  },
  {
   "cell_type": "markdown",
   "id": "5c4a3825",
   "metadata": {},
   "source": [
    "<font color='darkblue'>\n",
    "    Now, compute the sentiment of communities:\n",
    "</font>"
   ]
  },
  {
   "cell_type": "markdown",
   "id": "53a45008",
   "metadata": {},
   "source": [
    "* <font color='darkblue'>\n",
    "    What are the three happiest communities according to the LabMT wordlist approach? What about VADER?\n",
    "</font>"
   ]
  },
  {
   "cell_type": "markdown",
   "id": "9522d98d",
   "metadata": {},
   "source": [
    "* <font color='darkblue'>\n",
    "    What are the three saddest communities according to the LabMT wordlist approach? What about VADER?\n",
    "</font>"
   ]
  },
  {
   "cell_type": "markdown",
   "id": "ca2f1997",
   "metadata": {},
   "source": [
    "* <font color='darkblue'>\n",
    "    Create a bar plot showing the average sentiment of each community and add error-bars using the standard deviation for both methods.\n",
    "</font>"
   ]
  },
  {
   "cell_type": "markdown",
   "id": "3f1e6a50",
   "metadata": {},
   "source": [
    "* <font color='darkblue'>\n",
    "    Explain the difference between the two methods and compare the results you have obtained above.\n",
    "</font>"
   ]
  },
  {
   "cell_type": "markdown",
   "id": "587c689f",
   "metadata": {},
   "source": [
    "* <font color='darkblue'>\n",
    "    What is the advantage of using a rule-based method over the dictionary-based approach?\n",
    "</font>"
   ]
  }
 ],
 "metadata": {
  "kernelspec": {
   "display_name": "Python 3",
   "language": "python",
   "name": "python3"
  },
  "language_info": {
   "codemirror_mode": {
    "name": "ipython",
    "version": 3
   },
   "file_extension": ".py",
   "mimetype": "text/x-python",
   "name": "python",
   "nbconvert_exporter": "python",
   "pygments_lexer": "ipython3",
   "version": "3.8.8"
  }
 },
 "nbformat": 4,
 "nbformat_minor": 5
}
