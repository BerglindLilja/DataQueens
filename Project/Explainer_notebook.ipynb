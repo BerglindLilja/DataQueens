{
 "cells": [
  {
   "cell_type": "markdown",
   "id": "1cd5f903",
   "metadata": {},
   "source": [
    "# Lord of the Rings - Explainer notebook"
   ]
  },
  {
   "cell_type": "markdown",
   "id": "f4126006",
   "metadata": {},
   "source": [
    "This notebook is part B of the final project for the course Social graphs and interactions (02805) in the Fall of 2021."
   ]
  },
  {
   "cell_type": "markdown",
   "id": "4848cef4",
   "metadata": {},
   "source": [
    "![Alt Text](https://i.imgur.com/fVDH5bN.gif)"
   ]
  },
  {
   "cell_type": "markdown",
   "id": "116c7451",
   "metadata": {},
   "source": [
    "# Table of contents\n",
    "* 1. [Motivation](#motivation)\n",
    "* 2. [Basic stats](#basicstats)\n",
    "  * 2.1 [Data cleaning and preprocessing](#datacleaningandpreprocessing)\n",
    "    * 2.1.1 [Books](#2.1.1books)\n",
    "    * 2.1.2 [Transcripts](#2.1.2transcripts)\n",
    "    * 2.1.3 [Wikis](#2.1.3wikis)\n",
    "  * 2.2 [Dataset stats](#datasetstats)\n",
    "    * 2.2.1 [Books](#2.2.1books)\n",
    "    * 2.2.2 [Transcripts](#2.2.2transcripts)\n",
    "    * 2.2.3 [Wikis](#2.2.3wikis)\n",
    "* 3. [Tools, theory and analysis](#tools)\n",
    "  * 3.1 [Books](#3.1books)\n",
    "  * 3.2 [Scripts](#3.2transcripts)\n",
    "  * 3.3 [Wikis](#3.3wikis)\n",
    "  * 3.4 [Comparison - Books and Movies](#3.4booksmovies)\n",
    "* 4. [Discussion](#discussion)\n",
    "* 5. [Contributions](#contributions)"
   ]
  },
  {
   "cell_type": "markdown",
   "id": "d2a8d711",
   "metadata": {},
   "source": [
    "# 1. Motivation <a name=\"motivation\"></a>\n",
    " ####  What is your dataset?\n",
    "There are multiple different datasets used for this analysis:\n",
    "  1. #### Books\n",
    "    * The text files for all the Lord of the Rings books where downloaded from the internet.\n",
    "      * http://www.glozman.com/textpages.html\n",
    "  2. #### Movie transcripts\n",
    "    * Some text explaining\n",
    "      * link\n",
    "      * link\n",
    "      * link\n",
    "  "
   ]
  },
  {
   "cell_type": "markdown",
   "id": "248659a9",
   "metadata": {},
   "source": [
    "3. #### Wiki pages\n",
    "The Lord of the Rings fandom wiki was used as a datasource. From the wiki a list of characters for each of the three movies was downloaded. The character lists were combined and saved in the file:\n",
    "\n",
    "    * characters.csv\n",
    "    \n",
    "Using that list the wiki page for each character was extracted. In total 121 files were downloaded, which are 1,24MB in total."
   ]
  },
  {
   "cell_type": "markdown",
   "id": "81c19194",
   "metadata": {},
   "source": [
    "* #### Why did you choose this/these particular dataset(s)?\n",
    "These particular datasets were chosen ...\n",
    "\n",
    "Each dataset was chosen for different reasons. \n",
    "\n",
    "The books are used to perform natural language processing. They will be used to analyze the sentiment for each chapter in the books, the distribution of interesting words throughout the books and generate word clouds of frequently used words, among other things.\n",
    "\n",
    "The transcripts of the movies are used for natural language processing aswell. As the transcripts specify which character says throughout each movie, they can easily be used to analyze the sentiment of major characters, create word clouds for those characters and generate word clouds for each of the movies, to compare to the books.\n",
    "\n",
    "The wikis are the primary source of information for each character. As the wikis use hyperlinks when refrencing other characters, they can be used generate a network of the characters, where each refrence is represented as a link. On each character wiki page there is also information about the characters race, gender and culture, which will analyzed as well.\n",
    "\n",
    "* #### What was your goal for the end user's experience?\n",
    "The goal was a fun webpage..."
   ]
  },
  {
   "cell_type": "markdown",
   "id": "24eddcbe",
   "metadata": {},
   "source": [
    "The video below highlights the project idea:"
   ]
  },
  {
   "cell_type": "code",
   "execution_count": 2,
   "id": "be05d680",
   "metadata": {},
   "outputs": [
    {
     "data": {
      "image/jpeg": "[encoded data removed]",
      "text/html": [
       "\n",
       "        <iframe\n",
       "            width=\"800\"\n",
       "            height=\"450\"\n",
       "            src=\"https://www.youtube.com/embed/8R3iaZLClng\"\n",
       "            frameborder=\"0\"\n",
       "            allowfullscreen\n",
       "        ></iframe>\n",
       "        "
      ],
      "text/plain": [
       "<IPython.lib.display.YouTubeVideo at 0x22a9876e070>"
      ]
     },
     "execution_count": 2,
     "metadata": {},
     "output_type": "execute_result"
    }
   ],
   "source": [
    "from IPython.display import YouTubeVideo\n",
    "YouTubeVideo('8R3iaZLClng', width=800, height=450)"
   ]
  },
  {
   "cell_type": "markdown",
   "id": "3263d2e6",
   "metadata": {},
   "source": [
    "# 2. Basic stats. Let's understand the dataset better <a name=\"basicstats\"></a>"
   ]
  },
  {
   "cell_type": "code",
   "execution_count": 1,
   "id": "12a43051",
   "metadata": {},
   "outputs": [],
   "source": [
    "# Imports\n",
    "import networkx as nx\n",
    "import pandas as pd\n",
    "import re\n",
    "import matplotlib.pyplot as plt\n",
    "import numpy as np\n",
    "from fa2 import ForceAtlas2\n",
    "from community import community_louvain\n",
    "import matplotlib.cm as cm\n",
    "from collections import Counter"
   ]
  },
  {
   "cell_type": "markdown",
   "id": "527506f1",
   "metadata": {},
   "source": [
    "## 2.1 Write about your choices in data cleaning and preprocessing <a name=\"datacleaningandpreprocessing\"></a>"
   ]
  },
  {
   "cell_type": "markdown",
   "id": "a933fb82",
   "metadata": {},
   "source": [
    "### 2.1.1 Books <a name=\"2.1.1books\"></a>"
   ]
  },
  {
   "cell_type": "markdown",
   "id": "96ecb5ac",
   "metadata": {},
   "source": [
    "### 2.1.2 Transcripts <a name=\"2.1.2transcripts\"></a>\n",
    "\n",
    "The transcripts were downloaded as HTML files from the web. BeautifulSoup was used to remove the HTML tags and only leaving behind the content, i.e. the transcripts themselves. These parsed versions were saved to seperate files.\n",
    "\n",
    "The descriptions of what was going on onscreen from each transcript was removed. These lines are known as action lines. These action lines varied in their denotions. For the \"Two towers\", the action lines was denoted by square brackets. Once these action lines had been removed, all there is left is just the spoken words of the characters. This cleaned transcript was saved in a separate file."
   ]
  },
  {
   "cell_type": "markdown",
   "id": "15619c2a",
   "metadata": {},
   "source": [
    "### 2.1.3 Wikis <a name=\"2.1.3wikis\"></a>\n",
    "\n",
    "The wikis were well structed and followed the same layout, however a few of them had to be polished. The wiki for Frodo Baggins had to be parsed as the information about race and culture was all squashed together. Also, for Frodo, it was noticed that Frodo Baggins had no race specified on his wiki, at the time of retrival. This is a trivial error, so hice race(hobbits), was added to his description.\n",
    "\n",
    "The wiki page Shelob had to be edited a bit aswell. In the culture section a \\<ref\\>\\Some text</ref\\> as it was messing up the culture attribute for that character.\n",
    "\n",
    "The page for the \"Witch-king of Angmar\" specified the race (Men) in singular, this was changed to \"Men\" to be consistant with the rest of the data set. Similarly for \"Meriadoc Brandybuck\",\"Hamfast Gamgee\" and \"Lobelia Sackville-Baggins\", their race was changed from \"Hobbit\" to \"Hobbits\" to be consistant with the rest of the data."
   ]
  },
  {
   "cell_type": "markdown",
   "id": "1fdebacc",
   "metadata": {},
   "source": [
    "## 2.2 Write a short section that discusses the dataset stats (here you can recycle the work you did for Project Assignment A) <a name=\"datasetstats\"></a>"
   ]
  },
  {
   "cell_type": "markdown",
   "id": "3950b222",
   "metadata": {},
   "source": [
    "### 2.2.1 Books <a name=\"2.2.1books\"></a>"
   ]
  },
  {
   "cell_type": "markdown",
   "id": "b6fb3365",
   "metadata": {},
   "source": [
    "### 2.2.2 Transcripts <a name=\"2.2.2transcripts\"></a>"
   ]
  },
  {
   "cell_type": "markdown",
   "id": "91ad11cd",
   "metadata": {},
   "source": [
    "### 2.2.3 Wikis <a name=\"2.2.3wikis\"></a>"
   ]
  },
  {
   "cell_type": "markdown",
   "id": "7c6f3688",
   "metadata": {},
   "source": [
    "# 3. Tools, theory and analysis <a name=\"tools\"></a>"
   ]
  },
  {
   "cell_type": "markdown",
   "id": "07e4cef1",
   "metadata": {},
   "source": [
    "* Talk about how you've worked with text, including regular expressions, unicode, etc.\n",
    "* Describe which network science tools and data analysis strategies you've used, how those network science measures work, and why the tools you've chosen are right for the problem you're solving.\n",
    "* How did you use the tools to understand your dataset?"
   ]
  },
  {
   "cell_type": "markdown",
   "id": "526a32af",
   "metadata": {},
   "source": [
    "## 3.1 Books <a name=\"3.1books\"></a>"
   ]
  },
  {
   "cell_type": "markdown",
   "id": "be0926a0",
   "metadata": {},
   "source": [
    "## 3.2 Transcripts <a name=\"3.2transcripts\"></a>"
   ]
  },
  {
   "cell_type": "markdown",
   "id": "023c0342",
   "metadata": {},
   "source": [
    "## 3.3 Wikis <a name=\"3.3wikis\"></a>"
   ]
  },
  {
   "cell_type": "markdown",
   "id": "dd03acb8",
   "metadata": {},
   "source": [
    "## 3.4 Comparison - Books and Movies <a name=\"3.4booksmovies\"></a>"
   ]
  },
  {
   "cell_type": "markdown",
   "id": "25a4ab48",
   "metadata": {},
   "source": [
    "# 4. Discussion <a name=\"discussion\"></a>"
   ]
  },
  {
   "cell_type": "markdown",
   "id": "8e7cf375",
   "metadata": {},
   "source": [
    "* What went well?\n",
    "* What is still missing? What could be improved?, Why?"
   ]
  },
  {
   "cell_type": "markdown",
   "id": "82ef02bf",
   "metadata": {},
   "source": [
    "# 5. Contributions <a name=\"contributions\"></a>"
   ]
  },
  {
   "cell_type": "markdown",
   "id": "b838afe3",
   "metadata": {},
   "source": [
    "* You should write (just briefly) which group member was the main responsible for which elements of the assignment. (I want you guys to understand every part of the assignment, but usually there is someone who took lead role on certain portions of the work. That’s what you should explain).\n",
    "* It is not OK simply to write \"All group members contributed equally\"."
   ]
  },
  {
   "cell_type": "markdown",
   "id": "54811915",
   "metadata": {},
   "source": [
    "![Alt Text](https://i.imgur.com/2TxUe1G.gif)"
   ]
  }
 ],
 "metadata": {
  "kernelspec": {
   "display_name": "Python 3",
   "language": "python",
   "name": "python3"
  },
  "language_info": {
   "codemirror_mode": {
    "name": "ipython",
    "version": 3
   },
   "file_extension": ".py",
   "mimetype": "text/x-python",
   "name": "python",
   "nbconvert_exporter": "python",
   "pygments_lexer": "ipython3",
   "version": "3.8.5"
  }
 },
 "nbformat": 4,
 "nbformat_minor": 5
}
