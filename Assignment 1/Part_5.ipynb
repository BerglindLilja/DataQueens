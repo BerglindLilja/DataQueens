{
 "cells": [
  {
   "cell_type": "markdown",
   "source": [
    "## Part 5 Power-laws and the friendship paradox"
   ],
   "metadata": {}
  },
  {
   "cell_type": "markdown",
   "source": [
    "Next step is to explore the Friendship paradox. This paradox states that almost everyone have fewer friends than their friends have, on average. This sounds crazy, but is actually an almost trivial consequence of living in a social network with a power-law degree distribution. The explanation is that almost everyone is friends with a hub, that drives up the average degree of the friends. Let's explore that in the 5000 node BA network we've just generated. Do the following:"
   ],
   "metadata": {}
  },
  {
   "cell_type": "code",
   "execution_count": 7,
   "source": [
    "import networkx as nx\r\n",
    "import random\r\n",
    "import numpy as np\r\n",
    "import matplotlib.pyplot as plt\r\n",
    "from random import choice"
   ],
   "outputs": [],
   "metadata": {}
  },
  {
   "cell_type": "code",
   "execution_count": 2,
   "source": [
    "def BAGraph(size):   \r\n",
    "    tmp = nx.Graph()\r\n",
    "    tmp.add_nodes_from([1,2])\r\n",
    "    tmp.add_edge(1,2)\r\n",
    "    #Create a list of all the edges in the graph and flatten the list\r\n",
    "    edges = list(tmp.edges)\r\n",
    "    flat_list = [item for sublist in edges for item in sublist]\r\n",
    "\r\n",
    "    for i in range(3,size+1):\r\n",
    "        edges = list(tmp.edges)\r\n",
    "        flat_list = [item for sublist in edges for item in sublist]\r\n",
    "        x = random.choice(flat_list)\r\n",
    "        tmp.add_node(i)\r\n",
    "        tmp.add_edge(i,x)\r\n",
    "    return tmp      \r\n",
    "\r\n",
    "G5000 = BAGraph(5000)  \r\n",
    "\r\n",
    "#nx.draw(G5000, node_size = 50)"
   ],
   "outputs": [],
   "metadata": {}
  },
  {
   "cell_type": "code",
   "execution_count": 23,
   "source": [
    "#Pick a node i at random (e.g. use random.choice). Find its degree.\r\n",
    "rNode = choice(G5000)\r\n",
    "\r\n",
    "rNodeDegree = G5000.degree(rNode)\r\n",
    "\r\n",
    "print(\"Our random node: \", rNode)\r\n",
    "print(\"The degree of the random node: \", rNodeDegree)\r\n",
    "\r\n",
    "#Find i's neighbors. And calculate their average degree.\r\n",
    "\r\n",
    "#fae einhverja leidinlega villu her, skil ekki aaaalveg af hverju...\r\n",
    "nodeNeighbors = list(G5000.neighbors(rNode))\r\n",
    "\r\n",
    "#print(\"These are the random nodes neighbors: \", [n for n in G5000[rNode]])\r\n",
    "\r\n",
    "#Compare the two numbers to check if it's true that i's friends (on average) have more friends than i.\r\n",
    "\r\n",
    "#Do this 1000 times. How many out of those 1000 times is the friendship paradox true?\r\n",
    "\r\n"
   ],
   "outputs": [
    {
     "output_type": "stream",
     "name": "stdout",
     "text": [
      "Our random node:  {587: {}}\n",
      "The degree of the random node:  [(587, 14)]\n"
     ]
    },
    {
     "output_type": "error",
     "ename": "TypeError",
     "evalue": "unhashable type: 'AtlasView'",
     "traceback": [
      "\u001b[1;31m---------------------------------------------------------------------------\u001b[0m",
      "\u001b[1;31mTypeError\u001b[0m                                 Traceback (most recent call last)",
      "\u001b[1;32m<ipython-input-23-1f0dcc630c7e>\u001b[0m in \u001b[0;36m<module>\u001b[1;34m\u001b[0m\n\u001b[0;32m      9\u001b[0m \u001b[1;31m#Find i's neighbors. And calculate their average degree.\u001b[0m\u001b[1;33m\u001b[0m\u001b[1;33m\u001b[0m\u001b[1;33m\u001b[0m\u001b[0m\n\u001b[0;32m     10\u001b[0m \u001b[1;33m\u001b[0m\u001b[0m\n\u001b[1;32m---> 11\u001b[1;33m \u001b[0mnodeNeighbors\u001b[0m \u001b[1;33m=\u001b[0m \u001b[0mlist\u001b[0m\u001b[1;33m(\u001b[0m\u001b[0mG5000\u001b[0m\u001b[1;33m.\u001b[0m\u001b[0mneighbors\u001b[0m\u001b[1;33m(\u001b[0m\u001b[0mrNode\u001b[0m\u001b[1;33m)\u001b[0m\u001b[1;33m)\u001b[0m\u001b[1;33m\u001b[0m\u001b[1;33m\u001b[0m\u001b[0m\n\u001b[0m\u001b[0;32m     12\u001b[0m \u001b[1;33m\u001b[0m\u001b[0m\n\u001b[0;32m     13\u001b[0m \u001b[1;31m#print(\"These are the random nodes neighbors: \", [n for n in G5000[rNode]])\u001b[0m\u001b[1;33m\u001b[0m\u001b[1;33m\u001b[0m\u001b[1;33m\u001b[0m\u001b[0m\n",
      "\u001b[1;32m~\\anaconda3\\lib\\site-packages\\networkx\\classes\\graph.py\u001b[0m in \u001b[0;36mneighbors\u001b[1;34m(self, n)\u001b[0m\n\u001b[0;32m   1236\u001b[0m         \"\"\"\n\u001b[0;32m   1237\u001b[0m         \u001b[1;32mtry\u001b[0m\u001b[1;33m:\u001b[0m\u001b[1;33m\u001b[0m\u001b[1;33m\u001b[0m\u001b[0m\n\u001b[1;32m-> 1238\u001b[1;33m             \u001b[1;32mreturn\u001b[0m \u001b[0miter\u001b[0m\u001b[1;33m(\u001b[0m\u001b[0mself\u001b[0m\u001b[1;33m.\u001b[0m\u001b[0m_adj\u001b[0m\u001b[1;33m[\u001b[0m\u001b[0mn\u001b[0m\u001b[1;33m]\u001b[0m\u001b[1;33m)\u001b[0m\u001b[1;33m\u001b[0m\u001b[1;33m\u001b[0m\u001b[0m\n\u001b[0m\u001b[0;32m   1239\u001b[0m         \u001b[1;32mexcept\u001b[0m \u001b[0mKeyError\u001b[0m \u001b[1;32mas\u001b[0m \u001b[0me\u001b[0m\u001b[1;33m:\u001b[0m\u001b[1;33m\u001b[0m\u001b[1;33m\u001b[0m\u001b[0m\n\u001b[0;32m   1240\u001b[0m             \u001b[1;32mraise\u001b[0m \u001b[0mNetworkXError\u001b[0m\u001b[1;33m(\u001b[0m\u001b[1;34mf\"The node {n} is not in the graph.\"\u001b[0m\u001b[1;33m)\u001b[0m \u001b[1;32mfrom\u001b[0m \u001b[0me\u001b[0m\u001b[1;33m\u001b[0m\u001b[1;33m\u001b[0m\u001b[0m\n",
      "\u001b[1;31mTypeError\u001b[0m: unhashable type: 'AtlasView'"
     ]
    }
   ],
   "metadata": {}
  },
  {
   "cell_type": "markdown",
   "source": [
    "Finally, we'll build a network of same size and degree, using the growth mechanism without the preferential attachment."
   ],
   "metadata": {}
  },
  {
   "cell_type": "code",
   "execution_count": null,
   "source": [
    "\r\n"
   ],
   "outputs": [],
   "metadata": {}
  },
  {
   "cell_type": "markdown",
   "source": [
    "Compare to the ER network of same size and same $p$. What are the differences? Explain in your own words. Hint: To get started, take a look at the degree distribution, and study the number of connected components."
   ],
   "metadata": {}
  },
  {
   "cell_type": "markdown",
   "source": [],
   "metadata": {}
  }
 ],
 "metadata": {
  "language_info": {
   "name": "python",
   "version": "3.8.5",
   "mimetype": "text/x-python",
   "codemirror_mode": {
    "name": "ipython",
    "version": 3
   },
   "pygments_lexer": "ipython3",
   "nbconvert_exporter": "python",
   "file_extension": ".py"
  },
  "kernelspec": {
   "name": "python3",
   "display_name": "Python 3.8.5 64-bit ('base': conda)"
  },
  "interpreter": {
   "hash": "db5f431d67369367319cce06febc9ad3dd487eb7924657ecef6c0a49fde72334"
  }
 },
 "nbformat": 4,
 "nbformat_minor": 4
}