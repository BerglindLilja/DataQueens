{
 "cells": [
  {
   "cell_type": "code",
   "execution_count": 7,
   "metadata": {},
   "outputs": [],
   "source": [
    "import urllib.request\n",
    "import json\n",
    "from nltk import word_tokenize\n",
    "from bs4 import BeautifulSoup\n"
   ]
  },
  {
   "cell_type": "code",
   "execution_count": 11,
   "metadata": {},
   "outputs": [],
   "source": [
    "#https://www.galileo.org/tips/unlikely-heroes/FOTR_transcript.htm\n",
    "with open(\"transcripts/\" + 'FOTR_transcript.htm' ,encoding='utf-8') as f:\n",
    "        text = f.read()\n",
    "raw = BeautifulSoup(text, 'html.parser').get_text()\n",
    "text_file = open(\"transcripts/\" + 'FOTR_parse' + \".txt\", \"wt\", encoding=\"utf-8\")\n",
    "n = text_file.write(raw)\n",
    "text_file.close()"
   ]
  },
  {
   "cell_type": "code",
   "execution_count": 12,
   "metadata": {},
   "outputs": [],
   "source": [
    "#https://digilander.libero.it/greetingsTdM/2t_copione_english.htm\n",
    "with open(\"transcripts/\" + '2t_copione_english.htm' ,encoding='utf-8') as f:\n",
    "        text = f.read()\n",
    "raw = BeautifulSoup(text, 'html.parser').get_text()\n",
    "text_file = open(\"transcripts/\" + '2t' + \".txt\", \"wt\", encoding=\"utf-8\")\n",
    "n = text_file.write(raw)\n",
    "text_file.close()"
   ]
  }
 ],
 "metadata": {
  "interpreter": {
   "hash": "abeb1b6365932ba6ff4ac4533716daba8e111ed525e182e5e5d09b65a3f8fa33"
  },
  "kernelspec": {
   "display_name": "Python 3",
   "language": "python",
   "name": "python3"
  },
  "language_info": {
   "codemirror_mode": {
    "name": "ipython",
    "version": 3
   },
   "file_extension": ".py",
   "mimetype": "text/x-python",
   "name": "python",
   "nbconvert_exporter": "python",
   "pygments_lexer": "ipython3",
   "version": "3.8.8"
  }
 },
 "nbformat": 4,
 "nbformat_minor": 2
}
