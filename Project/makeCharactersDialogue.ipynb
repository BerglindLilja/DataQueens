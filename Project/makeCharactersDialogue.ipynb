{
 "cells": [
  {
   "cell_type": "code",
   "execution_count": 7,
   "metadata": {},
   "outputs": [],
   "source": [
    "import json\n",
    "import urllib.request\n",
    "import json\n",
    "from nltk import word_tokenize\n",
    "import re\n",
    "import collections\n",
    "import pandas as pd\n",
    "import unidecode"
   ]
  },
  {
   "cell_type": "code",
   "execution_count": 8,
   "metadata": {},
   "outputs": [],
   "source": [
    "\n",
    "#Movie transcripts\n",
    "with open(\"transcripts/\" + 'Fotr_parsed_cleaned2.txt' ,encoding='utf-8') as f:\n",
    "    fellowshipScript = f.read()\n",
    "\n",
    "with open(\"transcripts/\" + '2t_parsed_and_cleaned.txt' ,encoding='utf-8') as f:\n",
    "    towersScript = f.read()\n",
    "\n",
    "with open(\"transcripts/\" + 'RotK_parsed_and_cleaned.txt' ,encoding='utf-8') as f:\n",
    "    kingScript = f.read()\n",
    "\n",
    "#Mini transcript for testing\n",
    "with open(\"transcripts/\" + 'mini_transcript.txt' ,encoding='utf-8') as f:\n",
    "    mini_script = f.read()\n",
    "\n"
   ]
  },
  {
   "cell_type": "code",
   "execution_count": 9,
   "metadata": {},
   "outputs": [],
   "source": [
    "CharDialogue = collections.defaultdict(list)\n",
    "\n",
    "#Empty character dictionary\n",
    "def newEmptyCharDict():\n",
    "    charactersDf = pd.read_csv('characters.csv')\n",
    "\n",
    "    characters = charactersDf.Name\n",
    "    for character in characters:\n",
    "        #unidecode remove accesnts from names, Glóin -> Gloin\n",
    "        unaccentedChar =  unidecode.unidecode(character)\n",
    "        #Needed so the Frodo Baggins lines don't end up in the Frodo Gardner list\n",
    "        if character == \"Frodo Gardner\":\n",
    "            CharDialogue['gardner'].append(\"\")\n",
    "        else:\n",
    "            CharDialogue[unaccentedChar.lower()].append(\"\")\n",
    "\n",
    "    #\"characters\" representing all sentances said by unnamed characters such as \"soldier\" added\n",
    "    CharDialogue[\"hobbits\"].append(\"\")\n",
    "    CharDialogue[\"ring\"].append(\"\")\n",
    "    CharDialogue[\"orcs\"].append(\"\")\n",
    "    CharDialogue[\"men\"].append(\"\")\n",
    "\n"
   ]
  },
  {
   "cell_type": "code",
   "execution_count": 10,
   "metadata": {},
   "outputs": [],
   "source": [
    "#A mapping function since the names of characters in the wiki does not always match transcripts\n",
    "\n",
    "def addToCharDict(charName, dialogue):\n",
    "    charNameSplit = charName.split()\n",
    "    addSuccessful = False\n",
    "\n",
    "    for wikiChar in CharDialogue:\n",
    "        for name in charNameSplit:\n",
    "            unaccentedName =  unidecode.unidecode(name)\n",
    "            #'a' from 'a hobbit', also 'and', 'of'\n",
    "            if len(unaccentedName) < 3 or unaccentedName == \"and\":\n",
    "                return\n",
    "            if unaccentedName in wikiChar:\n",
    "                CharDialogue[wikiChar].append(dialogue)\n",
    "                addSuccessful = True\n",
    "            if unaccentedName == \"merry\" and \"meriadoc brandybuck\" == wikiChar:\n",
    "                CharDialogue[\"meriadoc brandybuck\"].append(dialogue)\n",
    "                addSuccessful = True\n",
    "            if unaccentedName == \"pippin\" and \"peregrin took\" == wikiChar:\n",
    "                CharDialogue[\"peregrin took\"].append(dialogue)\n",
    "                addSuccessful = True\n",
    "            if unaccentedName == \"strider\" and \"aragorn ii elessar\" == wikiChar:\n",
    "                CharDialogue[\"aragorn ii elessar\"].append(dialogue)\n",
    "                addSuccessful = True\n",
    "            if unaccentedName == \"galadriel’s\" and \"galadriel\" == wikiChar:\n",
    "                CharDialogue[\"galadriel\"].append(dialogue)\n",
    "                addSuccessful = True\n",
    "            if (unaccentedName == \"smeagol\") and \"gollum\" == wikiChar:\n",
    "                 CharDialogue[\"gollum\"].append(dialogue)\n",
    "                 addSuccessful = True\n",
    "            if unaccentedName == \"freya\" and \"freda\" == wikiChar:\n",
    "                CharDialogue[\"freda\"].append(dialogue)\n",
    "                addSuccessful = True\n",
    "            if (unaccentedName == \"soldier\" or unaccentedName == \"captain\" or unaccentedName == \"mother\" or unaccentedName == \"crowd\" or unaccentedName == \"gatekeeper\" or unaccentedName == \"guard\" or unaccentedName == \"refugees\" or unaccentedName == \"soldiers\") and \"men\" == wikiChar:\n",
    "                CharDialogue[\"men\"].append(dialogue)\n",
    "                addSuccessful = True\n",
    "    return addSuccessful\n"
   ]
  },
  {
   "cell_type": "code",
   "execution_count": 11,
   "metadata": {},
   "outputs": [],
   "source": [
    "#add dialog from a character to a dictionary with characters for keys and all dialogs by character as value\n",
    "def makeCharacterDialogue(scripts):\n",
    "    allNotFound = []\n",
    "\n",
    "    for script in scripts:\n",
    "        lines = script.splitlines()\n",
    "        for line in lines:\n",
    "            splitLine = line.split(\":\", 1)\n",
    "\n",
    "            if len(splitLine) > 1:\n",
    "                dialogue = splitLine[1]\n",
    "                charName = splitLine[0].lower()\n",
    "                addChar = addToCharDict(charName, dialogue)\n",
    "                if addChar == False:\n",
    "                    allNotFound.append(charName)\n"
   ]
  },
  {
   "cell_type": "code",
   "execution_count": 12,
   "metadata": {},
   "outputs": [],
   "source": [
    "scripts = [fellowshipScript, towersScript, kingScript]\n",
    "newEmptyCharDict()\n",
    "makeCharacterDialogue(scripts)\n",
    "\n",
    "#create a json file with the character dialogue\n",
    "with open(\"characterDialogue.json\", \"wt\", encoding='utf-8') as outfile:\n",
    "    json.dump(CharDialogue, outfile, ensure_ascii=False)"
   ]
  }
 ],
 "metadata": {
  "interpreter": {
   "hash": "62e5028be477a862a668d39e7a4bf7afb4d7f28152a2aac61cec1b66f117e288"
  },
  "kernelspec": {
   "display_name": "Python 3.8.10 64-bit",
   "language": "python",
   "name": "python3"
  },
  "language_info": {
   "codemirror_mode": {
    "name": "ipython",
    "version": 3
   },
   "file_extension": ".py",
   "mimetype": "text/x-python",
   "name": "python",
   "nbconvert_exporter": "python",
   "pygments_lexer": "ipython3",
   "version": "3.8.10"
  },
  "orig_nbformat": 4
 },
 "nbformat": 4,
 "nbformat_minor": 2
}
