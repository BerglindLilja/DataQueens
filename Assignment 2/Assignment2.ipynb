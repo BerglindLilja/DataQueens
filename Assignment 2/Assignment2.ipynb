{
 "cells": [
  {
   "cell_type": "markdown",
   "id": "cfcd0ba5",
   "metadata": {},
   "source": [
    "<font color='darkblue'>\n",
    "    \n",
    "</font>"
   ]
  },
  {
   "cell_type": "code",
   "execution_count": 2,
   "id": "247f148d",
   "metadata": {},
   "outputs": [],
   "source": [
    "# Imports\n",
    "import networkx as nx\n",
    "import pandas as pd\n",
    "import json\n",
    "import re\n",
    "import numpy as np\n",
    "import matplotlib.pyplot as plt"
   ]
  },
  {
   "cell_type": "markdown",
   "id": "99ca715d",
   "metadata": {},
   "source": [
    "# Assignment 2"
   ]
  },
  {
   "cell_type": "markdown",
   "id": "444da797",
   "metadata": {},
   "source": [
    "## Part 0: Building the network"
   ]
  },
  {
   "cell_type": "markdown",
   "id": "16edfe8b",
   "metadata": {},
   "source": [
    "To create our network, we downloaded the Zelda Wiki pages for all characters in BotW (during Week 4) and linked them via the hyperlinks connecting pages to each other. To achieve this goal we have used regular expressions!"
   ]
  },
  {
   "cell_type": "markdown",
   "id": "14dcfffd",
   "metadata": {},
   "source": [
    "- Explain the strategy you have used to extract the hyperlinks from the Wiki-pages, assuming that you have already collected the pages with the Zelda API.\n"
   ]
  },
  {
   "cell_type": "markdown",
   "id": "46c2e494",
   "metadata": {},
   "source": [
    "- Show the regular expression(s) you have built and explain in details how it works."
   ]
  },
  {
   "cell_type": "markdown",
   "id": "83b05998",
   "metadata": {},
   "source": []
  },
  {
   "cell_type": "markdown",
   "id": "185677b1",
   "metadata": {},
   "source": [
    "## Part 1: Network visualization and basic stats"
   ]
  },
  {
   "cell_type": "code",
   "execution_count": 13,
   "metadata": {},
   "outputs": [],
   "source": [
    "#Building the network from the .txt files\n",
    "failed = ['Granté','Metal Boulder','Spiked Boulder','Central Hy'] #Characters that I failed to retrive info on\n",
    "charactersDf = pd.read_csv('charecters.csv')\n"
   ]
  },
  {
   "cell_type": "code",
   "execution_count": 14,
   "metadata": {},
   "outputs": [],
   "source": [
    "def nodeInfo(text):\n",
    "    genderRe1 = re.findall(r'(?:gender=\\s)([a-zA-Z]*)(?:<.*?\\/>)?(?:\\{\\{.*?\\}\\})?',text)\n",
    "    if genderRe1:\n",
    "        if genderRe1[0] == '':\n",
    "            gender = 'Unknown'\n",
    "        else:\n",
    "            gender = genderRe1[0]\n",
    "    else:\n",
    "        gender = 'Unknown'\n",
    "    raceRe1 = re.findall(r'(?:race=\\s)\\{\\{Term\\|BotW\\|(.*?)\\|link\\}\\}',text)\n",
    "    raceRe2 = re.findall(r'(?:race=\\s)\\[\\[(.*?)(?:\\|.*?)?\\]\\]',text)\n",
    "\n",
    "    if raceRe1:\n",
    "        race = raceRe1[0]\n",
    "    elif raceRe2:\n",
    "        race = raceRe2[0] \n",
    "    else:\n",
    "        race = 'none'\n",
    "    pattern1 = '\\[\\[(.*?)(?:\\|.*?)?\\]\\]'\n",
    "    pattern2 = '\\{\\{Term\\|BotW\\|(.*?)\\|link\\}\\}'\n",
    "    square = re.findall(pattern1,text)\n",
    "    curly = re.findall(pattern2,text)\n",
    "    edges = square + curly\n",
    "    return gender,race,edges"
   ]
  },
  {
   "cell_type": "code",
   "execution_count": 15,
   "metadata": {},
   "outputs": [],
   "source": [
    "def filterC(chars,charList):\n",
    "    ret = []\n",
    "    i = 0\n",
    "    for i in range(len(chars)):\n",
    "        if chars[i] in charList:\n",
    "            ret.append(chars[i])\n",
    "    return ret"
   ]
  },
  {
   "cell_type": "code",
   "execution_count": 16,
   "metadata": {},
   "outputs": [],
   "source": [
    "def tuples(name, list):\n",
    "    tmp = []\n",
    "    for item in list:\n",
    "        tmp.append((name,item))\n",
    "    return tmp"
   ]
  },
  {
   "cell_type": "code",
   "execution_count": 23,
   "metadata": {},
   "outputs": [
    {
     "name": "stdout",
     "output_type": "stream",
     "text": [
      "Granté\n",
      "Magma Bomb\n",
      "Metal Boulder\n"
     ]
    }
   ],
   "source": [
    "nameList = list(charactersDf.Name)\n",
    "networkInfoDf = pd.DataFrame(columns={\"name\",\"race\",\"gender\",\"charlist\",'role'})\n",
    "for row in charactersDf.iterrows():\n",
    "    try:\n",
    "        name= row[1]['Name']\n",
    "        with open(\"utf8txtfiles/\" + name + '.txt',encoding='utf-8') as f:\n",
    "            text = f.read()\n",
    "        g,r,e = nodeInfo(text)\n",
    "        charList = filterC(e,nameList)\n",
    "        networkInfoDf = networkInfoDf.append({\"name\":name,\"race\":r,\"gender\":g,\"charlist\":tuples(name,charList),\"role\":row[1]['type']},ignore_index=True)\n",
    "    except:\n",
    "        print(name)\n",
    "    \n",
    "    \n"
   ]
  },
  {
   "cell_type": "code",
   "execution_count": 24,
   "metadata": {},
   "outputs": [],
   "source": [
    "G = nx.DiGraph()\n",
    "nameList = list(charactersDf.Name)\n",
    "#Add all nodes to graph\n",
    "for row in networkInfoDf.iterrows():\n",
    "    name = row[1]['name']\n",
    "    gender = row[1]['gender']\n",
    "    race = row[1]['race']\n",
    "    role = row[1]['role']\n",
    "    G.add_node(name,race = race, gender = gender,role=role)\n",
    "\n",
    "for row in networkInfoDf.iterrows():\n",
    "    charList = row[1]['charlist']\n",
    "    G.add_edges_from(charList)"
   ]
  },
  {
   "cell_type": "markdown",
   "metadata": {},
   "source": [
    "- What is the number of nodes in the network?\n",
    "- More importantly, what is the number of links?"
   ]
  },
  {
   "cell_type": "code",
   "execution_count": 25,
   "metadata": {},
   "outputs": [
    {
     "name": "stdout",
     "output_type": "stream",
     "text": [
      "Number of nodes and links in the network\n",
      "------------------------------------------\n",
      "Name: \n",
      "Type: DiGraph\n",
      "Number of nodes: 528\n",
      "Number of edges: 1478\n",
      "Average in degree:   2.7992\n",
      "Average out degree:   2.7992\n"
     ]
    }
   ],
   "source": [
    "GunD = G.to_undirected()\n",
    "giant = list(max(nx.connected_components(GunD), key=len))\n",
    "gcc = G.subgraph(giant).copy()\n",
    "print('Number of nodes and links in the network')\n",
    "print('------------------------------------------')\n",
    "print(nx.info(gcc))"
   ]
  },
  {
   "cell_type": "markdown",
   "metadata": {},
   "source": [
    "- Who is the top connected character in BotW? (Report results for the in-degrees and out-degrees). Comment on your findings. Is this what you would have expected?"
   ]
  },
  {
   "cell_type": "code",
   "execution_count": 26,
   "metadata": {},
   "outputs": [
    {
     "name": "stdout",
     "output_type": "stream",
     "text": [
      "The charecter with the highest 'in' degree is:  Link\n",
      "The charecter with the highest 'out' degree is:  Traysi\n",
      "The charecter with the highest 'total' degree is:  Link\n"
     ]
    }
   ],
   "source": [
    "AllyInDegree = []\n",
    "AllyOutDegree = []\n",
    "AllyTotalDegree = []\n",
    "\n",
    "EnemyInDegree = []\n",
    "EnemyOutDegree = []\n",
    "EnemyTotalDegree = []\n",
    "for node in gcc.nodes(data=True):\n",
    "    if bool(node[1]):\n",
    "        if node[1]['role'] == 'Ally':\n",
    "            AllyInDegree.append((node[0],gcc.in_degree(node[0])))\n",
    "            AllyOutDegree.append((node[0],gcc.out_degree(node[0])))\n",
    "            AllyTotalDegree.append((node[0],gcc.degree(node[0])))\n",
    "        else:\n",
    "            EnemyInDegree.append((node[0],gcc.in_degree(node[0])))\n",
    "            EnemyOutDegree.append((node[0],gcc.out_degree(node[0])))\n",
    "            EnemyTotalDegree.append((node[0],gcc.degree(node[0])))\n",
    "\n",
    "inDegree = [(node,G.in_degree(node)) for node in G.nodes()]\n",
    "outDegree = [(node,G.out_degree(node)) for node in G.nodes()]\n",
    "totalDegree = [(node,G.degree(node)) for node in G.nodes()]\n",
    "print( 'The charecter with the highest \\'in\\' degree is: ',max(inDegree,key=lambda item:item[1])[0])\n",
    "print( 'The charecter with the highest \\'out\\' degree is: ',max(outDegree,key=lambda item:item[1])[0])\n",
    "print( 'The charecter with the highest \\'total\\' degree is: ',max(totalDegree,key=lambda item:item[1])[0])"
   ]
  },
  {
   "cell_type": "markdown",
   "metadata": {},
   "source": [
    "As expected, the main character of the series, Link, is the most connected character in terms of 'in' degree and in the undirected graph. As the others of this report are not totally familiar with the Zelda games, we are not familiar with the character Traysi, so we can't really comment on that."
   ]
  },
  {
   "cell_type": "markdown",
   "metadata": {},
   "source": [
    "- Who are the top 5 most connected allies (again in terms of in/out-degree)?\n"
   ]
  },
  {
   "cell_type": "code",
   "execution_count": 27,
   "metadata": {},
   "outputs": [
    {
     "name": "stdout",
     "output_type": "stream",
     "text": [
      "The allies with the highest in degree are:\n",
      "('Link', 377)\n",
      "('Riju', 22)\n",
      "('Princess Zelda', 19)\n",
      "('Mipha', 18)\n",
      "('Sidon', 13)\n",
      "----------------------------\n",
      "The allies with the highest out degree are:\n",
      "('Traysi', 14)\n",
      "('Urbosa', 11)\n",
      "('Link', 10)\n",
      "('Daruk', 9)\n",
      "('Impa', 9)\n",
      "----------------------------\n",
      "The top 5 most connected allies are:\n",
      "('Link', 387)\n",
      "('Princess Zelda', 27)\n",
      "('Riju', 27)\n",
      "('Mipha', 25)\n",
      "('Impa', 21)\n"
     ]
    }
   ],
   "source": [
    "AllyInDegree.sort(key=lambda y: y[1],reverse=True)\n",
    "AllyOutDegree.sort(key=lambda y: y[1],reverse=True)\n",
    "AllyTotalDegree.sort(key=lambda y: y[1],reverse=True)\n",
    "\n",
    "EnemyInDegree.sort(key=lambda y: y[1],reverse=True)\n",
    "EnemyOutDegree.sort(key=lambda y: y[1],reverse=True)\n",
    "EnemyTotalDegree.sort(key=lambda y: y[1],reverse=True)\n",
    "print(\"The allies with the highest in degree are:\")\n",
    "for i in range (5):\n",
    "    print(AllyInDegree[i])\n",
    "print('----------------------------')\n",
    "print(\"The allies with the highest out degree are:\")\n",
    "for i in range (5):\n",
    "    print(AllyOutDegree[i])\n",
    "print('----------------------------')\n",
    "print(\"The top 5 most connected allies are:\")\n",
    "for i in range (5):\n",
    "    print(AllyTotalDegree[i])"
   ]
  },
  {
   "cell_type": "markdown",
   "metadata": {},
   "source": [
    "- Who are the top 5 most connected enemies -- bosses included -- (again in terms of in/out-degree)?\n"
   ]
  },
  {
   "cell_type": "code",
   "execution_count": 28,
   "metadata": {},
   "outputs": [
    {
     "name": "stdout",
     "output_type": "stream",
     "text": [
      "The enemies with the highest in degree are:\n",
      "('Calamity Ganon', 86)\n",
      "('Gerudo Desert', 55)\n",
      "('Bokoblin', 11)\n",
      "('Malice', 9)\n",
      "('Moblin', 8)\n",
      "----------------------------\n",
      "The enemies with the highest out degree are:\n",
      "('Stalizalfos', 11)\n",
      "('Moblin', 10)\n",
      "('Silver Lizalfos', 9)\n",
      "('Gerudo Desert', 9)\n",
      "('Blue Lizalfos', 8)\n",
      "----------------------------\n",
      "The top 5 most connected enemies are:\n",
      "('Calamity Ganon', 91)\n",
      "('Gerudo Desert', 64)\n",
      "('Moblin', 18)\n",
      "('Stalizalfos', 18)\n",
      "('Silver Lizalfos', 13)\n"
     ]
    }
   ],
   "source": [
    "print(\"The enemies with the highest in degree are:\")\n",
    "for i in range (5):\n",
    "    print(EnemyInDegree[i])\n",
    "print('----------------------------')\n",
    "print(\"The enemies with the highest out degree are:\")\n",
    "for i in range (5):\n",
    "    print(EnemyOutDegree[i])\n",
    "print('----------------------------')\n",
    "print(\"The top 5 most connected enemies are:\")\n",
    "for i in range (5):\n",
    "    print(EnemyTotalDegree[i])"
   ]
  },
  {
   "cell_type": "markdown",
   "metadata": {},
   "source": [
    "- Plot the in- and out-degree distributions. \n",
    "- - What do you observe? \n",
    "- - Can you explain why the in-degree distribution is different from the out-degree distribution?"
   ]
  },
  {
   "cell_type": "code",
   "execution_count": 29,
   "metadata": {},
   "outputs": [
    {
     "data": {
      "image/png": "[encoded data removed]",
      "text/plain": [
       "<Figure size 1440x720 with 1 Axes>"
      ]
     },
     "metadata": {
      "needs_background": "light"
     },
     "output_type": "display_data"
    },
    {
     "data": {
      "image/png": "[encoded data removed]",
      "text/plain": [
       "<Figure size 1440x720 with 1 Axes>"
      ]
     },
     "metadata": {
      "needs_background": "light"
     },
     "output_type": "display_data"
    },
    {
     "data": {
      "image/png": "[encoded data removed]",
      "text/plain": [
       "<Figure size 1440x720 with 1 Axes>"
      ]
     },
     "metadata": {
      "needs_background": "light"
     },
     "output_type": "display_data"
    }
   ],
   "source": [
    "inDegree = [gcc.in_degree(node) for node in gcc.nodes()]\n",
    "outDegree = [gcc.out_degree(node) for node in gcc.nodes()]\n",
    "totalDegree = [gcc.degree(node) for node in gcc.nodes()]\n",
    "\n",
    "maxIn = max(inDegree,key=lambda item:item)\n",
    "maxOut = max(outDegree,key=lambda item:item)\n",
    "maxTotal = max(totalDegree,key=lambda item:item)\n",
    "\n",
    "minIn = min(inDegree,key=lambda item:item)\n",
    "minOut = min(outDegree,key=lambda item:item)\n",
    "minTotal = min(totalDegree,key=lambda item:item)\n",
    "\n",
    "vIn = np.linspace(minIn, maxIn, maxIn-minIn+1)\n",
    "counts, vIn = np.histogram(inDegree, vIn)\n",
    "plt.figure(figsize=(20,10))\n",
    "plt.bar(vIn[:-1], counts)\n",
    "plt.xlabel(\"Bins\")\n",
    "plt.ylabel(\"Degree\")\n",
    "plt.title('Distribution of in degrees')\n",
    "\n",
    "vOut = np.linspace(minOut, maxOut, maxOut-minOut+1)\n",
    "counts, vOut = np.histogram(outDegree, vOut)\n",
    "plt.figure(figsize=(20,10))\n",
    "plt.bar(vOut[:-1], counts)\n",
    "plt.xlabel(\"Bins\")\n",
    "plt.ylabel(\"Degree\")\n",
    "plt.title('Distribution of out degrees')\n",
    "\n",
    "vTotal = np.linspace(minTotal, maxTotal, maxTotal-minTotal+1)\n",
    "counts, vTotal = np.histogram(totalDegree, vTotal)\n",
    "plt.figure(figsize=(20,10))\n",
    "plt.bar(vTotal[:-1], counts)\n",
    "plt.xlabel(\"Bins\")\n",
    "plt.ylabel(\"Degree\")\n",
    "plt.title('Distribution of toal degrees')\n",
    "\n",
    "\n",
    "plt.show()"
   ]
  },
  {
   "cell_type": "markdown",
   "metadata": {},
   "source": [
    "What we can see from these degree distributions is that the out-degree is much more evenly disrtibuted than the in degree. This would suggest that every character's page has a similar amount of hyperlinks. The in-degree distribution is not even at all. The vast majority of nodes have a few in-edges as can be seen in the distribution. There are a few nodes (characters) with a very high degree of in-edges. We suspect that these are the main characters in the game (e.g. Link), so a large number of minor characters refrence them in their wiki-page."
   ]
  },
  {
   "cell_type": "markdown",
   "metadata": {},
   "source": [
    "- Find the exponent of the degree distribution (by using the powerlaw package) for the in- and out-degree distribution. What does it say about our network?"
   ]
  },
  {
   "cell_type": "code",
   "execution_count": 30,
   "metadata": {},
   "outputs": [],
   "source": [
    "#TODO"
   ]
  },
  {
   "cell_type": "markdown",
   "metadata": {},
   "source": [
    "- Compare the degree distribution of the undirected graph to a random network with the same number of nodes and probability of connection p. Comment your results."
   ]
  },
  {
   "cell_type": "code",
   "execution_count": 31,
   "metadata": {},
   "outputs": [
    {
     "data": {
      "image/png": "[encoded data removed]",
      "text/plain": [
       "<Figure size 1440x720 with 1 Axes>"
      ]
     },
     "metadata": {
      "needs_background": "light"
     },
     "output_type": "display_data"
    }
   ],
   "source": [
    "n = gcc.number_of_nodes()\n",
    "k = gcc.number_of_edges()/ gcc.number_of_nodes()\n",
    "p = k/(n-1)\n",
    "gnp = nx.fast_gnp_random_graph(n,p)\n",
    "\n",
    "degreeGnp = [gnp.degree(node) for node in gnp.nodes()]\n",
    "maxGnp = max(degreeGnp,key=lambda item:item)\n",
    "minGnp = min(degreeGnp,key=lambda item:item)\n",
    "\n",
    "vGnp = np.linspace(minGnp, maxGnp, maxGnp-minGnp+1)\n",
    "countsGnp, vGnp = np.histogram(degreeGnp, vGnp)\n",
    "plt.figure(figsize=(20,10))\n",
    "plt.bar(vGnp[:-1], countsGnp)\n",
    "plt.xlabel(\"Bins\")\n",
    "plt.ylabel(\"Degree\")\n",
    "plt.title('Distribution of toal degrees')\n",
    "plt.show()"
   ]
  },
  {
   "cell_type": "markdown",
   "metadata": {},
   "source": [
    "Since the random network (Gnp) is undirected, we can only compare it's degree distribution to the total degree distribution of our Zelda network. We can see that the average degree in the random network is much more evenly distributed than the Zelda network. Since the network is created at random, it is very unlikely that it would have a distribution similar to the Zelda network, where the majority of nodes have only one edge and a single node has around 400 edges, as we see in the Zelda network. The distribution of the random networks resembles a normal distribution."
   ]
  },
  {
   "cell_type": "markdown",
   "id": "0bea50bc",
   "metadata": {},
   "source": [
    "### Exercise 1b: Visualization"
   ]
  },
  {
   "cell_type": "markdown",
   "id": "4dc88ea4",
   "metadata": {},
   "source": [
    "* <font color='darkblue'>\n",
    "    Create a nice visualization of the total (undirected) network:\n",
    "</font>\n",
    "* <font color='darkblue'>\n",
    "    Color nodes according to the role;\n",
    "</font>\n",
    "* <font color='darkblue'>\n",
    "    Scale node-size according to degree;\n",
    "</font>\n",
    "* <font color='darkblue'>\n",
    "    Get node positions based on the Force Atlas 2 algorithm;\n",
    "</font>\n",
    "* <font color='darkblue'>\n",
    "    Whatever else you feel like that would make the visualization nicer.\n",
    "</font>"
   ]
  },
  {
   "cell_type": "markdown",
   "id": "f51363d9",
   "metadata": {},
   "source": []
  },
  {
   "cell_type": "markdown",
   "id": "8de37a56",
   "metadata": {},
   "source": [
    "* <font color='darkblue'>\n",
    "    Describe the structure you observe. Can you identify nodes with a privileged position in the network? Do you observe chains of connected nodes? Do you see any interesting group of nodes (can you guess who's involved)?\n",
    "</font>"
   ]
  },
  {
   "cell_type": "markdown",
   "id": "1613771c",
   "metadata": {},
   "source": []
  },
  {
   "cell_type": "markdown",
   "id": "182c3575",
   "metadata": {},
   "source": [
    "## Part 2: Word-clouds"
   ]
  },
  {
   "cell_type": "markdown",
   "id": "cf22cd88",
   "metadata": {},
   "source": [
    "* <font color='darkblue'>\n",
    "    Create a word-cloud for each race of the five champions of Hyrule (i.e. Hylian, Zora, Goron, Gerudo, and Rito) according to either TC-IDF. Feel free to make it as fancy as you like. Explain your process and comment on your results.\n",
    "</font>"
   ]
  },
  {
   "cell_type": "markdown",
   "id": "31cfef9d",
   "metadata": {},
   "source": [
    "Extract the 5 races from the list. \n",
    "\n"
   ]
  },
  {
   "cell_type": "code",
   "execution_count": 66,
   "id": "619ebd44",
   "metadata": {},
   "outputs": [],
   "source": [
    "# df = pd.read_csv('Zelda.csv', encoding = 'unicode_escape')\n",
    "df = pd.read_csv('Zelda.csv')"
   ]
  },
  {
   "cell_type": "code",
   "execution_count": 60,
   "id": "386c84e1",
   "metadata": {},
   "outputs": [
    {
     "name": "stdout",
     "output_type": "stream",
     "text": [
      "                  Name  Role     Race   Gender\n",
      "0               Baddek  Ally   Hylian     Male\n",
      "1               Bamboo  Ally    Horse  Unknown\n",
      "2                Banji  Ally   Hylian   Female\n",
      "3               Baumar  Ally   Hylian     Male\n",
      "4                Bayge  Ally    Goron     Male\n",
      "..                 ...   ...      ...      ...\n",
      "651  Waterblight Ganon  Boss  Unknown  Unknown\n",
      "652       Master Kohga  Boss  Sheikah     Male\n",
      "653    Monk Maz Koshia  Boss  Sheikah     Male\n",
      "654     Calamity Ganon  Boss   Gerudo     Male\n",
      "655   Dark Beast Ganon  Boss   Gerudo     Male\n",
      "\n",
      "[656 rows x 4 columns]\n"
     ]
    }
   ],
   "source": [
    "print(df)"
   ]
  },
  {
   "cell_type": "code",
   "execution_count": 61,
   "id": "832962de",
   "metadata": {
    "scrolled": true
   },
   "outputs": [
    {
     "name": "stdout",
     "output_type": "stream",
     "text": [
      "                 Name  Role    Race  Gender\n",
      "0              Baddek  Ally  Hylian    Male\n",
      "2               Banji  Ally  Hylian  Female\n",
      "3              Baumar  Ally  Hylian    Male\n",
      "4               Bayge  Ally   Goron    Male\n",
      "6              Bolson  Ally  Hylian    Male\n",
      "..                ...   ...     ...     ...\n",
      "550             Shibo  Ally  Hylian    Male\n",
      "552          Tasseren  Ally  Hylian    Male\n",
      "567              Rola  Ally  Hylian  Female\n",
      "654    Calamity Ganon  Boss  Gerudo    Male\n",
      "655  Dark Beast Ganon  Boss  Gerudo    Male\n",
      "\n",
      "[386 rows x 4 columns]\n"
     ]
    }
   ],
   "source": [
    "#Extract the 5 races out of the df\n",
    "#Gætum fundið betri aðferð til að gera þetta!\n",
    "df = olddf.loc[(olddf['Race'] == 'Hylian') | (olddf['Race'] == 'Zora') | (olddf['Race'] == 'Goron') | (olddf['Race'] == 'Gerudo') | (olddf['Race'] == 'Rito')]\n",
    "print (df)"
   ]
  },
  {
   "cell_type": "code",
   "execution_count": null,
   "id": "dacc106a",
   "metadata": {},
   "outputs": [],
   "source": []
  },
  {
   "cell_type": "code",
   "execution_count": 62,
   "id": "82472cdd",
   "metadata": {
    "scrolled": true
   },
   "outputs": [],
   "source": []
  },
  {
   "cell_type": "code",
   "execution_count": 63,
   "id": "9065ed56",
   "metadata": {},
   "outputs": [],
   "source": []
  },
  {
   "cell_type": "code",
   "execution_count": 64,
   "id": "c0796eb8",
   "metadata": {},
   "outputs": [],
   "source": []
  },
  {
   "cell_type": "code",
   "execution_count": 65,
   "id": "93306e6c",
   "metadata": {},
   "outputs": [],
   "source": []
  },
  {
   "cell_type": "markdown",
   "id": "954e928b",
   "metadata": {},
   "source": [
    "## Part 3: Communities and TF-IDF"
   ]
  },
  {
   "cell_type": "markdown",
   "id": "cb4e4674",
   "metadata": {},
   "source": [
    "<font color='darkblue'>\n",
    "    Find communities and compute their associated TF-IDF\n",
    "</font>"
   ]
  },
  {
   "cell_type": "markdown",
   "id": "b43f21b3",
   "metadata": {},
   "source": [
    "* <font color='darkblue'>\n",
    "    Explain the Louvain algorithm and how it finds communities in a newtork.\n",
    "</font>"
   ]
  },
  {
   "cell_type": "markdown",
   "id": "10708c9d",
   "metadata": {},
   "source": [
    "* <font color='darkblue'>\n",
    "    Explain how you chose to identify the communities: Which algorithm did you use? (if you did not use the Louvain method, explain how the method you have used works)\n",
    "</font>"
   ]
  },
  {
   "cell_type": "markdown",
   "id": "6ec5834b",
   "metadata": {},
   "source": [
    "* <font color='darkblue'>\n",
    "    Comment your results:\n",
    "</font>\n",
    "* <font color='darkblue'>\n",
    "    How many communities did you find in total?\n",
    "</font>\n",
    "* <font color='darkblue'>\n",
    "    Compute the value of modularity with the partition created by the algorithm.\n",
    "</font>\n",
    "* <font color='darkblue'>\n",
    "    Plot the distribution of community sizes.\n",
    "</font>"
   ]
  },
  {
   "cell_type": "markdown",
   "id": "fffebcb9",
   "metadata": {},
   "source": [
    "* <font color='darkblue'>\n",
    "    For the 5 largest communities, create TF-IDF based rankings of words in each community.\n",
    "</font>\n",
    "* <font color='darkblue'>\n",
    "    There are many ways to calculate TF-IDF, explain how you've done it and motivate your choices.\n",
    "</font>\n",
    "* <font color='darkblue'>\n",
    "    List the 5 top words for each community according to TF.\n",
    "</font>\n",
    "* <font color='darkblue'>\n",
    "    List the 5 top words for each community accourding to TF-IDF. Are these words more descriptive of the community than just the TF? Justify your answer.\n",
    "</font>"
   ]
  },
  {
   "cell_type": "markdown",
   "id": "a6502248",
   "metadata": {},
   "source": [
    "## Part 4: Sentiment of communities"
   ]
  },
  {
   "cell_type": "markdown",
   "id": "5d886c21",
   "metadata": {},
   "source": [
    "<font color='darkblue'>\n",
    "    Analyze the sentiment of the communities (lecture 8). Here, we assume that you've successfully identified communities.\n",
    "</font>\n",
    "<font color='darkblue'>\n",
    "    A couple of additional instructions you will need below:\n",
    "</font>\n",
    "* <font color='darkblue'>\n",
    "    We name each community by its three most connected characters.\n",
    "</font>\n",
    "* <font color='darkblue'>\n",
    "    Average the average sentiment of the nodes in each community to find a community level sentiment.\n",
    "</font>"
   ]
  },
  {
   "cell_type": "markdown",
   "id": "1cd3a80b",
   "metadata": {},
   "source": [
    "<font color='darkblue'>\n",
    "    Here's what you need to do (repeat these steps and report your results for both LabMT and VADER):\n",
    "</font>"
   ]
  },
  {
   "cell_type": "markdown",
   "id": "7a08c9cd",
   "metadata": {},
   "source": [
    "* <font color='darkblue'>\n",
    "    Calculate and store sentiment for every character\n",
    "</font>"
   ]
  },
  {
   "cell_type": "markdown",
   "id": "cbb648f9",
   "metadata": {},
   "source": [
    "* <font color='darkblue'>\n",
    "    Create a histogram of all character's associated sentiments.\n",
    "</font>"
   ]
  },
  {
   "cell_type": "markdown",
   "id": "b25ec6e7",
   "metadata": {},
   "source": [
    "* <font color='darkblue'>\n",
    "    What are the 10 characters with happiest and saddest pages?\n",
    "</font>"
   ]
  },
  {
   "cell_type": "markdown",
   "id": "5c4a3825",
   "metadata": {},
   "source": [
    "<font color='darkblue'>\n",
    "    Now, compute the sentiment of communities:\n",
    "</font>"
   ]
  },
  {
   "cell_type": "markdown",
   "id": "53a45008",
   "metadata": {},
   "source": [
    "* <font color='darkblue'>\n",
    "    What are the three happiest communities according to the LabMT wordlist approach? What about VADER?\n",
    "</font>"
   ]
  },
  {
   "cell_type": "markdown",
   "id": "9522d98d",
   "metadata": {},
   "source": [
    "* <font color='darkblue'>\n",
    "    What are the three saddest communities according to the LabMT wordlist approach? What about VADER?\n",
    "</font>"
   ]
  },
  {
   "cell_type": "markdown",
   "id": "ca2f1997",
   "metadata": {},
   "source": [
    "* <font color='darkblue'>\n",
    "    Create a bar plot showing the average sentiment of each community and add error-bars using the standard deviation for both methods.\n",
    "</font>"
   ]
  },
  {
   "cell_type": "markdown",
   "id": "3f1e6a50",
   "metadata": {},
   "source": [
    "* <font color='darkblue'>\n",
    "    Explain the difference between the two methods and compare the results you have obtained above.\n",
    "</font>"
   ]
  },
  {
   "cell_type": "markdown",
   "id": "587c689f",
   "metadata": {},
   "source": [
    "* <font color='darkblue'>\n",
    "    What is the advantage of using a rule-based method over the dictionary-based approach?\n",
    "</font>"
   ]
  }
 ],
 "metadata": {
  "interpreter": {
   "hash": "abeb1b6365932ba6ff4ac4533716daba8e111ed525e182e5e5d09b65a3f8fa33"
  },
  "kernelspec": {
   "display_name": "Python 3.8.5 64-bit ('base': conda)",
   "name": "python3"
  },
  "language_info": {
   "codemirror_mode": {
    "name": "ipython",
    "version": 3
   },
   "file_extension": ".py",
   "mimetype": "text/x-python",
   "name": "python",
   "nbconvert_exporter": "python",
   "pygments_lexer": "ipython3",
   "version": "3.8.5"
  }
 },
 "nbformat": 4,
 "nbformat_minor": 5
}
