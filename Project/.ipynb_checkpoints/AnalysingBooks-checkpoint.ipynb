{
 "cells": [
  {
   "cell_type": "code",
   "execution_count": 1,
   "id": "f675caec",
   "metadata": {},
   "outputs": [],
   "source": [
    "import json\n",
    "import urllib.request\n",
    "from collections import defaultdict\n",
    "import pandas as pd"
   ]
  },
  {
   "cell_type": "code",
   "execution_count": 2,
   "id": "70e20697",
   "metadata": {},
   "outputs": [
    {
     "name": "stdout",
     "output_type": "stream",
     "text": [
      "https://lotr.fandom.com/api.php?action=query&list=categorymembers&cmtitle=Category:The_Lord_of_the_Rings:_The_Fellowship_of_the_Ring_(film)_Characters&cmlimit=max&prop=revisions&rvprop=content&rvslots=*&format=json\n",
      "https://lotr.fandom.com/api.php?action=query&list=categorymembers&cmtitle=Category:The_Lord_of_the_Rings:_The_Two_Towers_(film)_Characters&cmlimit=max&prop=revisions&rvprop=content&rvslots=*&format=json\n",
      "https://lotr.fandom.com/api.php?action=query&list=categorymembers&cmtitle=Category:The_Lord_of_the_Rings:_The_Return_of_the_King_(film)_Characters&cmlimit=max&prop=revisions&rvprop=content&rvslots=*&format=json\n"
     ]
    }
   ],
   "source": [
    "baseurl = 'https://lotr.fandom.com/api.php?'\n",
    "action = \"action=query\"\n",
    "listt = \"list=categorymembers\"\n",
    "cmtitleMajor = \"cmtitle=Category:Major_characters_(The_Lord_of_the_Rings)\"\n",
    "cmtitleMinor = \"cmtitle=Category:Minor_characters_(The_Lord_of_the_Rings)\"\n",
    "cmtitleVilla = \"cmtitle=Category:Villains\"\n",
    "\n",
    "cmtitle1 = \"cmtitle=Category:The_Lord_of_the_Rings:_The_Fellowship_of_the_Ring_(film)_Characters\"\n",
    "cmtitle2 = \"cmtitle=Category:The_Lord_of_the_Rings:_The_Two_Towers_(film)_Characters\"\n",
    "cmtitle3 = \"cmtitle=Category:The_Lord_of_the_Rings:_The_Return_of_the_King_(film)_Characters\"\n",
    "\n",
    "cmlimit = \"cmlimit=max\"\n",
    "content = \"prop=revisions&rvprop=content&rvslots=*\"\n",
    "dataformat =\"format=json\"\n",
    "\n",
    "query1 = \"{}{}&{}&{}&{}&{}&{}\".format(baseurl, action, listt, cmtitle1, cmlimit, content, dataformat)\n",
    "query2 = \"{}{}&{}&{}&{}&{}&{}\".format(baseurl, action, listt, cmtitle2, cmlimit, content, dataformat)\n",
    "query3 = \"{}{}&{}&{}&{}&{}&{}\".format(baseurl, action, listt, cmtitle3, cmlimit, content, dataformat)\n",
    "\n",
    "print(query1)\n",
    "print(query2)\n",
    "print(query3)"
   ]
  },
  {
   "cell_type": "code",
   "execution_count": 3,
   "id": "05572993",
   "metadata": {},
   "outputs": [],
   "source": [
    "wikiresponse1 = urllib.request.urlopen(query1)\n",
    "wikiresponse2 = urllib.request.urlopen(query2)\n",
    "wikiresponse3 = urllib.request.urlopen(query3)\n",
    "\n",
    "wikidata1 = wikiresponse1.read()\n",
    "wikidata2 = wikiresponse2.read()\n",
    "wikidata3 = wikiresponse3.read()\n",
    "\n",
    "wikitext1 = wikidata1.decode('utf-8')\n",
    "wikitext2 = wikidata2.decode('utf-8')\n",
    "wikitext3 = wikidata3.decode('utf-8')\n",
    "\n",
    "characters1 = json.loads(wikitext1)\n",
    "characters2 = json.loads(wikitext2)\n",
    "characters3 = json.loads(wikitext3)\n",
    "\n",
    "# charectersContent = charecters['query']['pages']['41']['revisions'][0]['slots']['main']['*']\n",
    "content1 = characters1['query']['categorymembers']\n",
    "content2 = characters2['query']['categorymembers']\n",
    "content3 = characters3['query']['categorymembers']\n",
    "\n",
    "# print(charactersContent)"
   ]
  },
  {
   "cell_type": "code",
   "execution_count": 4,
   "id": "eac5af1f",
   "metadata": {},
   "outputs": [
    {
     "name": "stdout",
     "output_type": "stream",
     "text": [
      "['Aragorn II Elessar', 'Arwen', 'Frodo Baggins', 'Balin', 'Bilbo Baggins', 'Bell Boffin', 'Minto Boffin', 'Filibert Bolger', 'Fredegar Bolger', 'Boromir', 'Melilot Brandybuck', 'Meriadoc Brandybuck', 'Barliman Butterbur', 'Calaglin', 'Celeborn', 'Rosie Cotton', 'Círdan', 'Albert Dreary', \"Durin's Bane\", 'Dínendal', 'Elendil', 'Elrond', 'Erestor', 'Erland', 'Bill Ferny', 'Figwit', 'Galadriel', 'Hamfast Gamgee', 'Samwise Gamgee', 'Gandalf', 'Gil-galad', 'Gimli', 'Glóin', 'Harry Goatleaf', 'Gollum', 'Golradir', 'Gwaihir', 'Haldir of Lothlórien', 'Hugin', 'Isildur', 'Járnsmid', 'Khamûl', 'Legolas', 'Linnar, Sindri, and Uri', 'List of the Lord of the Rings film trilogy characters and cast members', 'Lurtz', 'Farmer Maggot', 'Mrs. Bracegirdle', 'Old Noakes', 'Orophin', 'Otho Sackville-Baggins', 'Ottar', 'Mrs. Proudfoot', 'Odo Proudfoot', 'Rúmil of Lórien', 'Lobelia Sackville-Baggins', 'Saelbeth', 'Ted Sandyman', 'Saruman', 'Sauron', 'Silindë', 'Peregrin Took', 'Watcher in the Water', 'Witch-king of Angmar', 'Aldor (movie character)', 'Beechbone', 'Birchseed', 'Bregalad', 'Brego (horse)', 'Damrod', 'Denethor II', 'Ecgláf', 'Éomer', 'Éowyn', 'Faramir', 'Finglas', 'Fladrif', 'Freca (film character)', 'Freda', 'Gamling', 'Grishnákh', 'Guma', 'Haleth (Son of Háma)', 'Hláfwine', 'Háma', 'Lindenroot', 'Madril', 'Mauhúr', 'Morwen (movie character)', 'Rootcouncil', 'Sharku', 'Snaga (Isengard)', 'Théoden', 'Théodred', 'Treebeard', 'Uglúk', 'Unferth', 'Gríma Wormtongue', 'Éothain (film character)', 'Borlas', 'Diamond Took', 'Déagol', 'Eldarion', 'Frodo Gardner', 'Elanor Gardner', 'Gorbag', 'Gothmog (Lieutenant of Morgul)', 'Grimbold', 'Guritz', 'Guthláf', 'Herubrand', 'Iorlas', 'Irolas', 'King of the Dead', 'Léowyn', 'Mahud', 'Mouth of Sauron', 'Murgash', 'Mûmakil Mahûd', 'Shagrat', 'Shelob', 'Ufthak']\n"
     ]
    }
   ],
   "source": [
    "characters = []\n",
    "\n",
    "for i in content1:\n",
    "    title = i[\"title\"]\n",
    "    characters.append(title)\n",
    "\n",
    "for i in content2:\n",
    "    title = i[\"title\"]\n",
    "    if title not in characters:\n",
    "        characters.append(title)\n",
    "\n",
    "for i in content3:\n",
    "    title = i[\"title\"]\n",
    "    if title not in characters:\n",
    "        characters.append(title)\n",
    "    \n",
    "print(characters)"
   ]
  },
  {
   "cell_type": "code",
   "execution_count": 5,
   "id": "ab4d4fa2",
   "metadata": {},
   "outputs": [
    {
     "name": "stdout",
     "output_type": "stream",
     "text": [
      "['Aragorn II Elessar', 'Arwen', 'Frodo Baggins', 'Balin', 'Bilbo Baggins', 'Bell Boffin', 'Minto Boffin', 'Filibert Bolger', 'Fredegar Bolger', 'Boromir', 'Melilot Brandybuck', 'Meriadoc Brandybuck', 'Barliman Butterbur', 'Calaglin', 'Celeborn', 'Rosie Cotton', 'Círdan', 'Albert Dreary', \"Durin's Bane\", 'Dínendal', 'Elendil', 'Elrond', 'Erestor', 'Erland', 'Bill Ferny', 'Figwit', 'Galadriel', 'Hamfast Gamgee', 'Samwise Gamgee', 'Gandalf', 'Gil-galad', 'Gimli', 'Glóin', 'Harry Goatleaf', 'Gollum', 'Golradir', 'Gwaihir', 'Haldir of Lothlórien', 'Hugin', 'Isildur', 'Járnsmid', 'Khamûl', 'Legolas', 'Linnar, Sindri, and Uri', 'Lurtz', 'Farmer Maggot', 'Mrs. Bracegirdle', 'Old Noakes', 'Orophin', 'Otho Sackville-Baggins', 'Ottar', 'Mrs. Proudfoot', 'Odo Proudfoot', 'Rúmil of Lórien', 'Lobelia Sackville-Baggins', 'Saelbeth', 'Ted Sandyman', 'Saruman', 'Sauron', 'Silindë', 'Peregrin Took', 'Watcher in the Water', 'Witch-king of Angmar', 'Aldor (movie character)', 'Beechbone', 'Birchseed', 'Bregalad', 'Brego (horse)', 'Damrod', 'Denethor II', 'Ecgláf', 'Éomer', 'Éowyn', 'Faramir', 'Finglas', 'Fladrif', 'Freca (film character)', 'Freda', 'Gamling', 'Grishnákh', 'Guma', 'Haleth (Son of Háma)', 'Hláfwine', 'Háma', 'Lindenroot', 'Madril', 'Mauhúr', 'Morwen (movie character)', 'Rootcouncil', 'Sharku', 'Snaga (Isengard)', 'Théoden', 'Théodred', 'Treebeard', 'Uglúk', 'Unferth', 'Gríma Wormtongue', 'Éothain (film character)', 'Borlas', 'Diamond Took', 'Déagol', 'Eldarion', 'Frodo Gardner', 'Elanor Gardner', 'Gorbag', 'Gothmog (Lieutenant of Morgul)', 'Grimbold', 'Guritz', 'Guthláf', 'Herubrand', 'Iorlas', 'Irolas', 'King of the Dead', 'Léowyn', 'Mahud', 'Mouth of Sauron', 'Murgash', 'Mûmakil Mahûd', 'Shagrat', 'Shelob', 'Ufthak']\n"
     ]
    }
   ],
   "source": [
    "i = characters.index('List of the Lord of the Rings film trilogy characters and cast members')\n",
    "characters.pop(i)\n",
    "print(characters)"
   ]
  },
  {
   "cell_type": "code",
   "execution_count": 6,
   "id": "08c18290",
   "metadata": {},
   "outputs": [],
   "source": [
    "df = pd.DataFrame({'Name':characters})\n",
    "df.to_csv('characters.csv')"
   ]
  }
 ],
 "metadata": {
  "kernelspec": {
   "display_name": "Python 3",
   "language": "python",
   "name": "python3"
  },
  "language_info": {
   "codemirror_mode": {
    "name": "ipython",
    "version": 3
   },
   "file_extension": ".py",
   "mimetype": "text/x-python",
   "name": "python",
   "nbconvert_exporter": "python",
   "pygments_lexer": "ipython3",
   "version": "3.8.8"
  }
 },
 "nbformat": 4,
 "nbformat_minor": 5
}
