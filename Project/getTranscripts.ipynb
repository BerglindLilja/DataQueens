{
 "cells": [
  {
   "cell_type": "code",
   "execution_count": 24,
   "metadata": {},
   "outputs": [],
   "source": [
    "import urllib.request\n",
    "import json\n",
    "from nltk import word_tokenize\n",
    "from bs4 import BeautifulSoup\n",
    "import re"
   ]
  },
  {
   "cell_type": "code",
   "execution_count": 25,
   "metadata": {},
   "outputs": [],
   "source": [
    "#https://www.galileo.org/tips/unlikely-heroes/FOTR_transcript.htm\n",
    "with open(\"transcripts/\" + 'FOTR_transcript.htm' ,encoding='utf-8') as f:\n",
    "        text = f.read()\n",
    "raw = BeautifulSoup(text, 'html.parser').get_text()\n",
    "text_file = open(\"transcripts/\" + 'FOTR_parse' + \".txt\", \"wt\", encoding=\"utf-8\")\n",
    "n = text_file.write(raw)\n",
    "text_file.close()"
   ]
  },
  {
   "cell_type": "code",
   "execution_count": 26,
   "metadata": {},
   "outputs": [],
   "source": [
    "#https://digilander.libero.it/greetingsTdM/2t_copione_english.htm\n",
    "with open(\"transcripts/\" + '2t_copione_english.htm' ,encoding='utf-8') as f:\n",
    "        text = f.read()\n",
    "raw = BeautifulSoup(text, 'html.parser').get_text()\n",
    "text_file = open(\"transcripts/\" + '2t_parsed' + \".txt\", \"wt\", encoding=\"utf-8\")\n",
    "n = text_file.write(raw)\n",
    "text_file.close()"
   ]
  },
  {
   "cell_type": "code",
   "execution_count": 27,
   "metadata": {},
   "outputs": [],
   "source": [
    "# http://www.councilofelrond.com/subject/return-of-the-king-extended-edition\n",
    "with open(\"transcripts/\" + 'Council of Elrond » LotR News & Information » Return of the King, Extended Edition.html' ,encoding='utf-8') as f:\n",
    "        text = f.read()\n",
    "raw = BeautifulSoup(text, 'html.parser').get_text()\n",
    "text_file = open(\"transcripts/\" + 'RotK_parsed' + \".txt\", \"wt\", encoding=\"utf-8\")\n",
    "n = text_file.write(raw)\n",
    "text_file.close()"
   ]
  },
  {
   "cell_type": "code",
   "execution_count": 28,
   "metadata": {},
   "outputs": [],
   "source": [
    "# Parsing another transcript for Fellowship of the ring\n",
    "with open(\"transcripts/\" + 'Council of Elrond » LotR News & Information » The Fellowship of the Ring.html' ,encoding='utf-8') as f:\n",
    "        text = f.read()\n",
    "raw = BeautifulSoup(text, 'html.parser').get_text()\n",
    "text_file = open(\"transcripts/\" + 'Fotr_parsed2' + \".txt\", \"wt\", encoding=\"utf-8\")\n",
    "n = text_file.write(raw)\n",
    "text_file.close()"
   ]
  },
  {
   "cell_type": "code",
   "execution_count": 29,
   "metadata": {},
   "outputs": [],
   "source": [
    "#Cleanup of Two towers\n",
    "with open(\"transcripts/\" + '2t_parsed.txt' ,encoding='utf-8') as f:\n",
    "        text = f.read()\n",
    "#Find where to start and end the corpus\n",
    "tStart =text.find('[Voices are heard from the Misty Mountains.]')\n",
    "tEnd = text.find('______________________')\n",
    "text = text[tStart:tEnd]\n",
    "\n",
    "textCleaned = re.sub(r'\\[.*\\]', r'', text) #Removing action lines, denoted by []\n",
    "#Notice missing closing ] for some translations instances, removing those\n",
    "textCleaned = re.sub(r'\\[Translation:.*', r'', textCleaned) \n",
    "textCleaned = re.sub(r'\\(.*\\)', r'', textCleaned) #Removing voice over, denoted by ()\n",
    "text_file = open(\"transcripts/\" + '2t_parsed_and_cleaned' + \".txt\", \"wt\", encoding=\"utf-8\")\n",
    "n = text_file.write(textCleaned)\n",
    "text_file.close()"
   ]
  },
  {
   "cell_type": "code",
   "execution_count": 30,
   "metadata": {},
   "outputs": [],
   "source": [
    "#Cleanup of Return of the King\n",
    "with open(\"transcripts/\" + 'RotK_parsed.txt' ,encoding='utf-8') as f:\n",
    "        text = f.read()\n",
    "#Find where to start and end the corpus\n",
    "tStart =text.find('Read here for more information.') + len('Read here for more information.') #Added length of the word 'TRANSCRIPT'\n",
    "tEnd = text.find('THE END ')\n",
    "text = text[tStart:tEnd-1]\n",
    "\n",
    "textCleaned = re.sub(r'\\(.*\\)', r'', text) #Removing voice over and action lines, denoted by ()\n",
    "text_file = open(\"transcripts/\" + 'RotK_parsed_and_cleaned' + \".txt\", \"wt\", encoding=\"utf-8\")\n",
    "n = text_file.write(textCleaned)\n",
    "text_file.close()"
   ]
  },
  {
   "cell_type": "code",
   "execution_count": 31,
   "metadata": {},
   "outputs": [],
   "source": [
    "#Cleanup of Fellowship of the ring\n",
    "with open(\"transcripts/\" + 'Fotr_parsed2.txt' ,encoding='utf-8') as f:\n",
    "        text = f.read()\n",
    "#Find where to start and end the corpus\n",
    "tStart =text.find('TEXT: THE LORD OF THE RINGS ') + len('TEXT: THE LORD OF THE RINGS ') #Added length of the word\n",
    "tEnd = text.find('END CREDITS ')\n",
    "text = text[tStart:tEnd-1]\n",
    "\n",
    "textCleaned = re.sub(r'\\(.*\\)', r'', text) #Removing voice over and action lines, denoted by ()\n",
    "text_file = open(\"transcripts/\" + 'Fotr_parsed_cleaned2' + \".txt\", \"wt\", encoding=\"utf-8\")\n",
    "n = text_file.write(textCleaned)\n",
    "text_file.close()"
   ]
  }
 ],
 "metadata": {
  "interpreter": {
   "hash": "abeb1b6365932ba6ff4ac4533716daba8e111ed525e182e5e5d09b65a3f8fa33"
  },
  "kernelspec": {
   "display_name": "Python 3",
   "language": "python",
   "name": "python3"
  },
  "language_info": {
   "codemirror_mode": {
    "name": "ipython",
    "version": 3
   },
   "file_extension": ".py",
   "mimetype": "text/x-python",
   "name": "python",
   "nbconvert_exporter": "python",
   "pygments_lexer": "ipython3",
   "version": "3.8.5"
  }
 },
 "nbformat": 4,
 "nbformat_minor": 2
}
