{
 "cells": [
  {
   "cell_type": "markdown",
   "source": [
    "## Part 5 Power-laws and the friendship paradox"
   ],
   "metadata": {}
  },
  {
   "cell_type": "markdown",
   "source": [
    "Next step is to explore the Friendship paradox. This paradox states that almost everyone have fewer friends than their friends have, on average. This sounds crazy, but is actually an almost trivial consequence of living in a social network with a power-law degree distribution. The explanation is that almost everyone is friends with a hub, that drives up the average degree of the friends. Let's explore that in the 5000 node BA network we've just generated. Do the following:"
   ],
   "metadata": {}
  },
  {
   "cell_type": "code",
   "execution_count": null,
   "source": [
    "#Pick a node i at random (e.g. use random.choice). Find its degree.\r\n",
    "\r\n",
    "#Find i's neighbors. And calculate their average degree.\r\n",
    "\r\n",
    "#Compare the two numbers to check if it's true that i's friends (on average) have more friends than i.\r\n",
    "\r\n",
    "#Do this 1000 times. How many out of those 1000 times is the friendship paradox true?\r\n",
    "\r\n"
   ],
   "outputs": [],
   "metadata": {}
  },
  {
   "cell_type": "markdown",
   "source": [
    "Finally, we'll build a network of same size and degree, using the growth mechanism without the preferential attachment."
   ],
   "metadata": {}
  },
  {
   "cell_type": "code",
   "execution_count": null,
   "source": [
    "\r\n"
   ],
   "outputs": [],
   "metadata": {}
  },
  {
   "cell_type": "markdown",
   "source": [
    "Compare to the ER network of same size and same $p$. What are the differences? Explain in your own words. Hint: To get started, take a look at the degree distribution, and study the number of connected components."
   ],
   "metadata": {}
  },
  {
   "cell_type": "markdown",
   "source": [],
   "metadata": {}
  }
 ],
 "metadata": {
  "language_info": {
   "name": "python"
  }
 },
 "nbformat": 4,
 "nbformat_minor": 4
}