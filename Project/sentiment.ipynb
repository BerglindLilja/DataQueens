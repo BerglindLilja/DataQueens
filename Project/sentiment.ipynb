{
 "cells": [
  {
   "cell_type": "markdown",
   "metadata": {},
   "source": [
    "# sentiment"
   ]
  },
  {
   "cell_type": "markdown",
   "metadata": {},
   "source": [
    "### per character"
   ]
  },
  {
   "cell_type": "code",
   "execution_count": 1,
   "metadata": {},
   "outputs": [],
   "source": [
    "import json\n",
    "from nltk.stem import WordNetLemmatizer \n",
    "from vaderSentiment.vaderSentiment import SentimentIntensityAnalyzer"
   ]
  },
  {
   "cell_type": "code",
   "execution_count": 2,
   "metadata": {},
   "outputs": [],
   "source": [
    "CharacterDialogue = {}\n",
    "\n",
    "# Opening JSON file\n",
    "with open('characterDialogue.json', encoding=\"utf8\") as json_file:\n",
    "    data = json.load(json_file)\n",
    "    CharactersDialogue = data"
   ]
  },
  {
   "cell_type": "code",
   "execution_count": 8,
   "metadata": {},
   "outputs": [],
   "source": [
    "lemmatizer = WordNetLemmatizer()\n",
    "\n",
    "def preppData(CharacterText):\n",
    "    preppedText = []\n",
    "\n",
    "    for sentance in CharacterText:\n",
    "        #tokenize and to lowercase\n",
    "        tokenizedSentance = nltk.word_tokenize(sentance.lower())\n",
    "        for token in tokenizedSentance:\n",
    "            #lemmatize words\n",
    "            preppedText.append(lemmatizer.lemmatize(token))\n",
    "\n",
    "    return preppedText"
   ]
  },
  {
   "cell_type": "code",
   "execution_count": 9,
   "metadata": {},
   "outputs": [
    {
     "name": "stdout",
     "output_type": "stream",
     "text": [
      "All Vader sentiment scores have been successfully calculated!\n"
     ]
    }
   ],
   "source": [
    "\n",
    "analyzer = SentimentIntensityAnalyzer()\n",
    "scores = []\n",
    "\n",
    "#A function for calculating  Vader sentiment scores\n",
    "def vaderSentimentScores(preppedCharData):\n",
    "    for sentence in preppedCharData:\n",
    "        if sentence:\n",
    "            vs = analyzer.polarity_scores(sentence)\n",
    "            scores.append(vs['compound'])\n",
    "\n",
    "    scoreLen = len(scores)\n",
    "    scoreSum = sum(scores)\n",
    "    scoreAvg = scoreSum /scoreLen\n",
    "\n",
    "    return scoreAvg\n",
    "\n",
    "vaderSentScores = {}\n",
    "\n",
    "for key, value in CharactersDialogue.items():\n",
    "\n",
    "    if len(value) > 5:\n",
    "        sentScore = vaderSentimentScores(value)\n",
    "        vaderSentScores[key] = sentScore\n",
    "\n",
    "print(\"All Vader sentiment scores have been successfully calculated!\")"
   ]
  },
  {
   "cell_type": "code",
   "execution_count": 10,
   "metadata": {},
   "outputs": [
    {
     "name": "stdout",
     "output_type": "stream",
     "text": [
      "10 happiest characters by using Vader: \n",
      "['bilbo baggins', 'barliman butterbur', 'meriadoc brandybuck', 'boromir', 'arwen', 'frodo baggins', 'elrond', 'galadriel', 'aragorn ii elessar', 'peregrin took']\n",
      "10 saddest characters by using Vader: \n",
      "['gothmog (lieutenant of morgul)', 'shagrat', 'saruman', 'men', 'léowyn', 'ring', 'hobbits', 'legolas', 'orcs', 'gorbag']\n"
     ]
    }
   ],
   "source": [
    "#Vader\n",
    "sortedVaderScores = sorted(vaderSentScores.items(), key=lambda x: x[1])\n",
    "\n",
    "print(\"10 happiest characters by using Vader: \")\n",
    "VSort = []\n",
    "\n",
    "for i in sortedVaderScores[-10:]:\n",
    "    VSort.append(i[0])\n",
    "\n",
    "VSort.reverse()\n",
    "print(VSort)\n",
    "\n",
    "print(\"10 saddest characters by using Vader: \")\n",
    "VSortSad = []\n",
    "\n",
    "for i in sortedVaderScores[0:10]:\n",
    "    VSortSad.append(i[0])\n",
    "\n",
    "print(VSortSad)"
   ]
  },
  {
   "cell_type": "markdown",
   "metadata": {},
   "source": [
    "problems\n",
    "\n",
    "SHould we exclude people with under five lines???!? "
   ]
  },
  {
   "cell_type": "code",
   "execution_count": 11,
   "metadata": {},
   "outputs": [
    {
     "name": "stdout",
     "output_type": "stream",
     "text": [
      "[('gothmog (lieutenant of morgul)', 0.002945043398812263), ('shagrat', 0.0034661413777577863), ('saruman', 0.0034821386603995567), ('men', 0.003492290940766569), ('léowyn', 0.0035448509485095053), ('ring', 0.003843627450980412), ('hobbits', 0.003853932082216284), ('legolas', 0.003890205562273304), ('orcs', 0.004486415929203559), ('gorbag', 0.004578288868445283), ('gríma wormtongue', 0.004724250806823442), ('faramir', 0.00527275464124438), ('théoden', 0.005289104689720536), ('gamling', 0.005500796812749028), ('éowyn', 0.00565308959835224), ('éomer', 0.0062239221871714275), ('uglúk', 0.006521302325581417), ('treebeard', 0.006530410447761216), ('gollum', 0.008383793969849274), ('gandalf', 0.008568792710706178), ('denethor ii', 0.008605282817502695), ('gimli', 0.009678111888111914), ('samwise gamgee', 0.009910486177311748), ('witch-king of angmar', 0.010379216539717108), ('peregrin took', 0.010650955761878779), ('aragorn ii elessar', 0.012590090090090092), ('galadriel', 0.021737635705669504), ('elrond', 0.023951672862453553), ('frodo baggins', 0.025398876404494376), ('arwen', 0.03033609022556392), ('boromir', 0.03382961240310079), ('meriadoc brandybuck', 0.035904629629629654), ('barliman butterbur', 0.0367188976377953), ('bilbo baggins', 0.04318813559322034)]\n",
      "34\n"
     ]
    }
   ],
   "source": [
    "print(sortedVaderScores)\n",
    "print(len(sortedVaderScores))"
   ]
  },
  {
   "cell_type": "code",
   "execution_count": null,
   "metadata": {},
   "outputs": [],
   "source": []
  }
 ],
 "metadata": {
  "interpreter": {
   "hash": "62e5028be477a862a668d39e7a4bf7afb4d7f28152a2aac61cec1b66f117e288"
  },
  "kernelspec": {
   "display_name": "Python 3",
   "language": "python",
   "name": "python3"
  },
  "language_info": {
   "codemirror_mode": {
    "name": "ipython",
    "version": 3
   },
   "file_extension": ".py",
   "mimetype": "text/x-python",
   "name": "python",
   "nbconvert_exporter": "python",
   "pygments_lexer": "ipython3",
   "version": "3.8.8"
  }
 },
 "nbformat": 4,
 "nbformat_minor": 2
}
