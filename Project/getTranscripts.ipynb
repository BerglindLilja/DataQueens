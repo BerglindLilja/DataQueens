{
 "cells": [
  {
   "cell_type": "code",
   "execution_count": 1,
   "metadata": {},
   "outputs": [],
   "source": [
    "import urllib.request\n",
    "import json\n",
    "from nltk import word_tokenize\n",
    "from bs4 import BeautifulSoup\n",
    "import re"
   ]
  },
  {
   "cell_type": "code",
   "execution_count": 2,
   "metadata": {},
   "outputs": [],
   "source": [
    "#https://www.galileo.org/tips/unlikely-heroes/FOTR_transcript.htm\n",
    "with open(\"transcripts/\" + 'FOTR_transcript.htm' ,encoding='utf-8') as f:\n",
    "        text = f.read()\n",
    "raw = BeautifulSoup(text, 'html.parser').get_text()\n",
    "text_file = open(\"transcripts/\" + 'FOTR_parse' + \".txt\", \"wt\", encoding=\"utf-8\")\n",
    "n = text_file.write(raw)\n",
    "text_file.close()"
   ]
  },
  {
   "cell_type": "code",
   "execution_count": 3,
   "metadata": {},
   "outputs": [],
   "source": [
    "#https://digilander.libero.it/greetingsTdM/2t_copione_english.htm\n",
    "with open(\"transcripts/\" + '2t_copione_english.htm' ,encoding='utf-8') as f:\n",
    "        text = f.read()\n",
    "raw = BeautifulSoup(text, 'html.parser').get_text()\n",
    "text_file = open(\"transcripts/\" + '2t_parsed' + \".txt\", \"wt\", encoding=\"utf-8\")\n",
    "n = text_file.write(raw)\n",
    "text_file.close()"
   ]
  },
  {
   "cell_type": "code",
   "execution_count": 4,
   "metadata": {},
   "outputs": [],
   "source": [
    "# http://www.councilofelrond.com/subject/return-of-the-king-extended-edition\n",
    "with open(\"transcripts/\" + 'Council of Elrond » LotR News & Information » Return of the King, Extended Edition.html' ,encoding='utf-8') as f:\n",
    "        text = f.read()\n",
    "raw = BeautifulSoup(text, 'html.parser').get_text()\n",
    "text_file = open(\"transcripts/\" + 'RotK_parsed' + \".txt\", \"wt\", encoding=\"utf-8\")\n",
    "n = text_file.write(raw)\n",
    "text_file.close()"
   ]
  },
  {
   "cell_type": "code",
   "execution_count": 7,
   "metadata": {},
   "outputs": [],
   "source": [
    "#Cleanup of Two towers\n",
    "with open(\"transcripts/\" + '2t_parsed.txt' ,encoding='utf-8') as f:\n",
    "        text = f.read()\n",
    "#Find where to start and end the corpus\n",
    "tStart =text.find('[Voices are heard from the Misty Mountains.]')\n",
    "tEnd = text.find('______________________')\n",
    "text = text[tStart:tEnd]\n",
    "\n",
    "textCleaned = re.sub(r'\\[.*\\]', r'', text) #Removing action lines, denoted by []\n",
    "textCleaned = re.sub(r'\\(.*\\)', r'', textCleaned) #Removing voice over, denoted by ()\n",
    "text_file = open(\"transcripts/\" + '2t_parsed_and_cleaned' + \".txt\", \"wt\", encoding=\"utf-8\")\n",
    "n = text_file.write(textCleaned)\n",
    "text_file.close()"
   ]
  },
  {
   "cell_type": "code",
   "execution_count": 6,
   "metadata": {},
   "outputs": [],
   "source": [
    "#Cleanup of Return of the King\n",
    "with open(\"transcripts/\" + 'RotK_parsed.txt' ,encoding='utf-8') as f:\n",
    "        text = f.read()\n",
    "#Find where to start and end the corpus\n",
    "tStart =text.find('Read here for more information.') + len('Read here for more information.') #Added length of the word 'TRANSCRIPT'\n",
    "tEnd = text.find('THE END ')\n",
    "text = text[tStart:tEnd-1]\n",
    "\n",
    "# emails = re.findall(r'\\(.*\\)', text) ## ['alice@google.com', 'bob@abc.com']\n",
    "# for email in emails:\n",
    "#     # do something with each found email string\n",
    "#     print(email)\n",
    "\n",
    "# textCleaned = re.sub(r'\\[.*\\]', r'', text) #Removing action lines, denoted by []\n",
    "textCleaned = re.sub(r'\\(.*\\)', r'', text) #Removing voice over and action lines, denoted by ()\n",
    "text_file = open(\"transcripts/\" + 'RotK_parsed_and_cleaned' + \".txt\", \"wt\", encoding=\"utf-8\")\n",
    "n = text_file.write(textCleaned)\n",
    "text_file.close()"
   ]
  }
 ],
 "metadata": {
  "interpreter": {
   "hash": "abeb1b6365932ba6ff4ac4533716daba8e111ed525e182e5e5d09b65a3f8fa33"
  },
  "kernelspec": {
   "display_name": "Python 3",
   "language": "python",
   "name": "python3"
  },
  "language_info": {
   "codemirror_mode": {
    "name": "ipython",
    "version": 3
   },
   "file_extension": ".py",
   "mimetype": "text/x-python",
   "name": "python",
   "nbconvert_exporter": "python",
   "pygments_lexer": "ipython3",
   "version": "3.8.5"
  }
 },
 "nbformat": 4,
 "nbformat_minor": 2
}
