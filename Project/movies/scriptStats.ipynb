{
 "cells": [
  {
   "cell_type": "markdown",
   "metadata": {},
   "source": [
    "The scripts from the three Lord of the rings movies in order to do a sentiment analysis on characters, races and cultures within races. The scripts were also used for comparing word clouds from the three movies and books"
   ]
  },
  {
   "cell_type": "code",
   "execution_count": 13,
   "metadata": {},
   "outputs": [],
   "source": [
    "import json\n",
    "\n",
    "import collections"
   ]
  },
  {
   "cell_type": "code",
   "execution_count": 5,
   "metadata": {},
   "outputs": [],
   "source": [
    "CharacterDialogue = {}\n",
    "\n",
    "# Opening JSON file\n",
    "with open('../characterDialogue.json', encoding=\"utf8\") as json_file:\n",
    "    data = json.load(json_file)\n",
    "    CharactersDialogue = data"
   ]
  },
  {
   "cell_type": "code",
   "execution_count": 15,
   "metadata": {},
   "outputs": [
    {
     "name": "stdout",
     "output_type": "stream",
     "text": [
      "how many characters have lines:  60\n"
     ]
    }
   ],
   "source": [
    "#how many characters with lines\n",
    "charsWithLines = {}\n",
    "\n",
    "for key, value in CharactersDialogue.items():\n",
    "\n",
    "    if len(value) > 1:\n",
    "        charsWithLines[key] = len(value) -1\n",
    "\n",
    "print(\"how many characters have lines: \", len(charsWithLines.keys()))\n",
    "\n",
    "\n",
    "\n",
    "# with open(\"charsWithLines.json\", \"wt\", encoding='utf-8') as outfile:\n",
    "#     json.dump(charsWithLines, outfile, ensure_ascii=False)"
   ]
  },
  {
   "cell_type": "code",
   "execution_count": 24,
   "metadata": {},
   "outputs": [
    {
     "name": "stdout",
     "output_type": "stream",
     "text": [
      "['frodo baggins', 'gandalf', 'aragorn ii elessar', 'samwise gamgee', 'peregrin took', 'gimli', 'meriadoc brandybuck', 'gollum', 'theoden', 'legolas']\n"
     ]
    }
   ],
   "source": [
    "#10 characters with most lines\n",
    "\n",
    "#sortedRaceSentiment = collections.OrderedDict(charsWithLines.items())\n",
    "\n",
    "sortedRaceSentiment = sorted(charsWithLines.items(), key=lambda x: x[1], reverse=True)\n",
    "\n",
    "#print(sortedRaceSentiment.items()[:10])\n",
    "\n",
    "firstTen = []\n",
    "\n",
    "for i in sortedRaceSentiment[:10]:\n",
    "    firstTen.append(i[0])\n",
    "\n",
    "print(firstTen)\n",
    "\n"
   ]
  },
  {
   "cell_type": "code",
   "execution_count": null,
   "metadata": {},
   "outputs": [],
   "source": []
  }
 ],
 "metadata": {
  "interpreter": {
   "hash": "62e5028be477a862a668d39e7a4bf7afb4d7f28152a2aac61cec1b66f117e288"
  },
  "kernelspec": {
   "display_name": "Python 3.8.10 64-bit",
   "language": "python",
   "name": "python3"
  },
  "language_info": {
   "codemirror_mode": {
    "name": "ipython",
    "version": 3
   },
   "file_extension": ".py",
   "mimetype": "text/x-python",
   "name": "python",
   "nbconvert_exporter": "python",
   "pygments_lexer": "ipython3",
   "version": "3.8.10"
  },
  "orig_nbformat": 4
 },
 "nbformat": 4,
 "nbformat_minor": 2
}
