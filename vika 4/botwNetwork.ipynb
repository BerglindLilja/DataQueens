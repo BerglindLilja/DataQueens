{
 "cells": [
  {
   "cell_type": "code",
   "execution_count": 421,
   "metadata": {},
   "outputs": [],
   "source": [
    "import networkx as nx\n",
    "import pandas as pd\n",
    "import json\n",
    "import re\n",
    "import numpy as np\n",
    "import matplotlib.pyplot as plt\n",
    "import powerlaw"
   ]
  },
  {
   "cell_type": "code",
   "execution_count": 293,
   "metadata": {},
   "outputs": [
    {
     "data": {
      "text/plain": [
       "<bound method DataFrame.info of      Unnamed: 0               Name  type\n",
       "0             0             Baddek  Ally\n",
       "1             1             Bamboo  Ally\n",
       "2             2              Banji  Ally\n",
       "3             3             Baumar  Ally\n",
       "4             4              Bayge  Ally\n",
       "..          ...                ...   ...\n",
       "653         671  Waterblight Ganon  Boss\n",
       "654         673       Master Kohga  Boss\n",
       "655         674        Final Trial  Boss\n",
       "656         675     Calamity Ganon  Boss\n",
       "657         676     Central Hyrule  Boss\n",
       "\n",
       "[658 rows x 3 columns]>"
      ]
     },
     "execution_count": 293,
     "metadata": {},
     "output_type": "execute_result"
    }
   ],
   "source": [
    "failed = ['Granté','Metal Boulder','Spiked Boulder','Central Hy'] #Characters that I failed to retrive info on\n",
    "charactersDf = pd.read_csv('charecters.csv')\n",
    "charactersDf.info"
   ]
  },
  {
   "cell_type": "markdown",
   "metadata": {},
   "source": [
    "## Todo\n",
    "- Sækja info frá einum character\n",
    "- Smíða regex\n",
    "- Höndla space"
   ]
  },
  {
   "cell_type": "code",
   "execution_count": 380,
   "metadata": {},
   "outputs": [
    {
     "name": "stdout",
     "output_type": "stream",
     "text": [
      "Baddek\n",
      "{{Infobox Character\n",
      "|image= File:BotW Baddek Model.png\n",
      "|caption= \n",
      "|pronunciation= \n",
      "|title= \n",
      "|alias= \n",
      "|race= {{Term|BotW|Hylian|link}}\n",
      "|gender= Male<ref name=\"Guy\"/>\n",
      "|game= {{BotW}}\n",
      "|other= \n",
      "|era= {{Term|BotW|Era of the Wilds|link}}\n",
      "|family= Unnamed wife <small>(estranged)</small><ref name=\"Wife\">{{Cite|I talk about horses so much that my wife left me...for a horse.|Baddek|BotW}}</ref>\n",
      "|voiceactor= \n",
      "|theme= \n",
      "|counter= \n",
      "}}\n",
      "{{Term/Store|Baddek||Series, BotW}} is a character in {{BotW}}.<ref>{{Cite|Baddek|N/A|BotW}}</ref>\n",
      "\n",
      "==Biography==\n",
      "Baddek is a {{Term|BotW|Hylian|link}} who rides a {{Term|BotW|Horse}}, carrying a {{Term|BotW|Wooden Shield|link}} and {{Term|BotW|Traveler's Sword|link}}. He travels along the road from [[Serenne Stable]] all the way to [[Tabantha Bridge Stable]] and back. Once he reaches a Stable, he'll rest nearby with his Horse for a moment before leaving again.\n",
      "\n",
      "When spoken to, Baddek will reveal that he has a great appreciation for Horses, claiming he sees the world through \"horse-tinted glasses\".<ref name=\"Guy\">{{Cite|I'm the kind of guy who sees everything in his life through horse-tinted glasses.|Baddek|BotW}}</ref> He also tells {{Term|BotW|Link|link}} that he only talks about Horses.<ref>{{Cite|I'll tell you now, you'd best give up hope of hearing about anything other than horses from me.|Baddek|BotW}}</ref><ref>{{Cite|I'm glad you wanted to chat with me, but I really only like to talk about horses. So...|Baddek|BotW}}</ref><ref>{{Cite|If you came to ask me about Hyrule Castle, you're barking up the wrong tree. Horses, horses, horses. That's all I care about|Baddek|BotW}}</ref><ref>{{Cite|If you get me started about horses, you'll be here for a while. I can go on about horses longer than a horse's face.|Baddek|BotW}}</ref> While he has difficulties speaking with others, he finds that Horses love him.<ref>{{Cite|I'm terrible at communicating with other people, but horses love me.|Baddek|BotW}}</ref> Due to how much he talks about Horses, his wife left him for one.<ref name=\"Wife\"/> He doesn't mind, though, as it gives him more time to talk about Horses.<ref>{{Cite|But it's not all bad. Gives me more time to talk about horses.|Baddek|BotW}}</ref>\n",
      "\n",
      "To Baddek, taming wild Horses is like adopting a new family member that you can sit on.<ref>{{Cite|Finding and taming a wild horse is like adopting a new family member... that you can sit on.|Baddek|BotW}}</ref><ref>{{Cite|Once you tame a wild horse, it becomes family. Register it at a stable to make it official.|Baddek|BotW}}</ref> He says that registered Horse companions will always be by your side, until they die.<ref>{{Cite|Once you register your horse companion at a stable, it'll always be by your side. Forever. Unless it dies.|Baddek|BotW}}</ref> Baddek's Horse is the one thing he can't travel without.<ref>{{Cite|The thing I absolutely can't travel without is my horse.|Baddek|BotW}}</ref><ref>{{Cite|There's one thing I absolutely can't travel without. Know what it is? It's my horse.|Baddek|BotW}}</ref> As long as he has his Horse, Baddek says he doesn't need anything else, and he believes the Horse is more important than he is.<ref>{{Cite|As long as I have my horse, I don't need anything else. He's more important than I am, to be honest!|Baddek|BotW}}</ref> In addition, he states that his Horse's saddle fits both him and the Horse perfectly.<ref>{{Cite|This saddle fits my horse's back perfectly, and it also fits my rear end perfectly. I'm mighty happy with it.|Baddek|BotW}}</ref> The Horse's bridle is also easy to grasp and elastic.<ref>{{Cite|This bridle is easy to grasp, and it's pretty elastic, so it's easy to handle.|Baddek|BotW}}</ref>\n",
      "\n",
      "Occasionally, Baddek will give Link tips for handling Horses, saying to pet them when they follow directions and work hard, as praising them reinforces good behavior.<ref>{{Cite|Pet your horse when it follows directions. Pet it when it works hard. Praise your horse at the right time to reinforce good behavior.|Baddek|BotW}}</ref> In addition, he tells Link that he can't expect a horse to ride hard for him without a meaningful connection,<ref>{{Cite|You can't expect a horse to ride hard for you if you don't have a meaningful connection with it.|Baddek|BotW}}</ref> and that he should spend time with his Horse to form a bond.<ref>{{Cite|Spending time with your horse is the best way to establish a connection.|Baddek|BotW}}</ref> He also recite Horse facts, stating that Horses can swim if they need to.<ref>{{Cite|Did you know that horses can swim in a pinch?|Baddek|BotW}}</ref> After this, he'll ask Link to name another animal that swims, but says it's a trick question as there aren't any.<ref>{{Cite|Name another animal that can swim. Trick questionâ€”you can't. But horses have it down cold. BOOM.|Baddek|BotW}}</ref> He also informs Link that {{Plural|BotW|Stable|link}} fit registered Horses with saddles and bridles.<ref>{{Cite|When you register a wild horse at a stable, they'll fit it with a saddle and bridle.|Baddek|BotW}}</ref>\n",
      "\n",
      "One type of Horse Baddek likes the most is the {{Term|BotW|White Horse|link}}, claiming he's heard of a special Horse in the [[Sanidin Park Ruins]] fit for a king.<ref>{{Cite|I heard that there's something special near Satori Mountain northwest of the Great Plateau. To the east of the mountain, you'll find Sanidin Park Ruins, and near there... is a special horse fit for a king.|Baddek|BotW}}</ref> While girls dream about princes on White Horses, Baddek only cares about the White Horse.<ref>{{Cite|Girls often talk dreamily about princes on white horses or some odd nonsense... But I couldn't care less about some stuffy prince. Give me the horse!|Baddek|BotW}}</ref> Though Horses come in many colors, White Horses take his breath away.<ref>{{Cite|Pinto, chestnut, black... Horse coats come in many different colors, but white horses take my breath away.|Baddek|BotW}}</ref>\n",
      "\n",
      "Baddek has also ridden a {{Term|BotW|Stalhorse|link}} in the [[Hebra Mountains]].<ref>{{Cite|Speaking of bones, I once rode a horse made of nothing but bones! No lie! It was up in the snowy mountains.|Baddek|BotW}}</ref> Since he could never be afraid of a Horse, Baddek claims he wasn't scared of it.<ref>{{Cite|Was I scared, you ask? Nope. I could never be scared of a horse.|Baddek|BotW}}</ref> He describes the Stalhorse as running well and being surprisingly comfortable.<ref>{{Cite|The horse made of bones that I rode up in the snowy mountains was surprisingly comfortable to mount.|Baddek|BotW}}</ref><ref>{{Cite|That bony horse ran really well, and it was actually a surprisingly comfortable ride.|Baddek|BotW}}</ref>\n",
      "\n",
      "Baddek tells {{Term|BotW|Link|link}} that there are four different {{Plural|BotW|Stable|link}} that have different {{Term|BotW|Bridle|link}} and {{Term|BotW|Saddle|link}} styles,<ref>{{Cite|Did you know that some of the stables in Hyrule have slightly different bridle and saddle styles?|Baddek|BotW}}</ref> these being [[Woodland Stable]], [[Highland Stable]], [[Outskirt Stable]], and [[South Akkala Stable]].<ref>{{Cite|I know of four for sure: Woodland Stable, Highland Stable, Outskirt Stable, and South Akkala Stable...|Baddek|BotW}}</ref><ref>{{Cite|I know of four stables in Hyrule that have slightly different bridle and saddle styles: Woodland Stable, Highland Stable, Outskit Stable, and South Akkala Stable.|Baddek|BotW}}</ref> This, however, is false, and these are simply the Stables where Link can have a worker change the gear of his Horses.\n",
      "\n",
      "When it's raining, Baddek will seek shelter for himself and his horse, commenting that it's raining \"like stallions and mares\".<ref>{{Cite|It's raining stallions and mares!|Baddek|BotW}}</ref> During this time, he'll give Link a quiz on Horses.<ref>{{Cite|I'm bored and it's raining, so how about I give you a little horse quiz.|Baddek|BotW}}</ref> He lists four different types of Horsesâ€”the White Horse, the [[Giant Horse]], the [[Master Cycle Zero|mechanical horse]], and the bone Horseâ€”and asks Link which one doesn't exist.<ref>{{Cite|White horse... Giant horse... Mechanical horse... Bone horse... Now, which of these horses doesn't exist in this world?|Baddek|BotW}}</ref> He says that the answer will be revealed someday, somewhere, and that Link may already know it.<ref>{{Cite|The answer will be revealed someday, somewhere. It may even have already been revealed to you.|Baddek|BotW}}</ref> Occasionally, Baddek will make dismissive comments about the existence of mechanical horses.<ref>{{Cite|Mechanical horses? Bah!|Baddek|BotW}}</ref>\n",
      "\n",
      "Despite his addiction to Horses, he also wonders about [[Paraglider]]s and {{Plural|BotW|Carrot|link}}.<ref>{{Cite|Paraglider? I wonder...|Baddek|BotW}}</ref><ref>{{Cite|Carrots...|Baddek|BotW}}</ref>\n",
      "\n",
      "==Nomenclature==\n",
      "{{Nomenclature}}\n",
      "\n",
      "==See Also==\n",
      "* [[Nazbi]]\n",
      "* [[Savelle]]\n",
      "* [[Yammo]]\n",
      "* [[Serenne Stable]]\n",
      "* [[Breach of Demise]]\n",
      "* [[Tabantha Bridge Stable]]\n",
      "\n",
      "{{Ref}}\n",
      "\n",
      "{{Categories\n",
      " |Hylians, Hyruleans\n",
      " |characters= BotW\n",
      "}}\n"
     ]
    }
   ],
   "source": [
    "print(charactersDf.Name[0])\n",
    "with open(\"txt files/\" + charactersDf.Name[0] + '.txt') as f:\n",
    "    text = f.read()\n",
    "\n",
    "print(text)"
   ]
  },
  {
   "cell_type": "code",
   "execution_count": 381,
   "metadata": {},
   "outputs": [
    {
     "name": "stdout",
     "output_type": "stream",
     "text": [
      "['Hylian', 'Era of the Wilds', 'Hylian', 'Horse', 'Wooden Shield', \"Traveler's Sword\", 'Link', 'Stable', 'White Horse', 'Stalhorse', 'Link', 'Stable', 'Bridle', 'Saddle', 'Carrot']\n"
     ]
    }
   ],
   "source": [
    "pattern1 = '\\[\\[(.*?)(?:\\|.*?)?\\]\\]'\n",
    "pattern2 = '\\{\\{(?:Term|Plural)\\|BotW\\|(.*?)(?:\\|link)?\\}\\}'\n",
    "\n",
    "yo = re.findall(pattern2,text)\n",
    "print(yo)"
   ]
  },
  {
   "cell_type": "code",
   "execution_count": 382,
   "metadata": {},
   "outputs": [
    {
     "name": "stdout",
     "output_type": "stream",
     "text": [
      "Male\n"
     ]
    }
   ],
   "source": [
    "gender = re.findall(r'(?:gender=\\s)([a-zA-Z]*)(?:<.*?\\/>)',text)\n",
    "if gender:\n",
    "    print(gender[0])\n",
    "else:\n",
    "    print('Not found')"
   ]
  },
  {
   "cell_type": "code",
   "execution_count": 383,
   "metadata": {},
   "outputs": [
    {
     "name": "stdout",
     "output_type": "stream",
     "text": [
      "Hylian\n"
     ]
    }
   ],
   "source": [
    "race = re.findall(r'(?:race=\\s)\\{\\{Term\\|BotW\\|(.*?)\\|link\\}\\}',text)\n",
    "if race:\n",
    "    print(race[0])\n",
    "else:\n",
    "    print('Not found')"
   ]
  },
  {
   "cell_type": "code",
   "execution_count": 384,
   "metadata": {},
   "outputs": [
    {
     "name": "stdout",
     "output_type": "stream",
     "text": [
      "Male Hylian ['Serenne Stable', 'Tabantha Bridge Stable', 'Sanidin Park Ruins', 'Hebra Mountains', 'Woodland Stable', 'Highland Stable', 'Outskirt Stable', 'South Akkala Stable', 'Giant Horse', 'Master Cycle Zero', 'Paraglider', 'Nazbi', 'Savelle', 'Yammo', 'Serenne Stable', 'Breach of Demise', 'Tabantha Bridge Stable', 'Hylian', 'Era of the Wilds', 'Hylian', 'Horse}}, carrying a {{Term|BotW|Wooden Shield', \"Traveler's Sword\", 'Link', 'White Horse', 'Stalhorse', 'Link', 'Bridle', 'Saddle'] 28\n"
     ]
    }
   ],
   "source": [
    "def nodeInfo(text):\n",
    "    genderRe1 = re.findall(r'(?:gender=\\s)([a-zA-Z]*)(?:<.*?\\/>)?(?:\\{\\{.*?\\}\\})?',text)\n",
    "    if genderRe1:\n",
    "        if genderRe1[0] == '':\n",
    "            gender = 'Unknown'\n",
    "        else:\n",
    "            gender = genderRe1[0]\n",
    "    else:\n",
    "        gender = 'Unknown'\n",
    "    raceRe1 = re.findall(r'(?:race=\\s)\\{\\{Term\\|BotW\\|(.*?)\\|link\\}\\}',text)\n",
    "    raceRe2 = re.findall(r'(?:race=\\s)\\[\\[(.*?)(?:\\|.*?)?\\]\\]',text)\n",
    "\n",
    "    if raceRe1:\n",
    "        race = raceRe1[0]\n",
    "    elif raceRe2:\n",
    "        race = raceRe2[0] \n",
    "    else:\n",
    "        race = 'none'\n",
    "    pattern1 = '\\[\\[(.*?)(?:\\|.*?)?\\]\\]'\n",
    "    pattern2 = '\\{\\{Term\\|BotW\\|(.*?)\\|link\\}\\}'\n",
    "    square = re.findall(pattern1,text)\n",
    "    curly = re.findall(pattern2,text)\n",
    "    edges = square + curly\n",
    "    return gender,race,edges\n",
    "\n",
    "g,r,e = nodeInfo(text)\n",
    "print(g,r,e,len(e))\n",
    "    \n",
    "    "
   ]
  },
  {
   "cell_type": "code",
   "execution_count": 385,
   "metadata": {},
   "outputs": [
    {
     "name": "stdout",
     "output_type": "stream",
     "text": [
      "5 ['Nazbi', 'Savelle', 'Yammo', 'Link', 'Link']\n"
     ]
    }
   ],
   "source": [
    "def filterC(chars,charList):\n",
    "    ret = []\n",
    "    i = 0\n",
    "    # print(charList)\n",
    "    for i in range(len(chars)):\n",
    "        # print(name, name in charList,type(name))\n",
    "        if chars[i] in charList:\n",
    "            ret.append(chars[i])\n",
    "    return ret\n",
    "charList = filterC(e,list(charactersDf.Name))\n",
    "# print(e[11] in list(charactersDf.Name),e[13])\n",
    "print(len(charList),charList)"
   ]
  },
  {
   "cell_type": "code",
   "execution_count": 386,
   "metadata": {},
   "outputs": [],
   "source": [
    "def tuples(name, list):\n",
    "    tmp = []\n",
    "    for item in list:\n",
    "        tmp.append((name,item))\n",
    "    return tmp"
   ]
  },
  {
   "cell_type": "code",
   "execution_count": 387,
   "metadata": {},
   "outputs": [
    {
     "name": "stdout",
     "output_type": "stream",
     "text": [
      "aa Granté\n",
      "aa Metal_Boulder\n"
     ]
    }
   ],
   "source": [
    "nameList = list(charactersDf.Name)\n",
    "networkInfoDf = pd.DataFrame(columns={\"name\",\"race\",\"gender\",\"charlist\",'role'})\n",
    "for row in charactersDf.iterrows():\n",
    "    try:\n",
    "        name= row[1]['Name'].replace(' ','_')\n",
    "        with open(\"txt files/\" + name + '.txt',encoding='utf-8') as f:\n",
    "            text = f.read()\n",
    "        g,r,e = nodeInfo(text)\n",
    "        charList = filterC(e,nameList)\n",
    "        networkInfoDf = networkInfoDf.append({\"name\":name,\"race\":r,\"gender\":g,\"charlist\":tuples(name,charList),\"role\":row[1]['type']},ignore_index=True)\n",
    "    \n",
    "    except:\n",
    "        print('aa',name)\n",
    "    \n",
    "    \n"
   ]
  },
  {
   "cell_type": "code",
   "execution_count": 388,
   "metadata": {},
   "outputs": [],
   "source": [
    "G = nx.DiGraph()\n",
    "nameList = list(charactersDf.Name)\n",
    "#Add all nodes to graph\n",
    "for row in networkInfoDf.iterrows():\n",
    "    name = row[1]['name']\n",
    "    gender = row[1]['gender']\n",
    "    race = row[1]['race']\n",
    "    role = row[1]['role']\n",
    "    G.add_node(name,race = race, gender = gender,role=role)\n",
    "\n",
    "for row in networkInfoDf.iterrows():\n",
    "    charList = row[1]['charlist']\n",
    "    G.add_edges_from(charList)\n"
   ]
  },
  {
   "cell_type": "code",
   "execution_count": 389,
   "metadata": {},
   "outputs": [
    {
     "data": {
      "image/png": "[encoded data removed]",
      "text/plain": [
       "<Figure size 1440x720 with 1 Axes>"
      ]
     },
     "metadata": {
      "needs_background": "light"
     },
     "output_type": "display_data"
    }
   ],
   "source": [
    "degrees = [G.degree(n) for n in G.nodes()]\n",
    "maxx = max(G.degree, key=lambda x: x[1])[1]\n",
    "\n",
    "hist,bin_edges = np.histogram(degrees,maxx-1)\n",
    "\n",
    "plt.figure(figsize=(20,10))\n",
    "plt.bar(bin_edges[:-1],hist)\n",
    "plt.title(\"Linear Scale, degree distribution\")\n",
    "plt.xlabel(\"k\")\n",
    "plt.ylabel(\"Count\")\n",
    "plt.show()"
   ]
  },
  {
   "cell_type": "code",
   "execution_count": 390,
   "metadata": {},
   "outputs": [
    {
     "data": {
      "image/png": "[encoded data removed]",
      "text/plain": [
       "<Figure size 1440x720 with 1 Axes>"
      ]
     },
     "metadata": {
      "needs_background": "light"
     },
     "output_type": "display_data"
    }
   ],
   "source": [
    "fig, ax = plt.subplots(figsize=(20,10))\n",
    "  \n",
    "ax.set_yscale(\"log\")\n",
    "ax.scatter(bin_edges[:-1],hist)\n",
    "  \n",
    "ax.set_ylim(1E-1, 1e3)\n",
    "\n",
    "plt.title(\"Logarithmic Scale, degree distribution\")\n",
    "plt.xlabel(\"k\")\n",
    "plt.ylabel(\"Count\")\n",
    "plt.show()"
   ]
  },
  {
   "cell_type": "markdown",
   "metadata": {},
   "source": [
    "## Exercise 2: Simple network statistics and analysis\n",
    "\n",
    "Visualize the network (from lecture 5) and calculate stats (from lecture 4 and 5). For this exercise, we assume that you've already generated the BotW network and extracted the giant connected component. Use the GCC to report the results.\n",
    "\n",
    "Exercise 1a: Stats (see lecture 4 and 5 for more hints)\n",
    "\n"
   ]
  },
  {
   "cell_type": "code",
   "execution_count": 391,
   "metadata": {},
   "outputs": [],
   "source": [
    "#Extracting the giant component\n",
    "GunD = G.to_undirected()\n",
    "giant = list(max(nx.connected_components(GunD), key=len))\n",
    "gcc = G.subgraph(giant).copy()\n",
    "# plt.figure(figsize=(20, 10))\n",
    "# nx.draw(gcc, node_size = 30)"
   ]
  },
  {
   "cell_type": "markdown",
   "metadata": {},
   "source": [
    "- What is the number of nodes in the network?\n",
    "- More importantly, what is the number of links?"
   ]
  },
  {
   "cell_type": "code",
   "execution_count": 392,
   "metadata": {},
   "outputs": [
    {
     "name": "stdout",
     "output_type": "stream",
     "text": [
      "Number of nodes and links in the network\n",
      "------------------------------------------\n",
      "Name: \n",
      "Type: DiGraph\n",
      "Number of nodes: 594\n",
      "Number of edges: 1472\n",
      "Average in degree:   2.4781\n",
      "Average out degree:   2.4781\n"
     ]
    }
   ],
   "source": [
    "print('Number of nodes and links in the network')\n",
    "print('------------------------------------------')\n",
    "print(nx.info(gcc))"
   ]
  },
  {
   "cell_type": "markdown",
   "metadata": {},
   "source": [
    "- Plot the distributions of Role, Race, and Gender."
   ]
  },
  {
   "cell_type": "code",
   "execution_count": 411,
   "metadata": {},
   "outputs": [],
   "source": [
    "races = set()\n",
    "for node in gcc.nodes(data=True):\n",
    "    if bool(node[1]):\n",
    "        races.add(node[1]['race'])\n",
    "raceCount = {}\n",
    "for item in races:\n",
    "    raceCount[item] = 0   \n",
    "genderCount ={'Male':0,'Female':0,'Unknown':0}\n",
    "roleCount = {'Ally':0, 'Enemy':0, 'Boss':0}\n",
    "\n",
    "\n",
    "for node in gcc.nodes(data=True):\n",
    "    if bool(node[1]):\n",
    "        raceCount[node[1]['race']] = raceCount[node[1]['race']] + 1\n",
    "        genderCount[node[1]['gender']] = genderCount[node[1]['gender']] + 1\n",
    "        roleCount[node[1]['role']] = roleCount[node[1]['role']] + 1"
   ]
  },
  {
   "cell_type": "code",
   "execution_count": 413,
   "metadata": {},
   "outputs": [
    {
     "data": {
      "image/png": "[encoded data removed]",
      "text/plain": [
       "<Figure size 1440x720 with 1 Axes>"
      ]
     },
     "metadata": {
      "needs_background": "light"
     },
     "output_type": "display_data"
    },
    {
     "data": {
      "image/png": "[encoded data removed]",
      "text/plain": [
       "<Figure size 1440x720 with 1 Axes>"
      ]
     },
     "metadata": {
      "needs_background": "light"
     },
     "output_type": "display_data"
    },
    {
     "data": {
      "image/png": "[encoded data removed]",
      "text/plain": [
       "<Figure size 1440x720 with 1 Axes>"
      ]
     },
     "metadata": {
      "needs_background": "light"
     },
     "output_type": "display_data"
    }
   ],
   "source": [
    "plt.figure(figsize=(20,10))\n",
    "plt.bar(raceCount.keys(), raceCount.values())\n",
    "plt.xticks(rotation=45)\n",
    "plt.show()\n",
    "plt.figure(figsize=(20,10))\n",
    "plt.bar(genderCount.keys(), genderCount.values())\n",
    "plt.show()\n",
    "plt.figure(figsize=(20,10))\n",
    "plt.bar(roleCount.keys(), roleCount.values())\n",
    "plt.show()"
   ]
  },
  {
   "cell_type": "markdown",
   "metadata": {},
   "source": [
    "- Plot the total (in+out), in and out-degree distributions. What do you observe? Can you explain why the in-degree distribution is different from -the out-degree distribution?\n"
   ]
  },
  {
   "cell_type": "code",
   "execution_count": 409,
   "metadata": {},
   "outputs": [
    {
     "data": {
      "image/png": "[encoded data removed]",
      "text/plain": [
       "<Figure size 1440x720 with 1 Axes>"
      ]
     },
     "metadata": {
      "needs_background": "light"
     },
     "output_type": "display_data"
    },
    {
     "data": {
      "image/png": "[encoded data removed]",
      "text/plain": [
       "<Figure size 1440x720 with 1 Axes>"
      ]
     },
     "metadata": {
      "needs_background": "light"
     },
     "output_type": "display_data"
    },
    {
     "data": {
      "image/png": "[encoded data removed]",
      "text/plain": [
       "<Figure size 1440x720 with 1 Axes>"
      ]
     },
     "metadata": {
      "needs_background": "light"
     },
     "output_type": "display_data"
    }
   ],
   "source": [
    "inDegree = [gcc.in_degree(node) for node in gcc.nodes()]\n",
    "outDegree = [gcc.out_degree(node) for node in gcc.nodes()]\n",
    "totalDegree = [gcc.degree(node) for node in gcc.nodes()]\n",
    "\n",
    "maxIn = max(inDegree,key=lambda item:item)\n",
    "maxOut = max(outDegree,key=lambda item:item)\n",
    "maxTotal = max(totalDegree,key=lambda item:item)\n",
    "\n",
    "minIn = min(inDegree,key=lambda item:item)\n",
    "minOut = min(outDegree,key=lambda item:item)\n",
    "minTotal = min(totalDegree,key=lambda item:item)\n",
    "\n",
    "vIn = np.linspace(minIn, maxIn, maxIn-minIn+1)\n",
    "counts, vIn = np.histogram(inDegree, vIn)\n",
    "plt.figure(figsize=(20,10))\n",
    "plt.bar(vIn[:-1], counts)\n",
    "plt.xlabel(\"Bins\")\n",
    "plt.ylabel(\"Degree\")\n",
    "plt.title('Distribution of in degrees')\n",
    "\n",
    "vOut = np.linspace(minOut, maxOut, maxOut-minOut+1)\n",
    "counts, vOut = np.histogram(outDegree, vOut)\n",
    "plt.figure(figsize=(20,10))\n",
    "plt.bar(vOut[:-1], counts)\n",
    "plt.xlabel(\"Bins\")\n",
    "plt.ylabel(\"Degree\")\n",
    "plt.title('Distribution of out degrees')\n",
    "\n",
    "vTotal = np.linspace(minTotal, maxTotal, maxTotal-minTotal+1)\n",
    "counts, vTotal = np.histogram(totalDegree, vTotal)\n",
    "plt.figure(figsize=(20,10))\n",
    "plt.bar(vTotal[:-1], counts)\n",
    "plt.xlabel(\"Bins\")\n",
    "plt.ylabel(\"Degree\")\n",
    "plt.title('Distribution of toal degrees')\n",
    "\n",
    "\n",
    "plt.show()"
   ]
  },
  {
   "cell_type": "markdown",
   "metadata": {},
   "source": [
    "What we can see from these degree distributions is that the out-degree is much more evenly disrtibuted than the in degree. This would suggest that every character's page has a similar amount of hyperlinks. The in-degree distribution is not even at all. The vast majority of nodes have a few in-edges as can be seen in the distribution. There are a few nodes (characters) with a very high degree of in-edges. We suspect that these are the main characters in the game (e.g. Link), so a large number of minor characters refrence them in their wiki-page."
   ]
  },
  {
   "cell_type": "markdown",
   "metadata": {},
   "source": [
    "- Find the exponent of the degree distribution (by using the powerlaw package) for the in- and out-degree distribution. What does it say about our network?\n"
   ]
  },
  {
   "cell_type": "code",
   "execution_count": 425,
   "metadata": {},
   "outputs": [
    {
     "name": "stdout",
     "output_type": "stream",
     "text": [
      "Calculating best minimal value for power law fit\n",
      "2.70816329700763\n"
     ]
    },
    {
     "name": "stderr",
     "output_type": "stream",
     "text": [
      "Values less than or equal to 0 in data. Throwing out 0 or negative values\n"
     ]
    }
   ],
   "source": [
    "print(powerlaw.Fit(inDegree).alpha)"
   ]
  },
  {
   "cell_type": "markdown",
   "metadata": {},
   "source": [
    "- Compare the degree distribution of the undirected graph to a random network with the same number of nodes and probability of connection p. Comment your results."
   ]
  },
  {
   "cell_type": "code",
   "execution_count": 408,
   "metadata": {},
   "outputs": [
    {
     "data": {
      "image/png": "[encoded data removed]",
      "text/plain": [
       "<Figure size 1440x720 with 1 Axes>"
      ]
     },
     "metadata": {
      "needs_background": "light"
     },
     "output_type": "display_data"
    }
   ],
   "source": [
    "n = gcc.number_of_nodes()\n",
    "k = gcc.number_of_edges()/ gcc.number_of_nodes()\n",
    "p = k/(n-1)\n",
    "gnp = nx.fast_gnp_random_graph(n,p)\n",
    "\n",
    "degreeGnp = [gnp.degree(node) for node in gnp.nodes()]\n",
    "maxGnp = max(degreeGnp,key=lambda item:item)\n",
    "minGnp = min(degreeGnp,key=lambda item:item)\n",
    "\n",
    "vGnp = np.linspace(minGnp, maxGnp, maxGnp-minGnp+1)\n",
    "countsGnp, vGnp = np.histogram(degreeGnp, vGnp)\n",
    "plt.figure(figsize=(20,10))\n",
    "plt.bar(vGnp[:-1], countsGnp)\n",
    "plt.xlabel(\"Bins\")\n",
    "plt.ylabel(\"Degree\")\n",
    "plt.title('Distribution of toal degrees')\n",
    "plt.show()\n"
   ]
  },
  {
   "cell_type": "markdown",
   "metadata": {},
   "source": [
    "Since the random network (Gnp) is undirected, we can only compare it's degree distribution to the total degree distribution of our Zelda network. We can see that the average degree in the random network is much more evenly distributed than the Zelda network. Since the network is created at random, it is very unlikely that it would have a distribution similar to the Zelda network, where the majority of nodes have only one edge and a single node has around 400 edges, as we see in the Zelda network. The distribution of the random networks resembles a normal distribution."
   ]
  },
  {
   "cell_type": "markdown",
   "metadata": {},
   "source": [
    "- Who is the top connected character in BotW? (Report results for the undirected network, in-degrees and out-degrees). Comment on your findings Is this what you would have expected?\n"
   ]
  },
  {
   "cell_type": "code",
   "execution_count": 398,
   "metadata": {},
   "outputs": [
    {
     "name": "stdout",
     "output_type": "stream",
     "text": [
      "The charecter with the highest 'in' degree is:  Link\n",
      "The charecter with the highest 'out' degree is:  Traysi\n",
      "The charecter with the highest 'total' degree is:  Link\n"
     ]
    }
   ],
   "source": [
    "AllyInDegree = []\n",
    "AllyOutDegree = []\n",
    "AllyTotalDegree = []\n",
    "\n",
    "EnemyInDegree = []\n",
    "EnemyOutDegree = []\n",
    "EnemyTotalDegree = []\n",
    "for node in gcc.nodes(data=True):\n",
    "    if bool(node[1]):\n",
    "        if node[1]['role'] == 'Ally':\n",
    "            AllyInDegree.append((node[0],gcc.in_degree(node[0])))\n",
    "            AllyOutDegree.append((node[0],gcc.out_degree(node[0])))\n",
    "            AllyTotalDegree.append((node[0],gcc.degree(node[0])))\n",
    "        else:\n",
    "            EnemyInDegree.append((node[0],gcc.in_degree(node[0])))\n",
    "            EnemyOutDegree.append((node[0],gcc.out_degree(node[0])))\n",
    "            EnemyTotalDegree.append((node[0],gcc.degree(node[0])))\n",
    "\n",
    "inDegree = [(node,G.in_degree(node)) for node in G.nodes()]\n",
    "outDegree = [(node,G.out_degree(node)) for node in G.nodes()]\n",
    "totalDegree = [(node,G.degree(node)) for node in G.nodes()]\n",
    "print( 'The charecter with the highest \\'in\\' degree is: ',max(inDegree,key=lambda item:item[1])[0])\n",
    "print( 'The charecter with the highest \\'out\\' degree is: ',max(outDegree,key=lambda item:item[1])[0])\n",
    "print( 'The charecter with the highest \\'total\\' degree is: ',max(totalDegree,key=lambda item:item[1])[0])"
   ]
  },
  {
   "cell_type": "markdown",
   "metadata": {},
   "source": [
    "As expected, the main character of the series, Link, is the most connected character in terms of 'in' degree and in the undirected graph. As the others of this report are not totally familiar with the Zelda games, we are not familiar with the character Traysi, so we can't really comment on that."
   ]
  },
  {
   "cell_type": "markdown",
   "metadata": {},
   "source": [
    "- Who are the top 5 most connected allies (again in terms of all edges, and in/out-degree)?"
   ]
  },
  {
   "cell_type": "code",
   "execution_count": 399,
   "metadata": {},
   "outputs": [
    {
     "name": "stdout",
     "output_type": "stream",
     "text": [
      "The allies with the highest in degree are:\n",
      "('Link', 377)\n",
      "('Riju', 21)\n",
      "('Mipha', 18)\n",
      "('Sidon', 13)\n",
      "('Impa', 12)\n",
      "----------------------------\n",
      "The allies with the highest out degree are:\n",
      "('Traysi', 14)\n",
      "('Urbosa', 11)\n",
      "('Link', 10)\n",
      "('Daruk', 9)\n",
      "('Impa', 9)\n",
      "----------------------------\n",
      "The top 5 most connected allies are:\n",
      "('Link', 387)\n",
      "('Riju', 26)\n",
      "('Mipha', 25)\n",
      "('Impa', 21)\n",
      "('Urbosa', 18)\n"
     ]
    }
   ],
   "source": [
    "AllyInDegree.sort(key=lambda y: y[1],reverse=True)\n",
    "AllyOutDegree.sort(key=lambda y: y[1],reverse=True)\n",
    "AllyTotalDegree.sort(key=lambda y: y[1],reverse=True)\n",
    "\n",
    "EnemyInDegree.sort(key=lambda y: y[1],reverse=True)\n",
    "EnemyOutDegree.sort(key=lambda y: y[1],reverse=True)\n",
    "EnemyTotalDegree.sort(key=lambda y: y[1],reverse=True)\n",
    "print(\"The allies with the highest in degree are:\")\n",
    "for i in range (5):\n",
    "    print(AllyInDegree[i])\n",
    "print('----------------------------')\n",
    "print(\"The allies with the highest out degree are:\")\n",
    "for i in range (5):\n",
    "    print(AllyOutDegree[i])\n",
    "print('----------------------------')\n",
    "print(\"The top 5 most connected allies are:\")\n",
    "for i in range (5):\n",
    "    print(AllyTotalDegree[i])"
   ]
  },
  {
   "cell_type": "markdown",
   "metadata": {},
   "source": [
    "- Who are the top 5 most connected enemies -- bosses included -- (again in terms of all edges in/out-degree)?"
   ]
  },
  {
   "cell_type": "code",
   "execution_count": 400,
   "metadata": {},
   "outputs": [
    {
     "name": "stdout",
     "output_type": "stream",
     "text": [
      "The enemies with the highest in degree are:\n",
      "('Bokoblin', 11)\n",
      "('Malice', 9)\n",
      "('Moblin', 8)\n",
      "('Lizalfos', 7)\n",
      "('Stalizalfos', 7)\n",
      "----------------------------\n",
      "The enemies with the highest out degree are:\n",
      "('Stalizalfos', 11)\n",
      "('Moblin', 10)\n",
      "('Silver_Lizalfos', 9)\n",
      "('Gerudo_Desert', 9)\n",
      "('Blue_Lizalfos', 8)\n",
      "----------------------------\n",
      "The top 5 most connected enemies are:\n",
      "('Moblin', 18)\n",
      "('Stalizalfos', 18)\n",
      "('Hinox', 13)\n",
      "('Bokoblin', 12)\n",
      "('Stalkoblin', 12)\n"
     ]
    }
   ],
   "source": [
    "print(\"The enemies with the highest in degree are:\")\n",
    "for i in range (5):\n",
    "    print(EnemyInDegree[i])\n",
    "print('----------------------------')\n",
    "print(\"The enemies with the highest out degree are:\")\n",
    "for i in range (5):\n",
    "    print(EnemyOutDegree[i])\n",
    "print('----------------------------')\n",
    "print(\"The top 5 most connected enemies are:\")\n",
    "for i in range (5):\n",
    "    print(EnemyTotalDegree[i])"
   ]
  }
 ],
 "metadata": {
  "interpreter": {
   "hash": "abeb1b6365932ba6ff4ac4533716daba8e111ed525e182e5e5d09b65a3f8fa33"
  },
  "kernelspec": {
   "display_name": "Python 3.8.5 64-bit ('base': conda)",
   "name": "python3"
  },
  "language_info": {
   "codemirror_mode": {
    "name": "ipython",
    "version": 3
   },
   "file_extension": ".py",
   "mimetype": "text/x-python",
   "name": "python",
   "nbconvert_exporter": "python",
   "pygments_lexer": "ipython3",
   "version": "3.8.5"
  },
  "orig_nbformat": 4
 },
 "nbformat": 4,
 "nbformat_minor": 2
}
