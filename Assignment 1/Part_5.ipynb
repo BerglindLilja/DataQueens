{
 "cells": [
  {
   "cell_type": "markdown",
   "metadata": {},
   "source": [
    "## Part 5 Power-laws and the friendship paradox"
   ]
  },
  {
   "cell_type": "markdown",
   "metadata": {},
   "source": [
    "Next step is to explore the Friendship paradox. This paradox states that almost everyone have fewer friends than their friends have, on average. This sounds crazy, but is actually an almost trivial consequence of living in a social network with a power-law degree distribution. The explanation is that almost everyone is friends with a hub, that drives up the average degree of the friends. Let's explore that in the 5000 node BA network we've just generated. Do the following:"
   ]
  },
  {
   "cell_type": "code",
   "execution_count": 25,
   "metadata": {},
   "outputs": [],
   "source": [
    "import networkx as nx\n",
    "import random\n",
    "import numpy as np\n",
    "import matplotlib.pyplot as plt\n"
   ]
  },
  {
   "cell_type": "code",
   "execution_count": 49,
   "metadata": {},
   "outputs": [],
   "source": [
    "def BAGraph(size):   \n",
    "    tmp = nx.Graph()\n",
    "    tmp.add_nodes_from([1,2])\n",
    "    tmp.add_edge(1,2)\n",
    "    #Create a list of all the edges in the graph and flatten the list\n",
    "    edges = list(tmp.edges)\n",
    "    flat_list = [item for sublist in edges for item in sublist]\n",
    "\n",
    "    for i in range(3,size+1):\n",
    "        edges = list(tmp.edges)\n",
    "        flat_list = [item for sublist in edges for item in sublist]\n",
    "        x = random.choice(flat_list)\n",
    "        tmp.add_node(i)\n",
    "        tmp.add_edge(i,x)\n",
    "    return tmp      \n",
    "\n",
    "G5000 = BAGraph(5000)  "
   ]
  },
  {
   "cell_type": "code",
   "execution_count": 91,
   "metadata": {},
   "outputs": [
    {
     "name": "stdout",
     "output_type": "stream",
     "text": [
      "Our random node:  590\n",
      "The degree of the random node:  6\n"
     ]
    }
   ],
   "source": [
    "#Pick a node i at random (e.g. use random.choice). Find its degree.\n",
    "rNode = random.choice(list(G5000))\n",
    "\n",
    "rNodeDegree = G5000.degree(rNode)\n",
    "\n",
    "print(\"Our random node: \", rNode)\n",
    "print(\"The degree of the random node: \", rNodeDegree)"
   ]
  },
  {
   "cell_type": "code",
   "execution_count": 94,
   "metadata": {},
   "outputs": [
    {
     "name": "stdout",
     "output_type": "stream",
     "text": [
      "The node's neighbour:  [2, 929, 1227, 2606, 3158, 3274]\n",
      "[101, 2, 5, 2, 1, 1]\n",
      "Average degree of neighbour nodes 18.666666666666668\n"
     ]
    }
   ],
   "source": [
    "#Find i's neighbors. And calculate their average degree.\n",
    "nodeNeighbors = list(G5000.neighbors(rNode))\n",
    "print(\"The node's neighbour: \", nodeNeighbors)\n",
    "\n",
    "p = [G5000.degree(n) for n in nodeNeighbors]\n",
    "ave = sum(p)/len(p)\n",
    "print(p)\n",
    "print(\"Average degree of neighbour nodes\", ave)"
   ]
  },
  {
   "cell_type": "code",
   "execution_count": 135,
   "metadata": {},
   "outputs": [
    {
     "name": "stdout",
     "output_type": "stream",
     "text": [
      "The friendship paradox is true in:  85.1 % of the time\n"
     ]
    }
   ],
   "source": [
    "#Compare the two numbers to check if it's true that i's friends (on average)\n",
    "#have more friends than i.\n",
    "\n",
    "def friendship(G, node):\n",
    "    nodeNeighbors = list(G.neighbors(node))\n",
    "\n",
    "    p = [G.degree(n) for n in nodeNeighbors]\n",
    "    ave = sum(p)/len(p)\n",
    "    \n",
    "    return G.degree(node) < ave\n",
    "\n",
    "\n",
    "# print(friendship(G5000, rNode))\n",
    "\n",
    "\n",
    "#Do this 1000 times. How many out of those 1000 times is the friendship paradox true?\n",
    "\n",
    "randomNodes = random.sample(list(G5000), 1000)\n",
    "counter = 0\n",
    "\n",
    "for i in randomNodes:\n",
    "     if friendship(G5000, i):\n",
    "            counter += 1\n",
    "            \n",
    "print(\"The friendship paradox is true in: \", counter/len(randomNodes)*100, \"% of the time\")\n"
   ]
  },
  {
   "cell_type": "markdown",
   "metadata": {},
   "source": [
    "Finally, we'll build a network of same size and degree, using the growth mechanism without the preferential attachment."
   ]
  },
  {
   "cell_type": "code",
   "execution_count": 163,
   "metadata": {},
   "outputs": [],
   "source": [
    "size = 5000\n",
    "\n",
    "def BAGraphWithout(size):   \n",
    "    tmp = nx.Graph()\n",
    "    tmp.add_nodes_from([1,2])\n",
    "    tmp.add_edge(1,2)\n",
    "    #Create a list of all the edges in the graph and flatten the list\n",
    "#     nodes = list(tmp.nodes)\n",
    "#     flat_list = [item for sublist in nodes for item in sublist]\n",
    "\n",
    "    for i in range(3,size+1):\n",
    "        nodes = list(tmp.nodes)\n",
    "#         flat_list = [item for sublist in nodes for item in sublist]\n",
    "        x = random.choice(nodes)\n",
    "        tmp.add_node(i)\n",
    "        tmp.add_edge(i,x)\n",
    "    return tmp\n",
    "\n",
    "g2 = BAGraphWithout(size)\n",
    "# nx.draw(g2, node_size = 50)"
   ]
  },
  {
   "cell_type": "code",
   "execution_count": 164,
   "metadata": {},
   "outputs": [
    {
     "name": "stdout",
     "output_type": "stream",
     "text": [
      "9998\n",
      "5000\n",
      "0.0004\n"
     ]
    }
   ],
   "source": [
    "nodesInG2 = [g2.degree(n) for n in g2.nodes]\n",
    "G2ave = sum(nodesInG2)/len(nodesInG2)\n",
    "prob = G2ave/(size-1)\n",
    "print(sum(nodesInG2))\n",
    "print(len(nodesInG2))\n",
    "print(prob)\n",
    "\n"
   ]
  },
  {
   "cell_type": "code",
   "execution_count": 165,
   "metadata": {
    "scrolled": true
   },
   "outputs": [],
   "source": [
    "g3 = nx.erdos_renyi_graph(size, prob)\n",
    "# nx.draw(g3, node_size = 50)"
   ]
  },
  {
   "cell_type": "markdown",
   "metadata": {},
   "source": [
    "Compare to the ER network of same size and same $p$. What are the differences? Explain in your own words. Hint: To get started, take a look at the degree distribution, and study the number of connected components."
   ]
  },
  {
   "cell_type": "markdown",
   "metadata": {},
   "source": []
  },
  {
   "cell_type": "code",
   "execution_count": 175,
   "metadata": {},
   "outputs": [
    {
     "name": "stdout",
     "output_type": "stream",
     "text": [
      "[ 1.   2.5  4.   5.5  7.   8.5 10.  11.5 13.  14.5 16. ]\n",
      "[3762  623  453   71   70   11    7    1    1    1]\n"
     ]
    },
    {
     "data": {
      "text/plain": [
       "Text(0.5, 1.0, 'BA')"
      ]
     },
     "execution_count": 175,
     "metadata": {},
     "output_type": "execute_result"
    },
    {
     "data": {
      "image/png": "[encoded data removed]",
      "text/plain": [
       "<Figure size 432x288 with 1 Axes>"
      ]
     },
     "metadata": {
      "needs_background": "light"
     },
     "output_type": "display_data"
    }
   ],
   "source": [
    "degrees = [g2.degree(n) for n in g2.nodes()]\n",
    "#print(degrees)\n",
    "#print(np.histogram(degrees))\n",
    "hist,bin_edges = np.histogram(degrees,10)\n",
    "print(bin_edges)\n",
    "print(hist)\n",
    "\n",
    "plt.bar(bin_edges[:-1],hist)\n",
    "plt.xlabel(\"k\")\n",
    "plt.ylabel(\"Count\")\n",
    "plt.title(\"BA\")"
   ]
  },
  {
   "cell_type": "code",
   "execution_count": 173,
   "metadata": {},
   "outputs": [
    {
     "name": "stdout",
     "output_type": "stream",
     "text": [
      "[0.  0.8 1.6 2.4 3.2 4.  4.8 5.6 6.4 7.2 8. ]\n",
      "[ 683 1273 1333  946    0  483  184   69   25    4]\n"
     ]
    },
    {
     "data": {
      "text/plain": [
       "Text(0, 0.5, 'Count')"
      ]
     },
     "execution_count": 173,
     "metadata": {},
     "output_type": "execute_result"
    },
    {
     "data": {
      "image/png": "[encoded data removed]",
      "text/plain": [
       "<Figure size 432x288 with 1 Axes>"
      ]
     },
     "metadata": {
      "needs_background": "light"
     },
     "output_type": "display_data"
    }
   ],
   "source": [
    "degrees = [g3.degree(n) for n in g3.nodes()]\n",
    "#print(degrees)\n",
    "#print(np.histogram(degrees))\n",
    "hist,bin_edges = np.histogram(degrees,10)\n",
    "print(bin_edges)\n",
    "print(hist)\n",
    "\n",
    "plt.bar(bin_edges[:-1],hist)\n",
    "plt.xlabel(\"k\")\n",
    "plt.ylabel(\"Count\")\n",
    "plt.title(\"ER\")"
   ]
  }
 ],
 "metadata": {
  "interpreter": {
   "hash": "db5f431d67369367319cce06febc9ad3dd487eb7924657ecef6c0a49fde72334"
  },
  "kernelspec": {
   "display_name": "Python 3 (ipykernel)",
   "language": "python",
   "name": "python3"
  },
  "language_info": {
   "codemirror_mode": {
    "name": "ipython",
    "version": 3
   },
   "file_extension": ".py",
   "mimetype": "text/x-python",
   "name": "python",
   "nbconvert_exporter": "python",
   "pygments_lexer": "ipython3",
   "version": "3.7.11"
  }
 },
 "nbformat": 4,
 "nbformat_minor": 4
}
