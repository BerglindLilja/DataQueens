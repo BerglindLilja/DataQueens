{
 "cells": [
  {
   "cell_type": "code",
   "execution_count": 2,
   "id": "f675caec",
   "metadata": {},
   "outputs": [],
   "source": [
    "import json\n",
    "import urllib.request\n",
    "from collections import defaultdict\n",
    "import pandas as pd\n",
    "import nltk\n",
    "import matplotlib.pyplot as plt\n",
    "from wordcloud import WordCloud\n",
    "import re\n",
    "\n",
    "from nltk.corpus import PlaintextCorpusReader\n",
    "from nltk.corpus import stopwords\n",
    "from nltk.tokenize import RegexpTokenizer\n",
    "from nltk.tokenize import word_tokenize"
   ]
  },
  {
   "cell_type": "code",
   "execution_count": 79,
   "id": "4c9d5a75",
   "metadata": {},
   "outputs": [],
   "source": [
    "# Probably not going to use this...\n",
    "\n",
    "#Create the corpus\n",
    "corpus_root = 'newtxt'\n",
    "newcorpus = PlaintextCorpusReader(corpus_root, '.*')"
   ]
  },
  {
   "cell_type": "code",
   "execution_count": 27,
   "id": "837db07b",
   "metadata": {},
   "outputs": [],
   "source": [
    "#Create DataFrame and read all attributes from csv\n",
    "df_characters = pd.DataFrame()\n",
    "df_characters = pd.read_csv(\"characters.csv\")\n",
    "df_characters = df_characters.drop(\"Unnamed: 0\", axis=1)\n",
    "\n",
    "# Getting names of all characters in the csv\n",
    "names = df_characters.Name.values"
   ]
  },
  {
   "cell_type": "code",
   "execution_count": 95,
   "id": "75cb41a6",
   "metadata": {},
   "outputs": [],
   "source": [
    "# stop_words = set(stopwords.words('english'))\n",
    "stopwords = nltk.corpus.stopwords.words('english')\n",
    "tokenizer = RegexpTokenizer(r'\\w+')\n",
    "wnl = nltk.WordNetLemmatizer()"
   ]
  },
  {
   "cell_type": "code",
   "execution_count": 19,
   "id": "8979c376",
   "metadata": {},
   "outputs": [],
   "source": [
    "booknames = [\"books/01 - The Fellowship Of The Ring.txt\", \n",
    "         \"books/02 - The Two Towers.txt\", \n",
    "         \"books/03 - The Return Of The King.txt\"]"
   ]
  },
  {
   "cell_type": "code",
   "execution_count": 124,
   "id": "a45b3b4b",
   "metadata": {},
   "outputs": [],
   "source": [
    "# Maybe used if I change back from lines to characters\n",
    "#         fullbook = text[3886:1023401]\n",
    "#         foreward = text[3886:13877]\n",
    "#         prologue = text[13908:54709]\n",
    "#         booktext = text[54953:]\n",
    "\n",
    "# for idx, name in enumerate(booknames):\n",
    "\n",
    "# Generate a new book dictionary\n",
    "book = {\n",
    "    'title' : \"\",\n",
    "#     'booknumber' : idx+1,\n",
    "    'booknumber' : 1,\n",
    "    'nr_of_chapters' : 0,\n",
    "    'text' : \"\"\"\"\"\",\n",
    "    'cleaned_text' : \"\"\"\"\"\"\n",
    "}\n",
    "\n",
    "f = open(\"books/01 - The Fellowship Of The Ring.txt\", encoding=\"utf-8\", errors='ignore')\n",
    "lines = f.readlines()\n",
    "lines = [line.strip() for line in lines if line != '\\n']\n",
    "\n",
    "if book['booknumber'] == 1:\n",
    "    book['title'] = lines[191]\n",
    "    the_end_index = len(lines)-4\n",
    "elif book['booknumber'] == 2:\n",
    "    book['title'] = lines[30]\n",
    "    the_end_index = lines[len(lines)-3]\n",
    "else:\n",
    "    book['title'] = lines[28]\n",
    "    the_end_index = lines[len(lines)-1]\n",
    "\n",
    "# Find all indexes where a chapter start\n",
    "chapter_starts_index = [lines.index(l) for l in lines if l.startswith('_Chapter')]\n",
    "\n",
    "# Working with each chapter\n",
    "for i in range(len(chapter_starts_indexes)):\n",
    "\n",
    "    # Create chapter dictionary\n",
    "    chapter = {\n",
    "        'chapter_name' : \"\",\n",
    "        'chapter_text' : \"\"\"\"\"\"\n",
    "#             'cleaned_chapter_text'\n",
    "    }\n",
    "\n",
    "    book['nr_of_chapters'] += 1\n",
    "\n",
    "    chapter['chapter_name'] = lines[chapter_starts_index[i]+1]\n",
    "    \n",
    "    # Get text for all chapters but the last one\n",
    "    if i < len(chapter_starts_index)-1: \n",
    "        text = lines[chapter_starts_index[i]+2:chapter_starts_index[i+1]]  \n",
    "    else:\n",
    "        # Get text for last chapter using the correct indexes\n",
    "        text = lines[chapter_starts_index[i]+2:the_end_index] \n",
    "\n",
    "    text = ' '.join(str(t) for t in text)\n",
    "    \n",
    "    chapter['chapter_text'] = text # Add the text to the chapter-dictionary"
   ]
  },
  {
   "cell_type": "code",
   "execution_count": null,
   "id": "29d6c1b4",
   "metadata": {},
   "outputs": [],
   "source": [
    "# Book I\n",
    "\n",
    "#  Chapter 1 A Long-expected Party\n",
    "#  Chapter 2 The Shadow of the Past\n",
    "#  Chapter 3 Three is Company\n",
    "#  Chapter 4 A Short Cut to Mushrooms\n",
    "#  Chapter 5 A Conspiracy Unmasked\n",
    "#  Chapter 6 The Old Forest\n",
    "#  Chapter 7 In the House of Tom Bombadil\n",
    "#  Chapter 8 Fog on the Barrow-Downs\n",
    "#  Chapter 9 At the Sign of The Prancing Pony\n",
    "#  Chapter 10 Strider\n",
    "#  Chapter 11 A Knife in the Dark\n",
    "#  Chapter 12 Flight to the Ford\n",
    "\n",
    "#  Book II\n",
    "\n",
    "#  Chapter 1 Many Meetings\n",
    "#  Chapter 2 The Council of Elrond\n",
    "#  Chapter 3 The Ring Goes South\n",
    "#  Chapter 4 A Journey in the Dark\n",
    "#  Chapter 5 The Bridge of Khazad-d˚m\n",
    "#  Chapter 6 LothlÛrien\n",
    "#  Chapter 7 The Mirror of Galadriel\n",
    "#  Chapter 8 Farewell to LÛrien\n",
    "#  Chapter 9 The Great River\n",
    "#  Chapter 10 The Breaking of the Fellowship"
   ]
  },
  {
   "cell_type": "code",
   "execution_count": 84,
   "id": "c24ad76d",
   "metadata": {
    "scrolled": true
   },
   "outputs": [
    {
     "name": "stdout",
     "output_type": "stream",
     "text": [
      "Book nr: 1\n",
      "Book title: The Fellowship Of The Ring\n",
      "Number of characters in book: 1024531\n",
      "Number of words in book: 190722\n",
      "Number of unique words in book: 10177\n",
      "Number of chapters in book: 22\n",
      "--------------------------------------\n",
      "Book nr: 2\n",
      "Book title: The Two Towers\n",
      "Number of characters in book: 835734\n",
      "Number of words in book: 156557\n",
      "Number of unique words in book: 8872\n",
      "Number of chapters in book: 21\n",
      "--------------------------------------\n",
      "Book nr: 3\n",
      "Book title: The Return Of The King\n",
      "Number of characters in book: 724926\n",
      "Number of words in book: 137500\n",
      "Number of unique words in book: 8101\n",
      "Number of chapters in book: 19\n",
      "--------------------------------------\n"
     ]
    }
   ],
   "source": [
    "# Cleaning the text\n",
    "# for book in books:\n",
    "\n",
    "for idx, name in enumerate(books):\n",
    "    \n",
    "#     with open(\"books/\" + book, encoding=\"iso-8859-1\") as f:\n",
    "    with open(\"books/\" + book, encoding=\"latin1\") as f:\n",
    "        fullText = f.read()\n",
    "#         print(fullText)\n",
    "\n",
    "    # chapters[0] is foreword and prologue + chapter names and such\n",
    "    chapters = fullText.split(\"_Chapter\")\n",
    "\n",
    "    # Removing punctuations\n",
    "    words = tokenizer.tokenize(fullText)\n",
    "    \n",
    "    #Unique words in words\n",
    "    unique = set(words) \n",
    "    \n",
    "    stringToWrite = \"\"\n",
    "    for r in words:\n",
    "        #Setting everything to lowercase\n",
    "        r = r.lower()\n",
    "\n",
    "        if not r in stop_words:\n",
    "            stringToWrite += \" \" + r\n",
    "\n",
    "        # Lemmatization\n",
    "        r = wnl.lemmatize(r)\n",
    "\n",
    "    with open(\"newtxt/\" + book,'r+', encoding=\"latin1\") as myfile:\n",
    "        data = myfile.read()\n",
    "        myfile.seek(0)\n",
    "        myfile.write(stringToWrite)\n",
    "        myfile.truncate()\n",
    "        \n",
    "        \n",
    "        \n",
    "        \n",
    "        \n",
    "    #Printing out fun info\n",
    "    print(\"Book nr:\", book[1])\n",
    "    \n",
    "    print(\"Book title:\", book[5:-4])\n",
    "    \n",
    "    print(\"Number of characters in book:\", len(fullText))\n",
    "\n",
    "    print(\"Number of words in book:\", len(words))\n",
    "\n",
    "    print(\"Number of unique words in book:\", len(unique))\n",
    "    \n",
    "    print(\"Number of chapters in book:\", len(chapters)-1)\n",
    "    print(\"--------------------------------------\")\n",
    "\n"
   ]
  },
  {
   "cell_type": "code",
   "execution_count": 94,
   "id": "f6b9f071",
   "metadata": {},
   "outputs": [
    {
     "ename": "UnicodeDecodeError",
     "evalue": "'utf-8' codec can't decode byte 0xfb in position 443: invalid start byte",
     "output_type": "error",
     "traceback": [
      "\u001b[0;31m---------------------------------------------------------------------------\u001b[0m",
      "\u001b[0;31mUnicodeDecodeError\u001b[0m                        Traceback (most recent call last)",
      "\u001b[0;32m<ipython-input-94-9653a01aba2a>\u001b[0m in \u001b[0;36m<module>\u001b[0;34m\u001b[0m\n\u001b[1;32m      1\u001b[0m \u001b[0;32mfor\u001b[0m \u001b[0mname\u001b[0m \u001b[0;32min\u001b[0m \u001b[0mbooks\u001b[0m\u001b[0;34m:\u001b[0m\u001b[0;34m\u001b[0m\u001b[0;34m\u001b[0m\u001b[0m\n\u001b[0;32m----> 2\u001b[0;31m     \u001b[0mnltk\u001b[0m\u001b[0;34m.\u001b[0m\u001b[0mText\u001b[0m\u001b[0;34m(\u001b[0m\u001b[0mnewcorpus\u001b[0m\u001b[0;34m.\u001b[0m\u001b[0mwords\u001b[0m\u001b[0;34m(\u001b[0m\u001b[0mname\u001b[0m\u001b[0;34m)\u001b[0m\u001b[0;34m)\u001b[0m\u001b[0;34m\u001b[0m\u001b[0;34m\u001b[0m\u001b[0m\n\u001b[0m",
      "\u001b[0;32m~/opt/anaconda3/lib/python3.8/site-packages/nltk/text.py\u001b[0m in \u001b[0;36m__init__\u001b[0;34m(self, tokens, name)\u001b[0m\n\u001b[1;32m    343\u001b[0m         \"\"\"\n\u001b[1;32m    344\u001b[0m         \u001b[0;32mif\u001b[0m \u001b[0mself\u001b[0m\u001b[0;34m.\u001b[0m\u001b[0m_COPY_TOKENS\u001b[0m\u001b[0;34m:\u001b[0m\u001b[0;34m\u001b[0m\u001b[0;34m\u001b[0m\u001b[0m\n\u001b[0;32m--> 345\u001b[0;31m             \u001b[0mtokens\u001b[0m \u001b[0;34m=\u001b[0m \u001b[0mlist\u001b[0m\u001b[0;34m(\u001b[0m\u001b[0mtokens\u001b[0m\u001b[0;34m)\u001b[0m\u001b[0;34m\u001b[0m\u001b[0;34m\u001b[0m\u001b[0m\n\u001b[0m\u001b[1;32m    346\u001b[0m         \u001b[0mself\u001b[0m\u001b[0;34m.\u001b[0m\u001b[0mtokens\u001b[0m \u001b[0;34m=\u001b[0m \u001b[0mtokens\u001b[0m\u001b[0;34m\u001b[0m\u001b[0;34m\u001b[0m\u001b[0m\n\u001b[1;32m    347\u001b[0m \u001b[0;34m\u001b[0m\u001b[0m\n",
      "\u001b[0;32m~/opt/anaconda3/lib/python3.8/site-packages/nltk/corpus/reader/util.py\u001b[0m in \u001b[0;36m__len__\u001b[0;34m(self)\u001b[0m\n\u001b[1;32m    230\u001b[0m             \u001b[0;31m# iterate_from() sets self._len when it reaches the end\u001b[0m\u001b[0;34m\u001b[0m\u001b[0;34m\u001b[0m\u001b[0;34m\u001b[0m\u001b[0m\n\u001b[1;32m    231\u001b[0m             \u001b[0;31m# of the file:\u001b[0m\u001b[0;34m\u001b[0m\u001b[0;34m\u001b[0m\u001b[0;34m\u001b[0m\u001b[0m\n\u001b[0;32m--> 232\u001b[0;31m             \u001b[0;32mfor\u001b[0m \u001b[0mtok\u001b[0m \u001b[0;32min\u001b[0m \u001b[0mself\u001b[0m\u001b[0;34m.\u001b[0m\u001b[0miterate_from\u001b[0m\u001b[0;34m(\u001b[0m\u001b[0mself\u001b[0m\u001b[0;34m.\u001b[0m\u001b[0m_toknum\u001b[0m\u001b[0;34m[\u001b[0m\u001b[0;34m-\u001b[0m\u001b[0;36m1\u001b[0m\u001b[0;34m]\u001b[0m\u001b[0;34m)\u001b[0m\u001b[0;34m:\u001b[0m\u001b[0;34m\u001b[0m\u001b[0;34m\u001b[0m\u001b[0m\n\u001b[0m\u001b[1;32m    233\u001b[0m                 \u001b[0;32mpass\u001b[0m\u001b[0;34m\u001b[0m\u001b[0;34m\u001b[0m\u001b[0m\n\u001b[1;32m    234\u001b[0m         \u001b[0;32mreturn\u001b[0m \u001b[0mself\u001b[0m\u001b[0;34m.\u001b[0m\u001b[0m_len\u001b[0m\u001b[0;34m\u001b[0m\u001b[0;34m\u001b[0m\u001b[0m\n",
      "\u001b[0;32m~/opt/anaconda3/lib/python3.8/site-packages/nltk/corpus/reader/util.py\u001b[0m in \u001b[0;36miterate_from\u001b[0;34m(self, start_tok)\u001b[0m\n\u001b[1;32m    296\u001b[0m             \u001b[0mself\u001b[0m\u001b[0;34m.\u001b[0m\u001b[0m_current_toknum\u001b[0m \u001b[0;34m=\u001b[0m \u001b[0mtoknum\u001b[0m\u001b[0;34m\u001b[0m\u001b[0;34m\u001b[0m\u001b[0m\n\u001b[1;32m    297\u001b[0m             \u001b[0mself\u001b[0m\u001b[0;34m.\u001b[0m\u001b[0m_current_blocknum\u001b[0m \u001b[0;34m=\u001b[0m \u001b[0mblock_index\u001b[0m\u001b[0;34m\u001b[0m\u001b[0;34m\u001b[0m\u001b[0m\n\u001b[0;32m--> 298\u001b[0;31m             \u001b[0mtokens\u001b[0m \u001b[0;34m=\u001b[0m \u001b[0mself\u001b[0m\u001b[0;34m.\u001b[0m\u001b[0mread_block\u001b[0m\u001b[0;34m(\u001b[0m\u001b[0mself\u001b[0m\u001b[0;34m.\u001b[0m\u001b[0m_stream\u001b[0m\u001b[0;34m)\u001b[0m\u001b[0;34m\u001b[0m\u001b[0;34m\u001b[0m\u001b[0m\n\u001b[0m\u001b[1;32m    299\u001b[0m             assert isinstance(tokens, (tuple, list, AbstractLazySequence)), (\n\u001b[1;32m    300\u001b[0m                 \u001b[0;34m\"block reader %s() should return list or tuple.\"\u001b[0m\u001b[0;34m\u001b[0m\u001b[0;34m\u001b[0m\u001b[0m\n",
      "\u001b[0;32m~/opt/anaconda3/lib/python3.8/site-packages/nltk/corpus/reader/plaintext.py\u001b[0m in \u001b[0;36m_read_word_block\u001b[0;34m(self, stream)\u001b[0m\n\u001b[1;32m    132\u001b[0m         \u001b[0mwords\u001b[0m \u001b[0;34m=\u001b[0m \u001b[0;34m[\u001b[0m\u001b[0;34m]\u001b[0m\u001b[0;34m\u001b[0m\u001b[0;34m\u001b[0m\u001b[0m\n\u001b[1;32m    133\u001b[0m         \u001b[0;32mfor\u001b[0m \u001b[0mi\u001b[0m \u001b[0;32min\u001b[0m \u001b[0mrange\u001b[0m\u001b[0;34m(\u001b[0m\u001b[0;36m20\u001b[0m\u001b[0;34m)\u001b[0m\u001b[0;34m:\u001b[0m  \u001b[0;31m# Read 20 lines at a time.\u001b[0m\u001b[0;34m\u001b[0m\u001b[0;34m\u001b[0m\u001b[0m\n\u001b[0;32m--> 134\u001b[0;31m             \u001b[0mwords\u001b[0m\u001b[0;34m.\u001b[0m\u001b[0mextend\u001b[0m\u001b[0;34m(\u001b[0m\u001b[0mself\u001b[0m\u001b[0;34m.\u001b[0m\u001b[0m_word_tokenizer\u001b[0m\u001b[0;34m.\u001b[0m\u001b[0mtokenize\u001b[0m\u001b[0;34m(\u001b[0m\u001b[0mstream\u001b[0m\u001b[0;34m.\u001b[0m\u001b[0mreadline\u001b[0m\u001b[0;34m(\u001b[0m\u001b[0;34m)\u001b[0m\u001b[0;34m)\u001b[0m\u001b[0;34m)\u001b[0m\u001b[0;34m\u001b[0m\u001b[0;34m\u001b[0m\u001b[0m\n\u001b[0m\u001b[1;32m    135\u001b[0m         \u001b[0;32mreturn\u001b[0m \u001b[0mwords\u001b[0m\u001b[0;34m\u001b[0m\u001b[0;34m\u001b[0m\u001b[0m\n\u001b[1;32m    136\u001b[0m \u001b[0;34m\u001b[0m\u001b[0m\n",
      "\u001b[0;32m~/opt/anaconda3/lib/python3.8/site-packages/nltk/data.py\u001b[0m in \u001b[0;36mreadline\u001b[0;34m(self, size)\u001b[0m\n\u001b[1;32m   1097\u001b[0m         \u001b[0;32mwhile\u001b[0m \u001b[0;32mTrue\u001b[0m\u001b[0;34m:\u001b[0m\u001b[0;34m\u001b[0m\u001b[0;34m\u001b[0m\u001b[0m\n\u001b[1;32m   1098\u001b[0m             \u001b[0mstartpos\u001b[0m \u001b[0;34m=\u001b[0m \u001b[0mself\u001b[0m\u001b[0;34m.\u001b[0m\u001b[0mstream\u001b[0m\u001b[0;34m.\u001b[0m\u001b[0mtell\u001b[0m\u001b[0;34m(\u001b[0m\u001b[0;34m)\u001b[0m \u001b[0;34m-\u001b[0m \u001b[0mlen\u001b[0m\u001b[0;34m(\u001b[0m\u001b[0mself\u001b[0m\u001b[0;34m.\u001b[0m\u001b[0mbytebuffer\u001b[0m\u001b[0;34m)\u001b[0m\u001b[0;34m\u001b[0m\u001b[0;34m\u001b[0m\u001b[0m\n\u001b[0;32m-> 1099\u001b[0;31m             \u001b[0mnew_chars\u001b[0m \u001b[0;34m=\u001b[0m \u001b[0mself\u001b[0m\u001b[0;34m.\u001b[0m\u001b[0m_read\u001b[0m\u001b[0;34m(\u001b[0m\u001b[0mreadsize\u001b[0m\u001b[0;34m)\u001b[0m\u001b[0;34m\u001b[0m\u001b[0;34m\u001b[0m\u001b[0m\n\u001b[0m\u001b[1;32m   1100\u001b[0m \u001b[0;34m\u001b[0m\u001b[0m\n\u001b[1;32m   1101\u001b[0m             \u001b[0;31m# If we're at a '\\r', then read one extra character, since\u001b[0m\u001b[0;34m\u001b[0m\u001b[0;34m\u001b[0m\u001b[0;34m\u001b[0m\u001b[0m\n",
      "\u001b[0;32m~/opt/anaconda3/lib/python3.8/site-packages/nltk/data.py\u001b[0m in \u001b[0;36m_read\u001b[0;34m(self, size)\u001b[0m\n\u001b[1;32m   1335\u001b[0m \u001b[0;34m\u001b[0m\u001b[0m\n\u001b[1;32m   1336\u001b[0m         \u001b[0;31m# Decode the bytes into unicode characters\u001b[0m\u001b[0;34m\u001b[0m\u001b[0;34m\u001b[0m\u001b[0;34m\u001b[0m\u001b[0m\n\u001b[0;32m-> 1337\u001b[0;31m         \u001b[0mchars\u001b[0m\u001b[0;34m,\u001b[0m \u001b[0mbytes_decoded\u001b[0m \u001b[0;34m=\u001b[0m \u001b[0mself\u001b[0m\u001b[0;34m.\u001b[0m\u001b[0m_incr_decode\u001b[0m\u001b[0;34m(\u001b[0m\u001b[0mbytes\u001b[0m\u001b[0;34m)\u001b[0m\u001b[0;34m\u001b[0m\u001b[0;34m\u001b[0m\u001b[0m\n\u001b[0m\u001b[1;32m   1338\u001b[0m \u001b[0;34m\u001b[0m\u001b[0m\n\u001b[1;32m   1339\u001b[0m         \u001b[0;31m# If we got bytes but couldn't decode any, then read further.\u001b[0m\u001b[0;34m\u001b[0m\u001b[0;34m\u001b[0m\u001b[0;34m\u001b[0m\u001b[0m\n",
      "\u001b[0;32m~/opt/anaconda3/lib/python3.8/site-packages/nltk/data.py\u001b[0m in \u001b[0;36m_incr_decode\u001b[0;34m(self, bytes)\u001b[0m\n\u001b[1;32m   1366\u001b[0m         \u001b[0;32mwhile\u001b[0m \u001b[0;32mTrue\u001b[0m\u001b[0;34m:\u001b[0m\u001b[0;34m\u001b[0m\u001b[0;34m\u001b[0m\u001b[0m\n\u001b[1;32m   1367\u001b[0m             \u001b[0;32mtry\u001b[0m\u001b[0;34m:\u001b[0m\u001b[0;34m\u001b[0m\u001b[0;34m\u001b[0m\u001b[0m\n\u001b[0;32m-> 1368\u001b[0;31m                 \u001b[0;32mreturn\u001b[0m \u001b[0mself\u001b[0m\u001b[0;34m.\u001b[0m\u001b[0mdecode\u001b[0m\u001b[0;34m(\u001b[0m\u001b[0mbytes\u001b[0m\u001b[0;34m,\u001b[0m \u001b[0;34m\"strict\"\u001b[0m\u001b[0;34m)\u001b[0m\u001b[0;34m\u001b[0m\u001b[0;34m\u001b[0m\u001b[0m\n\u001b[0m\u001b[1;32m   1369\u001b[0m             \u001b[0;32mexcept\u001b[0m \u001b[0mUnicodeDecodeError\u001b[0m \u001b[0;32mas\u001b[0m \u001b[0mexc\u001b[0m\u001b[0;34m:\u001b[0m\u001b[0;34m\u001b[0m\u001b[0;34m\u001b[0m\u001b[0m\n\u001b[1;32m   1370\u001b[0m                 \u001b[0;31m# If the exception occurs at the end of the string,\u001b[0m\u001b[0;34m\u001b[0m\u001b[0;34m\u001b[0m\u001b[0;34m\u001b[0m\u001b[0m\n",
      "\u001b[0;32m~/opt/anaconda3/lib/python3.8/encodings/utf_8.py\u001b[0m in \u001b[0;36mdecode\u001b[0;34m(input, errors)\u001b[0m\n\u001b[1;32m     14\u001b[0m \u001b[0;34m\u001b[0m\u001b[0m\n\u001b[1;32m     15\u001b[0m \u001b[0;32mdef\u001b[0m \u001b[0mdecode\u001b[0m\u001b[0;34m(\u001b[0m\u001b[0minput\u001b[0m\u001b[0;34m,\u001b[0m \u001b[0merrors\u001b[0m\u001b[0;34m=\u001b[0m\u001b[0;34m'strict'\u001b[0m\u001b[0;34m)\u001b[0m\u001b[0;34m:\u001b[0m\u001b[0;34m\u001b[0m\u001b[0;34m\u001b[0m\u001b[0m\n\u001b[0;32m---> 16\u001b[0;31m     \u001b[0;32mreturn\u001b[0m \u001b[0mcodecs\u001b[0m\u001b[0;34m.\u001b[0m\u001b[0mutf_8_decode\u001b[0m\u001b[0;34m(\u001b[0m\u001b[0minput\u001b[0m\u001b[0;34m,\u001b[0m \u001b[0merrors\u001b[0m\u001b[0;34m,\u001b[0m \u001b[0;32mTrue\u001b[0m\u001b[0;34m)\u001b[0m\u001b[0;34m\u001b[0m\u001b[0;34m\u001b[0m\u001b[0m\n\u001b[0m\u001b[1;32m     17\u001b[0m \u001b[0;34m\u001b[0m\u001b[0m\n\u001b[1;32m     18\u001b[0m \u001b[0;32mclass\u001b[0m \u001b[0mIncrementalEncoder\u001b[0m\u001b[0;34m(\u001b[0m\u001b[0mcodecs\u001b[0m\u001b[0;34m.\u001b[0m\u001b[0mIncrementalEncoder\u001b[0m\u001b[0;34m)\u001b[0m\u001b[0;34m:\u001b[0m\u001b[0;34m\u001b[0m\u001b[0;34m\u001b[0m\u001b[0m\n",
      "\u001b[0;31mUnicodeDecodeError\u001b[0m: 'utf-8' codec can't decode byte 0xfb in position 443: invalid start byte"
     ]
    }
   ],
   "source": [
    "for name in books:\n",
    "    nltk.Text(newcorpus.words(name))"
   ]
  },
  {
   "cell_type": "code",
   "execution_count": 92,
   "id": "83a4ca09",
   "metadata": {},
   "outputs": [
    {
     "name": "stdout",
     "output_type": "stream",
     "text": [
      "01 - The Fellowship Of The Ring.txt\n",
      "02 - The Two Towers.txt\n",
      "03 - The Return Of The King.txt\n"
     ]
    }
   ],
   "source": [
    "# Calculate TC-IDF ranking\n",
    "def calcRate(namesInRace):\n",
    "    wordsInRace = defaultdict(list)\n",
    "    appearsInCorpus = defaultdict(list)\n",
    "    \n",
    "    for name in namesInRace:\n",
    "#         theText = nltk.Text(newcorpus.words(name))\n",
    "#         print(newcorpus.word(name))\n",
    "\n",
    "        print(name)\n",
    "        \n",
    "#         len(nltk.Text(newcorpus.words(name + '.txt')))\n",
    "        \n",
    "#         fdist = FreqDist(theText)\n",
    "        \n",
    "#         for word in fdist:\n",
    "#             wordTC = fdist[word]\n",
    "                \n",
    "#             wordsInRace[word].append(wordTC)\n",
    "#             appearsInCorpus[word].append(name)\n",
    "    \n",
    "        superstring = \"hello hello yes\"\n",
    "#     for key, value in wordsInRace.items():\n",
    "#         TC = sum(value)\n",
    "#         IDF = math.log(len(namesInRace) / len(appearsInCorpus[key]))\n",
    "\n",
    "#         TCIDF = math.ceil(TC*IDF)\n",
    "        \n",
    "#         superstring += (key + \" \") * TCIDF\n",
    "\n",
    "    return superstring\n",
    "\n",
    "testCloud = calcRate(books)"
   ]
  },
  {
   "cell_type": "code",
   "execution_count": 77,
   "id": "deed2987",
   "metadata": {},
   "outputs": [
    {
     "data": {
      "image/png": "[encoded data removed]",
      "text/plain": [
       "<Figure size 720x432 with 1 Axes>"
      ]
     },
     "metadata": {
      "needs_background": "light"
     },
     "output_type": "display_data"
    }
   ],
   "source": [
    "testCloud = calcRate(books)\n",
    "\n",
    "plt.figure( figsize=(10,6))\n",
    "wordcloud = WordCloud(background_color=\"white\", max_words=80, collocations = False).generate(testCloud)\n",
    "plt.imshow(wordcloud)\n",
    "plt.axis(\"off\")\n",
    "plt.title(\"Test word cloud\")\n",
    "plt.show()"
   ]
  },
  {
   "cell_type": "code",
   "execution_count": null,
   "id": "cac72017",
   "metadata": {},
   "outputs": [],
   "source": []
  }
 ],
 "metadata": {
  "kernelspec": {
   "display_name": "Python 3",
   "language": "python",
   "name": "python3"
  },
  "language_info": {
   "codemirror_mode": {
    "name": "ipython",
    "version": 3
   },
   "file_extension": ".py",
   "mimetype": "text/x-python",
   "name": "python",
   "nbconvert_exporter": "python",
   "pygments_lexer": "ipython3",
   "version": "3.8.8"
  }
 },
 "nbformat": 4,
 "nbformat_minor": 5
}
